{
 "cells": [
  {
   "cell_type": "code",
<<<<<<< HEAD
<<<<<<< HEAD
   "execution_count": 32,
   "id": "8c35e5d4",
=======
   "execution_count": 19,
>>>>>>> a7b3146fa87b1a8590e95cf10a67c04197a97328
=======
   "execution_count": 19,
>>>>>>> a7b3146fa87b1a8590e95cf10a67c04197a97328
   "metadata": {},
   "outputs": [],
   "source": [
    "import numpy as np\n",
    "import pandas as pd\n",
<<<<<<< HEAD
<<<<<<< HEAD
    "import matplotlib.pyplot as plt\n",
    "import seaborn as sns"
=======
=======
>>>>>>> a7b3146fa87b1a8590e95cf10a67c04197a97328
    "import seaborn as sns\n",
    "import matplotlib.pyplot as plt\n",
    "\n",
    "from sklearn.model_selection import train_test_split, cross_val_score\n",
    "from sklearn.preprocessing import StandardScaler\n",
    "from sklearn.metrics import r2_score, mean_absolute_error, mean_squared_error\n",
    "\n",
    "from sklearn.linear_model import LinearRegression\n",
    "from sklearn.linear_model import Ridge\n",
    "from sklearn.linear_model import Lasso\n",
    "from sklearn.linear_model import ElasticNet\n",
    "from sklearn.ensemble import RandomForestRegressor\n",
    "from sklearn.svm import SVR\n",
    "from xgboost import XGBRegressor"
<<<<<<< HEAD
>>>>>>> a7b3146fa87b1a8590e95cf10a67c04197a97328
=======
>>>>>>> a7b3146fa87b1a8590e95cf10a67c04197a97328
   ]
  },
  {
   "cell_type": "code",
<<<<<<< HEAD
<<<<<<< HEAD
   "execution_count": 33,
   "id": "685a66de",
   "metadata": {},
   "outputs": [],
   "source": [
    "df=pd.read_csv('../data/data.csv')"
=======
=======
>>>>>>> a7b3146fa87b1a8590e95cf10a67c04197a97328
   "execution_count": 2,
   "metadata": {},
   "outputs": [],
   "source": [
    "df = pd.read_csv('../data/data.csv')"
<<<<<<< HEAD
>>>>>>> a7b3146fa87b1a8590e95cf10a67c04197a97328
=======
>>>>>>> a7b3146fa87b1a8590e95cf10a67c04197a97328
   ]
  },
  {
   "cell_type": "code",
<<<<<<< HEAD
<<<<<<< HEAD
   "execution_count": 34,
   "id": "cadf126d",
=======
   "execution_count": 3,
>>>>>>> a7b3146fa87b1a8590e95cf10a67c04197a97328
=======
   "execution_count": 3,
>>>>>>> a7b3146fa87b1a8590e95cf10a67c04197a97328
   "metadata": {},
   "outputs": [
    {
     "data": {
      "text/html": [
       "<div>\n",
       "<style scoped>\n",
       "    .dataframe tbody tr th:only-of-type {\n",
       "        vertical-align: middle;\n",
       "    }\n",
       "\n",
       "    .dataframe tbody tr th {\n",
       "        vertical-align: top;\n",
       "    }\n",
       "\n",
       "    .dataframe thead th {\n",
       "        text-align: right;\n",
       "    }\n",
       "</style>\n",
       "<table border=\"1\" class=\"dataframe\">\n",
       "  <thead>\n",
       "    <tr style=\"text-align: right;\">\n",
       "      <th></th>\n",
       "      <th>overall_rating</th>\n",
       "      <th>potential</th>\n",
       "      <th>crossing</th>\n",
       "      <th>finishing</th>\n",
       "      <th>heading_accuracy</th>\n",
       "      <th>short_passing</th>\n",
       "      <th>volleys</th>\n",
       "      <th>dribbling</th>\n",
       "      <th>curve</th>\n",
       "      <th>free_kick_accuracy</th>\n",
       "      <th>...</th>\n",
       "      <th>defensive_work_rate_8</th>\n",
       "      <th>defensive_work_rate_9</th>\n",
       "      <th>defensive_work_rate_ean</th>\n",
       "      <th>defensive_work_rate_es</th>\n",
       "      <th>defensive_work_rate_high</th>\n",
       "      <th>defensive_work_rate_low</th>\n",
       "      <th>defensive_work_rate_medium</th>\n",
       "      <th>defensive_work_rate_o</th>\n",
       "      <th>defensive_work_rate_ormal</th>\n",
       "      <th>defensive_work_rate_tocky</th>\n",
       "    </tr>\n",
       "  </thead>\n",
       "  <tbody>\n",
       "    <tr>\n",
       "      <th>0</th>\n",
       "      <td>67.0</td>\n",
       "      <td>71.0</td>\n",
       "      <td>49.0</td>\n",
       "      <td>44.0</td>\n",
       "      <td>71.0</td>\n",
       "      <td>61.0</td>\n",
       "      <td>44.0</td>\n",
       "      <td>51.0</td>\n",
       "      <td>45.0</td>\n",
       "      <td>39.0</td>\n",
       "      <td>...</td>\n",
       "      <td>0</td>\n",
       "      <td>0</td>\n",
       "      <td>0</td>\n",
       "      <td>0</td>\n",
       "      <td>0</td>\n",
       "      <td>0</td>\n",
       "      <td>1</td>\n",
       "      <td>0</td>\n",
       "      <td>0</td>\n",
       "      <td>0</td>\n",
       "    </tr>\n",
       "    <tr>\n",
       "      <th>1</th>\n",
       "      <td>67.0</td>\n",
       "      <td>71.0</td>\n",
       "      <td>49.0</td>\n",
       "      <td>44.0</td>\n",
       "      <td>71.0</td>\n",
       "      <td>61.0</td>\n",
       "      <td>44.0</td>\n",
       "      <td>51.0</td>\n",
       "      <td>45.0</td>\n",
       "      <td>39.0</td>\n",
       "      <td>...</td>\n",
       "      <td>0</td>\n",
       "      <td>0</td>\n",
       "      <td>0</td>\n",
       "      <td>0</td>\n",
       "      <td>0</td>\n",
       "      <td>0</td>\n",
       "      <td>1</td>\n",
       "      <td>0</td>\n",
       "      <td>0</td>\n",
       "      <td>0</td>\n",
       "    </tr>\n",
       "    <tr>\n",
       "      <th>2</th>\n",
       "      <td>62.0</td>\n",
       "      <td>66.0</td>\n",
       "      <td>49.0</td>\n",
       "      <td>44.0</td>\n",
       "      <td>71.0</td>\n",
       "      <td>61.0</td>\n",
       "      <td>44.0</td>\n",
       "      <td>51.0</td>\n",
       "      <td>45.0</td>\n",
       "      <td>39.0</td>\n",
       "      <td>...</td>\n",
       "      <td>0</td>\n",
       "      <td>0</td>\n",
       "      <td>0</td>\n",
       "      <td>0</td>\n",
       "      <td>0</td>\n",
       "      <td>0</td>\n",
       "      <td>1</td>\n",
       "      <td>0</td>\n",
       "      <td>0</td>\n",
       "      <td>0</td>\n",
       "    </tr>\n",
       "    <tr>\n",
       "      <th>3</th>\n",
       "      <td>61.0</td>\n",
       "      <td>65.0</td>\n",
       "      <td>48.0</td>\n",
       "      <td>43.0</td>\n",
       "      <td>70.0</td>\n",
       "      <td>60.0</td>\n",
       "      <td>43.0</td>\n",
       "      <td>50.0</td>\n",
       "      <td>44.0</td>\n",
       "      <td>38.0</td>\n",
       "      <td>...</td>\n",
       "      <td>0</td>\n",
       "      <td>0</td>\n",
       "      <td>0</td>\n",
       "      <td>0</td>\n",
       "      <td>0</td>\n",
       "      <td>0</td>\n",
       "      <td>1</td>\n",
       "      <td>0</td>\n",
       "      <td>0</td>\n",
       "      <td>0</td>\n",
       "    </tr>\n",
       "    <tr>\n",
       "      <th>4</th>\n",
       "      <td>61.0</td>\n",
       "      <td>65.0</td>\n",
       "      <td>48.0</td>\n",
       "      <td>43.0</td>\n",
       "      <td>70.0</td>\n",
       "      <td>60.0</td>\n",
       "      <td>43.0</td>\n",
       "      <td>50.0</td>\n",
       "      <td>44.0</td>\n",
       "      <td>38.0</td>\n",
       "      <td>...</td>\n",
       "      <td>0</td>\n",
       "      <td>0</td>\n",
       "      <td>0</td>\n",
       "      <td>0</td>\n",
       "      <td>0</td>\n",
       "      <td>0</td>\n",
       "      <td>1</td>\n",
       "      <td>0</td>\n",
       "      <td>0</td>\n",
       "      <td>0</td>\n",
       "    </tr>\n",
<<<<<<< HEAD
<<<<<<< HEAD
       "  </tbody>\n",
       "</table>\n",
       "<p>5 rows × 60 columns</p>\n",
       "</div>"
      ],
      "text/plain": [
       "   overall_rating  potential  crossing  finishing  heading_accuracy  \\\n",
       "0            67.0       71.0      49.0       44.0              71.0   \n",
       "1            67.0       71.0      49.0       44.0              71.0   \n",
       "2            62.0       66.0      49.0       44.0              71.0   \n",
       "3            61.0       65.0      48.0       43.0              70.0   \n",
       "4            61.0       65.0      48.0       43.0              70.0   \n",
       "\n",
       "   short_passing  volleys  dribbling  curve  free_kick_accuracy  ...  \\\n",
       "0           61.0     44.0       51.0   45.0                39.0  ...   \n",
       "1           61.0     44.0       51.0   45.0                39.0  ...   \n",
       "2           61.0     44.0       51.0   45.0                39.0  ...   \n",
       "3           60.0     43.0       50.0   44.0                38.0  ...   \n",
       "4           60.0     43.0       50.0   44.0                38.0  ...   \n",
       "\n",
       "   defensive_work_rate_8  defensive_work_rate_9  defensive_work_rate_ean  \\\n",
       "0                      0                      0                        0   \n",
       "1                      0                      0                        0   \n",
       "2                      0                      0                        0   \n",
       "3                      0                      0                        0   \n",
       "4                      0                      0                        0   \n",
       "\n",
       "   defensive_work_rate_es  defensive_work_rate_high  defensive_work_rate_low  \\\n",
       "0                       0                         0                        0   \n",
       "1                       0                         0                        0   \n",
       "2                       0                         0                        0   \n",
       "3                       0                         0                        0   \n",
       "4                       0                         0                        0   \n",
       "\n",
       "   defensive_work_rate_medium  defensive_work_rate_o  \\\n",
       "0                           1                      0   \n",
       "1                           1                      0   \n",
       "2                           1                      0   \n",
       "3                           1                      0   \n",
       "4                           1                      0   \n",
       "\n",
       "   defensive_work_rate_ormal  defensive_work_rate_tocky  \n",
       "0                          0                          0  \n",
       "1                          0                          0  \n",
       "2                          0                          0  \n",
       "3                          0                          0  \n",
       "4                          0                          0  \n",
       "\n",
       "[5 rows x 60 columns]"
      ]
     },
     "execution_count": 34,
     "metadata": {},
     "output_type": "execute_result"
    }
   ],
   "source": [
    "df.head()"
   ]
  },
  {
   "cell_type": "code",
   "execution_count": 35,
   "id": "d2ee6f56",
   "metadata": {},
   "outputs": [],
   "source": [
    "from sklearn.model_selection import train_test_split\n",
    "\n",
    "X = df.drop(columns=[\"overall_rating\"],axis=1)\n",
    "y = df['overall_rating']"
   ]
  },
  {
   "cell_type": "markdown",
   "id": "0811d143",
   "metadata": {},
   "source": [
    "## Feature Selection"
   ]
  },
  {
   "cell_type": "code",
   "execution_count": 36,
   "id": "9b196def",
   "metadata": {},
   "outputs": [],
   "source": [
    "from sklearn.feature_selection import SelectFromModel\n",
    "from sklearn.ensemble import AdaBoostRegressor"
   ]
  },
  {
   "cell_type": "code",
   "execution_count": 37,
   "id": "59b4a830",
   "metadata": {},
   "outputs": [],
   "source": [
    "estimator = AdaBoostRegressor(random_state=0, n_estimators=50)\n",
    "selector = SelectFromModel(estimator)\n",
    "selector = selector.fit(X, y) "
   ]
  },
  {
   "cell_type": "code",
   "execution_count": 38,
   "id": "0d094704",
   "metadata": {},
   "outputs": [
    {
     "name": "stdout",
     "output_type": "stream",
     "text": [
      "Selection status:  [ True False  True  True False False  True False False False  True False\n",
      " False False  True False  True False False  True False  True False False\n",
      " False False  True False False  True False  True  True False False False\n",
      " False False False False False False False False False False False False\n",
      " False False False False False False False False False False False]\n"
     ]
    }
   ],
   "source": [
    "status = selector.get_support()\n",
    "print(\"Selection status: \", status)"
   ]
  },
  {
   "cell_type": "code",
   "execution_count": 39,
   "id": "399de6f9",
   "metadata": {},
   "outputs": [
    {
     "name": "stdout",
     "output_type": "stream",
     "text": [
      "All features:\n",
      "['potential' 'crossing' 'finishing' 'heading_accuracy' 'short_passing'\n",
      " 'volleys' 'dribbling' 'curve' 'free_kick_accuracy' 'long_passing'\n",
      " 'ball_control' 'acceleration' 'sprint_speed' 'agility' 'reactions'\n",
      " 'balance' 'shot_power' 'jumping' 'stamina' 'strength' 'long_shots'\n",
      " 'aggression' 'interceptions' 'positioning' 'vision' 'penalties' 'marking'\n",
      " 'standing_tackle' 'sliding_tackle' 'gk_diving' 'gk_handling' 'gk_kicking'\n",
      " 'gk_positioning' 'gk_reflexes' 'preferred_foot_right'\n",
      " 'attacking_work_rate_high' 'attacking_work_rate_le'\n",
      " 'attacking_work_rate_low' 'attacking_work_rate_medium'\n",
      " 'attacking_work_rate_norm' 'attacking_work_rate_stoc'\n",
      " 'attacking_work_rate_y' 'defensive_work_rate_1' 'defensive_work_rate_2'\n",
      " 'defensive_work_rate_3' 'defensive_work_rate_4' 'defensive_work_rate_5'\n",
      " 'defensive_work_rate_6' 'defensive_work_rate_7' 'defensive_work_rate_8'\n",
      " 'defensive_work_rate_9' 'defensive_work_rate_ean'\n",
      " 'defensive_work_rate_es' 'defensive_work_rate_high'\n",
      " 'defensive_work_rate_low' 'defensive_work_rate_medium'\n",
      " 'defensive_work_rate_o' 'defensive_work_rate_ormal'\n",
      " 'defensive_work_rate_tocky']\n",
      "Selected features:\n",
      "['potential' 'finishing' 'heading_accuracy' 'dribbling' 'ball_control'\n",
      " 'reactions' 'shot_power' 'strength' 'aggression' 'marking' 'gk_diving'\n",
      " 'gk_kicking' 'gk_positioning']\n"
     ]
    },
    {
     "data": {
      "text/plain": [
       "array([[71., 44., 71., ...,  6., 10.,  8.],\n",
       "       [71., 44., 71., ...,  6., 10.,  8.],\n",
       "       [66., 44., 71., ...,  6., 10.,  8.],\n",
       "       ...,\n",
       "       [80., 71., 53., ...,  9., 73., 20.],\n",
       "       [81., 64., 57., ...,  9., 73., 20.],\n",
       "       [81., 68., 57., ...,  9., 78.,  7.]])"
      ]
     },
     "execution_count": 39,
     "metadata": {},
     "output_type": "execute_result"
    }
   ],
   "source": [
    "features = np.array(X.columns)\n",
    "print(\"All features:\")\n",
    "print(features) \n",
    "  \n",
    "print(\"Selected features:\")\n",
    "print(features[status])\n",
    "selector.transform(X) "
   ]
  },
  {
   "cell_type": "code",
   "execution_count": 40,
   "id": "8e32403f",
   "metadata": {},
   "outputs": [
    {
     "data": {
      "text/html": [
       "<div>\n",
       "<style scoped>\n",
       "    .dataframe tbody tr th:only-of-type {\n",
       "        vertical-align: middle;\n",
       "    }\n",
       "\n",
       "    .dataframe tbody tr th {\n",
       "        vertical-align: top;\n",
       "    }\n",
       "\n",
       "    .dataframe thead th {\n",
       "        text-align: right;\n",
       "    }\n",
       "</style>\n",
       "<table border=\"1\" class=\"dataframe\">\n",
       "  <thead>\n",
       "    <tr style=\"text-align: right;\">\n",
       "      <th></th>\n",
       "      <th>potential</th>\n",
       "      <th>finishing</th>\n",
       "      <th>heading_accuracy</th>\n",
       "      <th>dribbling</th>\n",
       "      <th>ball_control</th>\n",
       "      <th>reactions</th>\n",
       "      <th>shot_power</th>\n",
       "      <th>strength</th>\n",
       "      <th>aggression</th>\n",
       "      <th>marking</th>\n",
       "      <th>gk_diving</th>\n",
       "      <th>gk_kicking</th>\n",
       "      <th>gk_positioning</th>\n",
       "    </tr>\n",
       "  </thead>\n",
       "  <tbody>\n",
       "    <tr>\n",
       "      <th>0</th>\n",
       "      <td>71.0</td>\n",
       "      <td>44.0</td>\n",
       "      <td>71.0</td>\n",
       "      <td>51.0</td>\n",
       "      <td>49.0</td>\n",
       "      <td>47.0</td>\n",
       "      <td>55.0</td>\n",
       "      <td>76.0</td>\n",
       "      <td>71.0</td>\n",
       "      <td>65.0</td>\n",
       "      <td>6.0</td>\n",
       "      <td>10.0</td>\n",
       "      <td>8.0</td>\n",
       "    </tr>\n",
       "    <tr>\n",
       "      <th>1</th>\n",
       "      <td>71.0</td>\n",
       "      <td>44.0</td>\n",
       "      <td>71.0</td>\n",
       "      <td>51.0</td>\n",
       "      <td>49.0</td>\n",
       "      <td>47.0</td>\n",
       "      <td>55.0</td>\n",
       "      <td>76.0</td>\n",
       "      <td>71.0</td>\n",
       "      <td>65.0</td>\n",
       "      <td>6.0</td>\n",
       "      <td>10.0</td>\n",
       "      <td>8.0</td>\n",
       "    </tr>\n",
       "    <tr>\n",
       "      <th>2</th>\n",
       "      <td>66.0</td>\n",
       "      <td>44.0</td>\n",
       "      <td>71.0</td>\n",
       "      <td>51.0</td>\n",
       "      <td>49.0</td>\n",
       "      <td>47.0</td>\n",
       "      <td>55.0</td>\n",
       "      <td>76.0</td>\n",
       "      <td>63.0</td>\n",
       "      <td>65.0</td>\n",
       "      <td>6.0</td>\n",
       "      <td>10.0</td>\n",
       "      <td>8.0</td>\n",
       "    </tr>\n",
       "    <tr>\n",
       "      <th>3</th>\n",
       "      <td>65.0</td>\n",
       "      <td>43.0</td>\n",
       "      <td>70.0</td>\n",
       "      <td>50.0</td>\n",
       "      <td>48.0</td>\n",
       "      <td>46.0</td>\n",
       "      <td>54.0</td>\n",
       "      <td>76.0</td>\n",
       "      <td>62.0</td>\n",
       "      <td>62.0</td>\n",
       "      <td>5.0</td>\n",
       "      <td>9.0</td>\n",
       "      <td>7.0</td>\n",
       "    </tr>\n",
       "    <tr>\n",
       "      <th>4</th>\n",
       "      <td>65.0</td>\n",
       "      <td>43.0</td>\n",
       "      <td>70.0</td>\n",
       "      <td>50.0</td>\n",
       "      <td>48.0</td>\n",
       "      <td>46.0</td>\n",
       "      <td>54.0</td>\n",
       "      <td>76.0</td>\n",
       "      <td>62.0</td>\n",
       "      <td>62.0</td>\n",
       "      <td>5.0</td>\n",
       "      <td>9.0</td>\n",
       "      <td>7.0</td>\n",
       "    </tr>\n",
=======
>>>>>>> a7b3146fa87b1a8590e95cf10a67c04197a97328
=======
>>>>>>> a7b3146fa87b1a8590e95cf10a67c04197a97328
       "    <tr>\n",
       "      <th>...</th>\n",
       "      <td>...</td>\n",
       "      <td>...</td>\n",
       "      <td>...</td>\n",
       "      <td>...</td>\n",
       "      <td>...</td>\n",
       "      <td>...</td>\n",
       "      <td>...</td>\n",
       "      <td>...</td>\n",
       "      <td>...</td>\n",
       "      <td>...</td>\n",
       "      <td>...</td>\n",
       "      <td>...</td>\n",
       "      <td>...</td>\n",
<<<<<<< HEAD
<<<<<<< HEAD
       "    </tr>\n",
       "    <tr>\n",
       "      <th>180349</th>\n",
       "      <td>85.0</td>\n",
       "      <td>77.0</td>\n",
       "      <td>59.0</td>\n",
       "      <td>84.0</td>\n",
       "      <td>85.0</td>\n",
       "      <td>86.0</td>\n",
       "      <td>76.0</td>\n",
       "      <td>67.0</td>\n",
       "      <td>56.0</td>\n",
       "      <td>22.0</td>\n",
       "      <td>9.0</td>\n",
       "      <td>84.0</td>\n",
       "      <td>20.0</td>\n",
       "    </tr>\n",
       "    <tr>\n",
       "      <th>180350</th>\n",
       "      <td>80.0</td>\n",
       "      <td>76.0</td>\n",
       "      <td>53.0</td>\n",
       "      <td>85.0</td>\n",
       "      <td>86.0</td>\n",
       "      <td>74.0</td>\n",
       "      <td>75.0</td>\n",
       "      <td>65.0</td>\n",
       "      <td>61.0</td>\n",
       "      <td>32.0</td>\n",
       "      <td>9.0</td>\n",
       "      <td>73.0</td>\n",
       "      <td>20.0</td>\n",
       "    </tr>\n",
       "    <tr>\n",
       "      <th>180351</th>\n",
       "      <td>80.0</td>\n",
       "      <td>71.0</td>\n",
       "      <td>53.0</td>\n",
       "      <td>85.0</td>\n",
       "      <td>86.0</td>\n",
       "      <td>74.0</td>\n",
       "      <td>75.0</td>\n",
       "      <td>65.0</td>\n",
       "      <td>67.0</td>\n",
       "      <td>32.0</td>\n",
       "      <td>9.0</td>\n",
       "      <td>73.0</td>\n",
       "      <td>20.0</td>\n",
       "    </tr>\n",
       "    <tr>\n",
       "      <th>180352</th>\n",
       "      <td>81.0</td>\n",
       "      <td>64.0</td>\n",
       "      <td>57.0</td>\n",
       "      <td>87.0</td>\n",
       "      <td>91.0</td>\n",
       "      <td>69.0</td>\n",
       "      <td>72.0</td>\n",
       "      <td>59.0</td>\n",
       "      <td>63.0</td>\n",
       "      <td>28.0</td>\n",
       "      <td>9.0</td>\n",
       "      <td>73.0</td>\n",
       "      <td>20.0</td>\n",
       "    </tr>\n",
       "    <tr>\n",
       "      <th>180353</th>\n",
       "      <td>81.0</td>\n",
       "      <td>68.0</td>\n",
       "      <td>57.0</td>\n",
       "      <td>87.0</td>\n",
       "      <td>91.0</td>\n",
       "      <td>66.0</td>\n",
       "      <td>72.0</td>\n",
       "      <td>59.0</td>\n",
       "      <td>63.0</td>\n",
       "      <td>38.0</td>\n",
       "      <td>9.0</td>\n",
       "      <td>78.0</td>\n",
       "      <td>7.0</td>\n",
       "    </tr>\n",
       "  </tbody>\n",
       "</table>\n",
       "<p>180354 rows × 13 columns</p>\n",
       "</div>"
      ],
      "text/plain": [
       "        potential  finishing  heading_accuracy  dribbling  ball_control  \\\n",
       "0            71.0       44.0              71.0       51.0          49.0   \n",
       "1            71.0       44.0              71.0       51.0          49.0   \n",
       "2            66.0       44.0              71.0       51.0          49.0   \n",
       "3            65.0       43.0              70.0       50.0          48.0   \n",
       "4            65.0       43.0              70.0       50.0          48.0   \n",
       "...           ...        ...               ...        ...           ...   \n",
       "180349       85.0       77.0              59.0       84.0          85.0   \n",
       "180350       80.0       76.0              53.0       85.0          86.0   \n",
       "180351       80.0       71.0              53.0       85.0          86.0   \n",
       "180352       81.0       64.0              57.0       87.0          91.0   \n",
       "180353       81.0       68.0              57.0       87.0          91.0   \n",
       "\n",
       "        reactions  shot_power  strength  aggression  marking  gk_diving  \\\n",
       "0            47.0        55.0      76.0        71.0     65.0        6.0   \n",
       "1            47.0        55.0      76.0        71.0     65.0        6.0   \n",
       "2            47.0        55.0      76.0        63.0     65.0        6.0   \n",
       "3            46.0        54.0      76.0        62.0     62.0        5.0   \n",
       "4            46.0        54.0      76.0        62.0     62.0        5.0   \n",
       "...           ...         ...       ...         ...      ...        ...   \n",
       "180349       86.0        76.0      67.0        56.0     22.0        9.0   \n",
       "180350       74.0        75.0      65.0        61.0     32.0        9.0   \n",
       "180351       74.0        75.0      65.0        67.0     32.0        9.0   \n",
       "180352       69.0        72.0      59.0        63.0     28.0        9.0   \n",
       "180353       66.0        72.0      59.0        63.0     38.0        9.0   \n",
       "\n",
       "        gk_kicking  gk_positioning  \n",
       "0             10.0             8.0  \n",
       "1             10.0             8.0  \n",
       "2             10.0             8.0  \n",
       "3              9.0             7.0  \n",
       "4              9.0             7.0  \n",
       "...            ...             ...  \n",
       "180349        84.0            20.0  \n",
       "180350        73.0            20.0  \n",
       "180351        73.0            20.0  \n",
       "180352        73.0            20.0  \n",
       "180353        78.0             7.0  \n",
       "\n",
       "[180354 rows x 13 columns]"
      ]
     },
     "execution_count": 40,
=======
=======
>>>>>>> a7b3146fa87b1a8590e95cf10a67c04197a97328
       "      <td>...</td>\n",
       "      <td>...</td>\n",
       "      <td>...</td>\n",
       "      <td>...</td>\n",
       "      <td>...</td>\n",
       "      <td>...</td>\n",
       "      <td>...</td>\n",
       "      <td>...</td>\n",
       "    </tr>\n",
       "    <tr>\n",
       "      <th>180349</th>\n",
       "      <td>83.0</td>\n",
       "      <td>85.0</td>\n",
       "      <td>84.0</td>\n",
       "      <td>77.0</td>\n",
       "      <td>59.0</td>\n",
       "      <td>89.0</td>\n",
       "      <td>77.0</td>\n",
       "      <td>84.0</td>\n",
       "      <td>86.0</td>\n",
       "      <td>78.0</td>\n",
       "      <td>...</td>\n",
       "      <td>0</td>\n",
       "      <td>0</td>\n",
       "      <td>0</td>\n",
       "      <td>0</td>\n",
       "      <td>0</td>\n",
       "      <td>1</td>\n",
       "      <td>0</td>\n",
       "      <td>0</td>\n",
       "      <td>0</td>\n",
       "      <td>0</td>\n",
       "    </tr>\n",
       "    <tr>\n",
       "      <th>180350</th>\n",
       "      <td>78.0</td>\n",
       "      <td>80.0</td>\n",
       "      <td>74.0</td>\n",
       "      <td>76.0</td>\n",
       "      <td>53.0</td>\n",
       "      <td>84.0</td>\n",
       "      <td>77.0</td>\n",
       "      <td>85.0</td>\n",
       "      <td>86.0</td>\n",
       "      <td>74.0</td>\n",
       "      <td>...</td>\n",
       "      <td>0</td>\n",
       "      <td>0</td>\n",
       "      <td>0</td>\n",
       "      <td>0</td>\n",
       "      <td>0</td>\n",
       "      <td>1</td>\n",
       "      <td>0</td>\n",
       "      <td>0</td>\n",
       "      <td>0</td>\n",
       "      <td>0</td>\n",
       "    </tr>\n",
       "    <tr>\n",
       "      <th>180351</th>\n",
       "      <td>77.0</td>\n",
       "      <td>80.0</td>\n",
       "      <td>74.0</td>\n",
       "      <td>71.0</td>\n",
       "      <td>53.0</td>\n",
       "      <td>84.0</td>\n",
       "      <td>77.0</td>\n",
       "      <td>85.0</td>\n",
       "      <td>86.0</td>\n",
       "      <td>74.0</td>\n",
       "      <td>...</td>\n",
       "      <td>0</td>\n",
       "      <td>0</td>\n",
       "      <td>0</td>\n",
       "      <td>0</td>\n",
       "      <td>0</td>\n",
       "      <td>1</td>\n",
       "      <td>0</td>\n",
       "      <td>0</td>\n",
       "      <td>0</td>\n",
       "      <td>0</td>\n",
       "    </tr>\n",
       "    <tr>\n",
       "      <th>180352</th>\n",
       "      <td>78.0</td>\n",
       "      <td>81.0</td>\n",
       "      <td>74.0</td>\n",
       "      <td>64.0</td>\n",
       "      <td>57.0</td>\n",
       "      <td>86.0</td>\n",
       "      <td>77.0</td>\n",
       "      <td>87.0</td>\n",
       "      <td>86.0</td>\n",
       "      <td>73.0</td>\n",
       "      <td>...</td>\n",
       "      <td>0</td>\n",
       "      <td>0</td>\n",
       "      <td>0</td>\n",
       "      <td>0</td>\n",
       "      <td>0</td>\n",
       "      <td>1</td>\n",
       "      <td>0</td>\n",
       "      <td>0</td>\n",
       "      <td>0</td>\n",
       "      <td>0</td>\n",
       "    </tr>\n",
       "    <tr>\n",
       "      <th>180353</th>\n",
       "      <td>80.0</td>\n",
       "      <td>81.0</td>\n",
       "      <td>74.0</td>\n",
       "      <td>68.0</td>\n",
       "      <td>57.0</td>\n",
       "      <td>88.0</td>\n",
       "      <td>77.0</td>\n",
       "      <td>87.0</td>\n",
       "      <td>86.0</td>\n",
       "      <td>53.0</td>\n",
       "      <td>...</td>\n",
       "      <td>0</td>\n",
       "      <td>0</td>\n",
       "      <td>0</td>\n",
       "      <td>0</td>\n",
       "      <td>0</td>\n",
       "      <td>1</td>\n",
       "      <td>0</td>\n",
       "      <td>0</td>\n",
       "      <td>0</td>\n",
       "      <td>0</td>\n",
       "    </tr>\n",
       "  </tbody>\n",
       "</table>\n",
       "<p>180354 rows × 60 columns</p>\n",
       "</div>"
      ],
      "text/plain": [
       "        overall_rating  potential  crossing  finishing  heading_accuracy  \\\n",
       "0                 67.0       71.0      49.0       44.0              71.0   \n",
       "1                 67.0       71.0      49.0       44.0              71.0   \n",
       "2                 62.0       66.0      49.0       44.0              71.0   \n",
       "3                 61.0       65.0      48.0       43.0              70.0   \n",
       "4                 61.0       65.0      48.0       43.0              70.0   \n",
       "...                ...        ...       ...        ...               ...   \n",
       "180349            83.0       85.0      84.0       77.0              59.0   \n",
       "180350            78.0       80.0      74.0       76.0              53.0   \n",
       "180351            77.0       80.0      74.0       71.0              53.0   \n",
       "180352            78.0       81.0      74.0       64.0              57.0   \n",
       "180353            80.0       81.0      74.0       68.0              57.0   \n",
       "\n",
       "        short_passing  volleys  dribbling  curve  free_kick_accuracy  ...  \\\n",
       "0                61.0     44.0       51.0   45.0                39.0  ...   \n",
       "1                61.0     44.0       51.0   45.0                39.0  ...   \n",
       "2                61.0     44.0       51.0   45.0                39.0  ...   \n",
       "3                60.0     43.0       50.0   44.0                38.0  ...   \n",
       "4                60.0     43.0       50.0   44.0                38.0  ...   \n",
       "...               ...      ...        ...    ...                 ...  ...   \n",
       "180349           89.0     77.0       84.0   86.0                78.0  ...   \n",
       "180350           84.0     77.0       85.0   86.0                74.0  ...   \n",
       "180351           84.0     77.0       85.0   86.0                74.0  ...   \n",
       "180352           86.0     77.0       87.0   86.0                73.0  ...   \n",
       "180353           88.0     77.0       87.0   86.0                53.0  ...   \n",
       "\n",
       "        defensive_work_rate_8  defensive_work_rate_9  defensive_work_rate_ean  \\\n",
       "0                           0                      0                        0   \n",
       "1                           0                      0                        0   \n",
       "2                           0                      0                        0   \n",
       "3                           0                      0                        0   \n",
       "4                           0                      0                        0   \n",
       "...                       ...                    ...                      ...   \n",
       "180349                      0                      0                        0   \n",
       "180350                      0                      0                        0   \n",
       "180351                      0                      0                        0   \n",
       "180352                      0                      0                        0   \n",
       "180353                      0                      0                        0   \n",
       "\n",
       "        defensive_work_rate_es  defensive_work_rate_high  \\\n",
       "0                            0                         0   \n",
       "1                            0                         0   \n",
       "2                            0                         0   \n",
       "3                            0                         0   \n",
       "4                            0                         0   \n",
       "...                        ...                       ...   \n",
       "180349                       0                         0   \n",
       "180350                       0                         0   \n",
       "180351                       0                         0   \n",
       "180352                       0                         0   \n",
       "180353                       0                         0   \n",
       "\n",
       "        defensive_work_rate_low  defensive_work_rate_medium  \\\n",
       "0                             0                           1   \n",
       "1                             0                           1   \n",
       "2                             0                           1   \n",
       "3                             0                           1   \n",
       "4                             0                           1   \n",
       "...                         ...                         ...   \n",
       "180349                        1                           0   \n",
       "180350                        1                           0   \n",
       "180351                        1                           0   \n",
       "180352                        1                           0   \n",
       "180353                        1                           0   \n",
       "\n",
       "        defensive_work_rate_o  defensive_work_rate_ormal  \\\n",
       "0                           0                          0   \n",
       "1                           0                          0   \n",
       "2                           0                          0   \n",
       "3                           0                          0   \n",
       "4                           0                          0   \n",
       "...                       ...                        ...   \n",
       "180349                      0                          0   \n",
       "180350                      0                          0   \n",
       "180351                      0                          0   \n",
       "180352                      0                          0   \n",
       "180353                      0                          0   \n",
       "\n",
       "        defensive_work_rate_tocky  \n",
       "0                               0  \n",
       "1                               0  \n",
       "2                               0  \n",
       "3                               0  \n",
       "4                               0  \n",
       "...                           ...  \n",
       "180349                          0  \n",
       "180350                          0  \n",
       "180351                          0  \n",
       "180352                          0  \n",
       "180353                          0  \n",
       "\n",
       "[180354 rows x 60 columns]"
      ]
     },
     "execution_count": 3,
<<<<<<< HEAD
>>>>>>> a7b3146fa87b1a8590e95cf10a67c04197a97328
=======
>>>>>>> a7b3146fa87b1a8590e95cf10a67c04197a97328
     "metadata": {},
     "output_type": "execute_result"
    }
   ],
   "source": [
<<<<<<< HEAD
<<<<<<< HEAD
    "X=X[features[status]]\n",
    "X"
=======
    "df"
>>>>>>> a7b3146fa87b1a8590e95cf10a67c04197a97328
=======
    "df"
>>>>>>> a7b3146fa87b1a8590e95cf10a67c04197a97328
   ]
  },
  {
   "cell_type": "code",
<<<<<<< HEAD
<<<<<<< HEAD
   "execution_count": 41,
   "id": "0a72abc5",
=======
=======
>>>>>>> a7b3146fa87b1a8590e95cf10a67c04197a97328
   "execution_count": null,
   "metadata": {},
   "outputs": [],
   "source": [
    "# Model without scaled data"
   ]
  },
  {
   "cell_type": "code",
   "execution_count": 4,
   "metadata": {},
   "outputs": [],
   "source": [
    "X = df.drop(columns=[\"overall_rating\"],axis=1)\n",
    "y = df['overall_rating']"
   ]
  },
  {
   "cell_type": "code",
   "execution_count": 5,
   "metadata": {},
   "outputs": [],
   "source": [
    "from sklearn.model_selection import train_test_split"
   ]
  },
  {
   "cell_type": "code",
   "execution_count": 6,
<<<<<<< HEAD
>>>>>>> a7b3146fa87b1a8590e95cf10a67c04197a97328
=======
>>>>>>> a7b3146fa87b1a8590e95cf10a67c04197a97328
   "metadata": {},
   "outputs": [],
   "source": [
    "X_train, X_test, y_train, y_test = train_test_split(X, y, random_state=42, test_size=0.33)"
   ]
  },
  {
<<<<<<< HEAD
<<<<<<< HEAD
   "cell_type": "markdown",
   "id": "ba82d4b8",
   "metadata": {},
   "source": [
    "# Models"
=======
=======
>>>>>>> a7b3146fa87b1a8590e95cf10a67c04197a97328
   "cell_type": "code",
   "execution_count": 7,
   "metadata": {},
   "outputs": [
    {
     "name": "stdout",
     "output_type": "stream",
     "text": [
      "(120837, 59)\n",
      "(59517, 59)\n",
      "(120837,)\n",
      "(59517,)\n"
     ]
    }
   ],
   "source": [
    "print(X_train.shape)\n",
    "print(X_test.shape)\n",
    "print(y_train.shape)\n",
    "print(y_test.shape)"
<<<<<<< HEAD
>>>>>>> a7b3146fa87b1a8590e95cf10a67c04197a97328
=======
>>>>>>> a7b3146fa87b1a8590e95cf10a67c04197a97328
   ]
  },
  {
   "cell_type": "code",
<<<<<<< HEAD
<<<<<<< HEAD
   "execution_count": 42,
   "id": "973e0a39",
   "metadata": {},
   "outputs": [],
   "source": [
    "from sklearn.model_selection import train_test_split, cross_val_score\n",
    "from sklearn.metrics import r2_score, mean_absolute_error, mean_squared_error\n",
    "\n",
    "from sklearn.linear_model import LinearRegression\n",
    "from sklearn.linear_model import Ridge\n",
    "from sklearn.linear_model import Lasso\n",
    "from sklearn.linear_model import ElasticNet\n",
    "from sklearn.ensemble import RandomForestRegressor\n",
    "from xgboost import XGBRegressor"
   ]
  },
  {
   "cell_type": "code",
   "execution_count": 43,
   "id": "704e2947",
=======
   "execution_count": 8,
>>>>>>> a7b3146fa87b1a8590e95cf10a67c04197a97328
=======
   "execution_count": 8,
>>>>>>> a7b3146fa87b1a8590e95cf10a67c04197a97328
   "metadata": {},
   "outputs": [],
   "source": [
    "def rmse_cv(model):\n",
    "    rmse = np.sqrt(-cross_val_score(model, X, y, scoring=\"neg_mean_squared_error\", cv=5)).mean()\n",
    "    return rmse\n",
    "    \n",
    "\n",
    "def evaluation(y, predictions):\n",
    "    mae = mean_absolute_error(y, predictions)\n",
    "    mse = mean_squared_error(y, predictions)\n",
    "    rmse = np.sqrt(mean_squared_error(y, predictions))\n",
    "    r_squared = r2_score(y, predictions)\n",
<<<<<<< HEAD
<<<<<<< HEAD
    "    adj_r2 = 1 - (1-r_squared)*(len(X_test)-1)/(len(X_test)-X_test.shape[1]-1)\n",
    "    return mae, mse, rmse, r_squared, adj_r2"
=======
    "    return mae, mse, rmse, r_squared"
>>>>>>> a7b3146fa87b1a8590e95cf10a67c04197a97328
=======
    "    return mae, mse, rmse, r_squared"
>>>>>>> a7b3146fa87b1a8590e95cf10a67c04197a97328
   ]
  },
  {
   "cell_type": "code",
<<<<<<< HEAD
<<<<<<< HEAD
   "execution_count": 44,
   "id": "589986da",
   "metadata": {},
   "outputs": [],
   "source": [
    "models = pd.DataFrame(columns=[\"Model\",\"MAE\",\"MSE\",\"RMSE\",\"R2 Score\",\"Adj. R2 Score\",\"RMSE (Cross-Validation)\"])"
=======
=======
>>>>>>> a7b3146fa87b1a8590e95cf10a67c04197a97328
   "execution_count": 9,
   "metadata": {},
   "outputs": [],
   "source": [
    "models = pd.DataFrame(columns=[\"Model\",\"MAE\",\"MSE\",\"RMSE\",\"R2 Score\",\"RMSE (Cross-Validation)\"])"
<<<<<<< HEAD
>>>>>>> a7b3146fa87b1a8590e95cf10a67c04197a97328
=======
>>>>>>> a7b3146fa87b1a8590e95cf10a67c04197a97328
   ]
  },
  {
   "cell_type": "markdown",
<<<<<<< HEAD
<<<<<<< HEAD
   "id": "ff8b3bd1",
=======
>>>>>>> a7b3146fa87b1a8590e95cf10a67c04197a97328
=======
>>>>>>> a7b3146fa87b1a8590e95cf10a67c04197a97328
   "metadata": {},
   "source": [
    "## Linear Regression"
   ]
  },
  {
   "cell_type": "code",
<<<<<<< HEAD
<<<<<<< HEAD
   "execution_count": 45,
   "id": "e299bc79",
=======
   "execution_count": 10,
>>>>>>> a7b3146fa87b1a8590e95cf10a67c04197a97328
=======
   "execution_count": 10,
>>>>>>> a7b3146fa87b1a8590e95cf10a67c04197a97328
   "metadata": {},
   "outputs": [
    {
     "name": "stdout",
     "output_type": "stream",
     "text": [
<<<<<<< HEAD
<<<<<<< HEAD
      "MAE: 2.1875358361524246\n",
      "MSE: 8.186901271609347\n",
      "RMSE: 2.861276161367397\n",
      "R2 Score: 0.8350806116142908\n",
      "Adj. R2 Score: 0.835044580623433\n",
      "------------------------------\n",
      "RMSE Cross-Validation: 2.8632305198037127\n"
=======
=======
>>>>>>> a7b3146fa87b1a8590e95cf10a67c04197a97328
      "MAE: 2.1206809470795824\n",
      "MSE: 7.723903440817554\n",
      "RMSE: 2.7791911486649408\n",
      "R2 Score: 0.8444073784268925\n",
      "------------------------------\n",
      "RMSE Cross-Validation: 2.7831552375605013\n"
<<<<<<< HEAD
>>>>>>> a7b3146fa87b1a8590e95cf10a67c04197a97328
=======
>>>>>>> a7b3146fa87b1a8590e95cf10a67c04197a97328
     ]
    }
   ],
   "source": [
    "lin_reg = LinearRegression()\n",
    "lin_reg.fit(X_train, y_train)\n",
    "predictions = lin_reg.predict(X_test)\n",
    "\n",
<<<<<<< HEAD
<<<<<<< HEAD
    "mae, mse, rmse, r_squared, adj_r2 = evaluation(y_test, predictions)\n",
=======
    "mae, mse, rmse, r_squared = evaluation(y_test, predictions)\n",
>>>>>>> a7b3146fa87b1a8590e95cf10a67c04197a97328
=======
    "mae, mse, rmse, r_squared = evaluation(y_test, predictions)\n",
>>>>>>> a7b3146fa87b1a8590e95cf10a67c04197a97328
    "print(\"MAE:\", mae)\n",
    "print(\"MSE:\", mse)\n",
    "print(\"RMSE:\", rmse)\n",
    "print(\"R2 Score:\", r_squared)\n",
<<<<<<< HEAD
<<<<<<< HEAD
    "print(\"Adj. R2 Score:\", adj_r2)\n",
=======
>>>>>>> a7b3146fa87b1a8590e95cf10a67c04197a97328
=======
>>>>>>> a7b3146fa87b1a8590e95cf10a67c04197a97328
    "print(\"-\"*30)\n",
    "rmse_cross_val = rmse_cv(lin_reg)\n",
    "print(\"RMSE Cross-Validation:\", rmse_cross_val)\n",
    "\n",
<<<<<<< HEAD
<<<<<<< HEAD
    "new_row = {\"Model\": \"LinearRegression\",\"MAE\": mae, \"MSE\": mse, \"RMSE\": rmse, \"R2 Score\": r_squared, \"Adj. R2 Score\": adj_r2, \"RMSE (Cross-Validation)\": rmse_cross_val}\n",
=======
    "new_row = {\"Model\": \"LinearRegression\",\"MAE\": mae, \"MSE\": mse, \"RMSE\": rmse, \"R2 Score\": r_squared, \"RMSE (Cross-Validation)\": rmse_cross_val}\n",
>>>>>>> a7b3146fa87b1a8590e95cf10a67c04197a97328
=======
    "new_row = {\"Model\": \"LinearRegression\",\"MAE\": mae, \"MSE\": mse, \"RMSE\": rmse, \"R2 Score\": r_squared, \"RMSE (Cross-Validation)\": rmse_cross_val}\n",
>>>>>>> a7b3146fa87b1a8590e95cf10a67c04197a97328
    "models = models.append(new_row, ignore_index=True)"
   ]
  },
  {
   "cell_type": "markdown",
<<<<<<< HEAD
<<<<<<< HEAD
   "id": "180e327e",
=======
>>>>>>> a7b3146fa87b1a8590e95cf10a67c04197a97328
=======
>>>>>>> a7b3146fa87b1a8590e95cf10a67c04197a97328
   "metadata": {},
   "source": [
    "## Ridge Regression"
   ]
  },
  {
   "cell_type": "code",
<<<<<<< HEAD
<<<<<<< HEAD
   "execution_count": 46,
   "id": "79f749a0",
=======
   "execution_count": 11,
>>>>>>> a7b3146fa87b1a8590e95cf10a67c04197a97328
=======
   "execution_count": 11,
>>>>>>> a7b3146fa87b1a8590e95cf10a67c04197a97328
   "metadata": {},
   "outputs": [
    {
     "name": "stdout",
     "output_type": "stream",
     "text": [
<<<<<<< HEAD
<<<<<<< HEAD
      "MAE: 2.187535838516722\n",
      "MSE: 8.186901259659997\n",
      "RMSE: 2.8612761592792815\n",
      "R2 Score: 0.835080611855002\n",
      "Adj. R2 Score: 0.8350445808641968\n",
      "------------------------------\n",
      "RMSE Cross-Validation: 2.863230518979775\n"
=======
=======
>>>>>>> a7b3146fa87b1a8590e95cf10a67c04197a97328
      "MAE: 2.120673239855936\n",
      "MSE: 7.723872728625357\n",
      "RMSE: 2.7791856232762426\n",
      "R2 Score: 0.8444079971024798\n",
      "------------------------------\n",
      "RMSE Cross-Validation: 2.7830920757103557\n"
<<<<<<< HEAD
>>>>>>> a7b3146fa87b1a8590e95cf10a67c04197a97328
=======
>>>>>>> a7b3146fa87b1a8590e95cf10a67c04197a97328
     ]
    }
   ],
   "source": [
    "ridge = Ridge()\n",
    "ridge.fit(X_train, y_train)\n",
    "predictions = ridge.predict(X_test)\n",
    "\n",
<<<<<<< HEAD
<<<<<<< HEAD
    "mae, mse, rmse, r_squared, adj_r2 = evaluation(y_test, predictions)\n",
=======
    "mae, mse, rmse, r_squared = evaluation(y_test, predictions)\n",
>>>>>>> a7b3146fa87b1a8590e95cf10a67c04197a97328
=======
    "mae, mse, rmse, r_squared = evaluation(y_test, predictions)\n",
>>>>>>> a7b3146fa87b1a8590e95cf10a67c04197a97328
    "print(\"MAE:\", mae)\n",
    "print(\"MSE:\", mse)\n",
    "print(\"RMSE:\", rmse)\n",
    "print(\"R2 Score:\", r_squared)\n",
<<<<<<< HEAD
<<<<<<< HEAD
    "print(\"Adj. R2 Score:\", adj_r2)\n",
=======
>>>>>>> a7b3146fa87b1a8590e95cf10a67c04197a97328
=======
>>>>>>> a7b3146fa87b1a8590e95cf10a67c04197a97328
    "print(\"-\"*30)\n",
    "rmse_cross_val = rmse_cv(ridge)\n",
    "print(\"RMSE Cross-Validation:\", rmse_cross_val)\n",
    "\n",
<<<<<<< HEAD
<<<<<<< HEAD
    "new_row = {\"Model\": \"Ridge\",\"MAE\": mae, \"MSE\": mse, \"RMSE\": rmse, \"R2 Score\": r_squared, \"Adj. R2 Score\": adj_r2, \"RMSE (Cross-Validation)\": rmse_cross_val}\n",
=======
    "new_row = {\"Model\": \"Ridge\",\"MAE\": mae, \"MSE\": mse, \"RMSE\": rmse, \"R2 Score\": r_squared, \"RMSE (Cross-Validation)\": rmse_cross_val}\n",
>>>>>>> a7b3146fa87b1a8590e95cf10a67c04197a97328
=======
    "new_row = {\"Model\": \"Ridge\",\"MAE\": mae, \"MSE\": mse, \"RMSE\": rmse, \"R2 Score\": r_squared, \"RMSE (Cross-Validation)\": rmse_cross_val}\n",
>>>>>>> a7b3146fa87b1a8590e95cf10a67c04197a97328
    "models = models.append(new_row, ignore_index=True)"
   ]
  },
  {
   "cell_type": "markdown",
<<<<<<< HEAD
<<<<<<< HEAD
   "id": "fe298520",
=======
>>>>>>> a7b3146fa87b1a8590e95cf10a67c04197a97328
=======
>>>>>>> a7b3146fa87b1a8590e95cf10a67c04197a97328
   "metadata": {},
   "source": [
    "## Lasso Regression"
   ]
  },
  {
   "cell_type": "code",
<<<<<<< HEAD
<<<<<<< HEAD
   "execution_count": 47,
   "id": "a0765c7a",
=======
   "execution_count": 12,
>>>>>>> a7b3146fa87b1a8590e95cf10a67c04197a97328
=======
   "execution_count": 12,
>>>>>>> a7b3146fa87b1a8590e95cf10a67c04197a97328
   "metadata": {},
   "outputs": [
    {
     "name": "stdout",
     "output_type": "stream",
     "text": [
<<<<<<< HEAD
<<<<<<< HEAD
      "MAE: 2.1947691581597826\n",
      "MSE: 8.28217047833723\n",
      "RMSE: 2.8778760359572875\n",
      "R2 Score: 0.8331614802134958\n",
      "Adj. R2 Score: 0.833125029937758\n",
      "------------------------------\n",
      "RMSE Cross-Validation: 2.880146311248193\n"
=======
=======
>>>>>>> a7b3146fa87b1a8590e95cf10a67c04197a97328
      "MAE: 2.1591978157718197\n",
      "MSE: 8.030455068552767\n",
      "RMSE: 2.8338057570258353\n",
      "R2 Score: 0.8382321107306696\n",
      "------------------------------\n",
      "RMSE Cross-Validation: 2.835982496155512\n"
<<<<<<< HEAD
>>>>>>> a7b3146fa87b1a8590e95cf10a67c04197a97328
=======
>>>>>>> a7b3146fa87b1a8590e95cf10a67c04197a97328
     ]
    }
   ],
   "source": [
    "lasso = Lasso()\n",
    "lasso.fit(X_train, y_train)\n",
    "predictions = lasso.predict(X_test)\n",
    "\n",
<<<<<<< HEAD
<<<<<<< HEAD
    "mae, mse, rmse, r_squared, adj_r2 = evaluation(y_test, predictions)\n",
=======
    "mae, mse, rmse, r_squared = evaluation(y_test, predictions)\n",
>>>>>>> a7b3146fa87b1a8590e95cf10a67c04197a97328
=======
    "mae, mse, rmse, r_squared = evaluation(y_test, predictions)\n",
>>>>>>> a7b3146fa87b1a8590e95cf10a67c04197a97328
    "print(\"MAE:\", mae)\n",
    "print(\"MSE:\", mse)\n",
    "print(\"RMSE:\", rmse)\n",
    "print(\"R2 Score:\", r_squared)\n",
<<<<<<< HEAD
<<<<<<< HEAD
    "print(\"Adj. R2 Score:\", adj_r2)\n",
=======
>>>>>>> a7b3146fa87b1a8590e95cf10a67c04197a97328
=======
>>>>>>> a7b3146fa87b1a8590e95cf10a67c04197a97328
    "print(\"-\"*30)\n",
    "rmse_cross_val = rmse_cv(lasso)\n",
    "print(\"RMSE Cross-Validation:\", rmse_cross_val)\n",
    "\n",
<<<<<<< HEAD
<<<<<<< HEAD
    "new_row = {\"Model\": \"Lasso\",\"MAE\": mae, \"MSE\": mse, \"RMSE\": rmse, \"R2 Score\": r_squared, \"Adj. R2 Score\": adj_r2, \"RMSE (Cross-Validation)\": rmse_cross_val}\n",
=======
    "new_row = {\"Model\": \"Lasso\",\"MAE\": mae, \"MSE\": mse, \"RMSE\": rmse, \"R2 Score\": r_squared, \"RMSE (Cross-Validation)\": rmse_cross_val}\n",
>>>>>>> a7b3146fa87b1a8590e95cf10a67c04197a97328
=======
    "new_row = {\"Model\": \"Lasso\",\"MAE\": mae, \"MSE\": mse, \"RMSE\": rmse, \"R2 Score\": r_squared, \"RMSE (Cross-Validation)\": rmse_cross_val}\n",
>>>>>>> a7b3146fa87b1a8590e95cf10a67c04197a97328
    "models = models.append(new_row, ignore_index=True)"
   ]
  },
  {
   "cell_type": "markdown",
<<<<<<< HEAD
<<<<<<< HEAD
   "id": "772fe1d8",
   "metadata": {},
   "source": [
    "## ElasticNet "
=======
   "metadata": {},
   "source": [
    "## ElasticNet"
>>>>>>> a7b3146fa87b1a8590e95cf10a67c04197a97328
=======
   "metadata": {},
   "source": [
    "## ElasticNet"
>>>>>>> a7b3146fa87b1a8590e95cf10a67c04197a97328
   ]
  },
  {
   "cell_type": "code",
<<<<<<< HEAD
<<<<<<< HEAD
   "execution_count": 48,
   "id": "3e46c052",
=======
   "execution_count": 13,
>>>>>>> a7b3146fa87b1a8590e95cf10a67c04197a97328
=======
   "execution_count": 13,
>>>>>>> a7b3146fa87b1a8590e95cf10a67c04197a97328
   "metadata": {},
   "outputs": [
    {
     "name": "stdout",
     "output_type": "stream",
     "text": [
<<<<<<< HEAD
<<<<<<< HEAD
      "MAE: 2.188230137332932\n",
      "MSE: 8.214934287403063\n",
      "RMSE: 2.86617066613331\n",
      "R2 Score: 0.8345159061578639\n",
      "Adj. R2 Score: 0.8344797517922025\n",
      "------------------------------\n",
      "RMSE Cross-Validation: 2.8682424482928384\n"
=======
=======
>>>>>>> a7b3146fa87b1a8590e95cf10a67c04197a97328
      "MAE: 2.1475501902875287\n",
      "MSE: 7.925715831574218\n",
      "RMSE: 2.8152647888918403\n",
      "R2 Score: 0.8403420092538617\n",
      "------------------------------\n",
      "RMSE Cross-Validation: 2.8176096293384503\n"
<<<<<<< HEAD
>>>>>>> a7b3146fa87b1a8590e95cf10a67c04197a97328
=======
>>>>>>> a7b3146fa87b1a8590e95cf10a67c04197a97328
     ]
    }
   ],
   "source": [
    "elastic_net = ElasticNet()\n",
    "elastic_net.fit(X_train, y_train)\n",
    "predictions = elastic_net.predict(X_test)\n",
    "\n",
<<<<<<< HEAD
<<<<<<< HEAD
    "mae, mse, rmse, r_squared, adj_r2 = evaluation(y_test, predictions)\n",
=======
    "mae, mse, rmse, r_squared = evaluation(y_test, predictions)\n",
>>>>>>> a7b3146fa87b1a8590e95cf10a67c04197a97328
=======
    "mae, mse, rmse, r_squared = evaluation(y_test, predictions)\n",
>>>>>>> a7b3146fa87b1a8590e95cf10a67c04197a97328
    "print(\"MAE:\", mae)\n",
    "print(\"MSE:\", mse)\n",
    "print(\"RMSE:\", rmse)\n",
    "print(\"R2 Score:\", r_squared)\n",
<<<<<<< HEAD
<<<<<<< HEAD
    "print(\"Adj. R2 Score:\", adj_r2)\n",
=======
>>>>>>> a7b3146fa87b1a8590e95cf10a67c04197a97328
=======
>>>>>>> a7b3146fa87b1a8590e95cf10a67c04197a97328
    "print(\"-\"*30)\n",
    "rmse_cross_val = rmse_cv(elastic_net)\n",
    "print(\"RMSE Cross-Validation:\", rmse_cross_val)\n",
    "\n",
<<<<<<< HEAD
<<<<<<< HEAD
    "new_row = {\"Model\": \"ElasticNet\",\"MAE\": mae, \"MSE\": mse, \"RMSE\": rmse, \"R2 Score\": r_squared, \"Adj. R2 Score\": adj_r2, \"RMSE (Cross-Validation)\": rmse_cross_val}\n",
=======
    "new_row = {\"Model\": \"ElasticNet\",\"MAE\": mae, \"MSE\": mse, \"RMSE\": rmse, \"R2 Score\": r_squared, \"RMSE (Cross-Validation)\": rmse_cross_val}\n",
>>>>>>> a7b3146fa87b1a8590e95cf10a67c04197a97328
=======
    "new_row = {\"Model\": \"ElasticNet\",\"MAE\": mae, \"MSE\": mse, \"RMSE\": rmse, \"R2 Score\": r_squared, \"RMSE (Cross-Validation)\": rmse_cross_val}\n",
>>>>>>> a7b3146fa87b1a8590e95cf10a67c04197a97328
    "models = models.append(new_row, ignore_index=True)"
   ]
  },
  {
   "cell_type": "markdown",
<<<<<<< HEAD
<<<<<<< HEAD
   "id": "0368e399",
   "metadata": {},
   "source": [
    "## RandomForestRegressor"
=======
   "metadata": {},
   "source": [
    "## Support Vector Machine"
>>>>>>> a7b3146fa87b1a8590e95cf10a67c04197a97328
=======
   "metadata": {},
   "source": [
    "## Support Vector Machine"
>>>>>>> a7b3146fa87b1a8590e95cf10a67c04197a97328
   ]
  },
  {
   "cell_type": "code",
<<<<<<< HEAD
<<<<<<< HEAD
   "execution_count": 49,
   "id": "75d5e5d3",
=======
=======
>>>>>>> a7b3146fa87b1a8590e95cf10a67c04197a97328
   "execution_count": 21,
   "metadata": {},
   "outputs": [],
   "source": [
    "svr = SVR(C=100000)\n",
    "svr.fit(X_train, y_train)\n",
    "predictions = svr.predict(X_test)\n",
    "\n",
    "mae, mse, rmse, r_squared = evaluation(y_test, predictions)\n",
    "print(\"MAE:\", mae)\n",
    "print(\"MSE:\", mse)\n",
    "print(\"RMSE:\", rmse)\n",
    "print(\"R2 Score:\", r_squared)\n",
    "print(\"-\"*30)\n",
    "rmse_cross_val = rmse_cv(svr)\n",
    "print(\"RMSE Cross-Validation:\", rmse_cross_val)\n",
    "\n",
    "new_row = {\"Model\": \"SVR\",\"MAE\": mae, \"MSE\": mse, \"RMSE\": rmse, \"R2 Score\": r_squared, \"RMSE (Cross-Validation)\": rmse_cross_val}\n",
    "models = models.append(new_row, ignore_index=True)"
   ]
  },
  {
   "cell_type": "markdown",
   "metadata": {},
   "source": [
    "## Random Forest Regression"
   ]
  },
  {
   "cell_type": "code",
   "execution_count": 15,
<<<<<<< HEAD
>>>>>>> a7b3146fa87b1a8590e95cf10a67c04197a97328
=======
>>>>>>> a7b3146fa87b1a8590e95cf10a67c04197a97328
   "metadata": {},
   "outputs": [
    {
     "name": "stdout",
     "output_type": "stream",
     "text": [
<<<<<<< HEAD
<<<<<<< HEAD
      "MAE: 0.6510087263655396\n",
      "MSE: 1.2725479836431555\n",
      "RMSE: 1.1280726854432543\n",
      "R2 Score: 0.9743654127256085\n",
      "Adj. R2 Score: 0.9743598121737949\n",
      "------------------------------\n",
      "RMSE Cross-Validation: 1.8363026998648806\n"
=======
=======
>>>>>>> a7b3146fa87b1a8590e95cf10a67c04197a97328
      "MAE: 0.5345230995453853\n",
      "MSE: 0.9404795334480545\n",
      "RMSE: 0.9697832404450256\n",
      "R2 Score: 0.9810546989270044\n",
      "------------------------------\n",
      "RMSE Cross-Validation: 1.5057687022546495\n"
<<<<<<< HEAD
>>>>>>> a7b3146fa87b1a8590e95cf10a67c04197a97328
=======
>>>>>>> a7b3146fa87b1a8590e95cf10a67c04197a97328
     ]
    }
   ],
   "source": [
    "random_forest = RandomForestRegressor(n_estimators=100)\n",
    "random_forest.fit(X_train, y_train)\n",
    "predictions = random_forest.predict(X_test)\n",
    "\n",
<<<<<<< HEAD
<<<<<<< HEAD
    "mae, mse, rmse, r_squared, adj_r2 = evaluation(y_test, predictions)\n",
=======
    "mae, mse, rmse, r_squared = evaluation(y_test, predictions)\n",
>>>>>>> a7b3146fa87b1a8590e95cf10a67c04197a97328
=======
    "mae, mse, rmse, r_squared = evaluation(y_test, predictions)\n",
>>>>>>> a7b3146fa87b1a8590e95cf10a67c04197a97328
    "print(\"MAE:\", mae)\n",
    "print(\"MSE:\", mse)\n",
    "print(\"RMSE:\", rmse)\n",
    "print(\"R2 Score:\", r_squared)\n",
<<<<<<< HEAD
<<<<<<< HEAD
    "print(\"Adj. R2 Score:\", adj_r2)\n",
=======
>>>>>>> a7b3146fa87b1a8590e95cf10a67c04197a97328
=======
>>>>>>> a7b3146fa87b1a8590e95cf10a67c04197a97328
    "print(\"-\"*30)\n",
    "rmse_cross_val = rmse_cv(random_forest)\n",
    "print(\"RMSE Cross-Validation:\", rmse_cross_val)\n",
    "\n",
<<<<<<< HEAD
<<<<<<< HEAD
    "new_row = {\"Model\": \"RandomForestRegressor\",\"MAE\": mae, \"MSE\": mse, \"RMSE\": rmse, \"R2 Score\": r_squared, \"Adj. R2 Score\": adj_r2, \"RMSE (Cross-Validation)\": rmse_cross_val}\n",
=======
    "new_row = {\"Model\": \"RandomForestRegressor\",\"MAE\": mae, \"MSE\": mse, \"RMSE\": rmse, \"R2 Score\": r_squared, \"RMSE (Cross-Validation)\": rmse_cross_val}\n",
>>>>>>> a7b3146fa87b1a8590e95cf10a67c04197a97328
=======
    "new_row = {\"Model\": \"RandomForestRegressor\",\"MAE\": mae, \"MSE\": mse, \"RMSE\": rmse, \"R2 Score\": r_squared, \"RMSE (Cross-Validation)\": rmse_cross_val}\n",
>>>>>>> a7b3146fa87b1a8590e95cf10a67c04197a97328
    "models = models.append(new_row, ignore_index=True)"
   ]
  },
  {
   "cell_type": "markdown",
<<<<<<< HEAD
<<<<<<< HEAD
   "id": "eccf02dd",
   "metadata": {},
   "source": [
    "## XGBoostRegressor"
=======
   "metadata": {},
   "source": [
    "## XGBoost Regressor"
>>>>>>> a7b3146fa87b1a8590e95cf10a67c04197a97328
=======
   "metadata": {},
   "source": [
    "## XGBoost Regressor"
>>>>>>> a7b3146fa87b1a8590e95cf10a67c04197a97328
   ]
  },
  {
   "cell_type": "code",
<<<<<<< HEAD
<<<<<<< HEAD
   "execution_count": 50,
   "id": "522a76c6",
=======
   "execution_count": 16,
>>>>>>> a7b3146fa87b1a8590e95cf10a67c04197a97328
=======
   "execution_count": 16,
>>>>>>> a7b3146fa87b1a8590e95cf10a67c04197a97328
   "metadata": {},
   "outputs": [
    {
     "name": "stdout",
     "output_type": "stream",
     "text": [
<<<<<<< HEAD
<<<<<<< HEAD
      "MAE: 1.2226960781647405\n",
      "MSE: 2.809932347640984\n",
      "RMSE: 1.676285282295643\n",
      "R2 Score: 0.943395882177644\n",
      "Adj. R2 Score: 0.9433835155149264\n",
      "------------------------------\n",
      "RMSE Cross-Validation: 1.7740895911912886\n"
=======
=======
>>>>>>> a7b3146fa87b1a8590e95cf10a67c04197a97328
      "MAE: 0.89109271391907\n",
      "MSE: 1.62210826920707\n",
      "RMSE: 1.273620143216599\n",
      "R2 Score: 0.9673237657597349\n",
      "------------------------------\n",
      "RMSE Cross-Validation: 1.3785688312128215\n"
<<<<<<< HEAD
>>>>>>> a7b3146fa87b1a8590e95cf10a67c04197a97328
=======
>>>>>>> a7b3146fa87b1a8590e95cf10a67c04197a97328
     ]
    }
   ],
   "source": [
    "xgb = XGBRegressor(n_estimators=1000, learning_rate=0.01)\n",
    "xgb.fit(X_train, y_train)\n",
    "predictions = xgb.predict(X_test)\n",
    "\n",
<<<<<<< HEAD
<<<<<<< HEAD
    "mae, mse, rmse, r_squared, adj_r2 = evaluation(y_test, predictions)\n",
=======
    "mae, mse, rmse, r_squared = evaluation(y_test, predictions)\n",
>>>>>>> a7b3146fa87b1a8590e95cf10a67c04197a97328
=======
    "mae, mse, rmse, r_squared = evaluation(y_test, predictions)\n",
>>>>>>> a7b3146fa87b1a8590e95cf10a67c04197a97328
    "print(\"MAE:\", mae)\n",
    "print(\"MSE:\", mse)\n",
    "print(\"RMSE:\", rmse)\n",
    "print(\"R2 Score:\", r_squared)\n",
<<<<<<< HEAD
<<<<<<< HEAD
    "print(\"Adj. R2 Score:\", adj_r2)\n",
=======
>>>>>>> a7b3146fa87b1a8590e95cf10a67c04197a97328
=======
>>>>>>> a7b3146fa87b1a8590e95cf10a67c04197a97328
    "print(\"-\"*30)\n",
    "rmse_cross_val = rmse_cv(xgb)\n",
    "print(\"RMSE Cross-Validation:\", rmse_cross_val)\n",
    "\n",
<<<<<<< HEAD
<<<<<<< HEAD
    "new_row = {\"Model\": \"XGBRegressor\",\"MAE\": mae, \"MSE\": mse, \"RMSE\": rmse, \"R2 Score\": r_squared, \"Adj. R2 Score\": adj_r2, \"RMSE (Cross-Validation)\": rmse_cross_val}\n",
=======
    "new_row = {\"Model\": \"XGBRegressor\",\"MAE\": mae, \"MSE\": mse, \"RMSE\": rmse, \"R2 Score\": r_squared, \"RMSE (Cross-Validation)\": rmse_cross_val}\n",
>>>>>>> a7b3146fa87b1a8590e95cf10a67c04197a97328
=======
    "new_row = {\"Model\": \"XGBRegressor\",\"MAE\": mae, \"MSE\": mse, \"RMSE\": rmse, \"R2 Score\": r_squared, \"RMSE (Cross-Validation)\": rmse_cross_val}\n",
>>>>>>> a7b3146fa87b1a8590e95cf10a67c04197a97328
    "models = models.append(new_row, ignore_index=True)"
   ]
  },
  {
   "cell_type": "markdown",
<<<<<<< HEAD
<<<<<<< HEAD
   "id": "1e3908ea",
=======
>>>>>>> a7b3146fa87b1a8590e95cf10a67c04197a97328
=======
>>>>>>> a7b3146fa87b1a8590e95cf10a67c04197a97328
   "metadata": {},
   "source": [
    "## Model Comparison"
   ]
  },
  {
   "cell_type": "code",
<<<<<<< HEAD
<<<<<<< HEAD
   "execution_count": 51,
   "id": "b0c9a904",
=======
   "execution_count": 17,
>>>>>>> a7b3146fa87b1a8590e95cf10a67c04197a97328
=======
   "execution_count": 17,
>>>>>>> a7b3146fa87b1a8590e95cf10a67c04197a97328
   "metadata": {},
   "outputs": [
    {
     "data": {
      "text/html": [
       "<div>\n",
       "<style scoped>\n",
       "    .dataframe tbody tr th:only-of-type {\n",
       "        vertical-align: middle;\n",
       "    }\n",
       "\n",
       "    .dataframe tbody tr th {\n",
       "        vertical-align: top;\n",
       "    }\n",
       "\n",
       "    .dataframe thead th {\n",
       "        text-align: right;\n",
       "    }\n",
       "</style>\n",
       "<table border=\"1\" class=\"dataframe\">\n",
       "  <thead>\n",
       "    <tr style=\"text-align: right;\">\n",
       "      <th></th>\n",
       "      <th>Model</th>\n",
       "      <th>MAE</th>\n",
       "      <th>MSE</th>\n",
       "      <th>RMSE</th>\n",
       "      <th>R2 Score</th>\n",
<<<<<<< HEAD
<<<<<<< HEAD
       "      <th>Adj. R2 Score</th>\n",
=======
>>>>>>> a7b3146fa87b1a8590e95cf10a67c04197a97328
=======
>>>>>>> a7b3146fa87b1a8590e95cf10a67c04197a97328
       "      <th>RMSE (Cross-Validation)</th>\n",
       "    </tr>\n",
       "  </thead>\n",
       "  <tbody>\n",
       "    <tr>\n",
       "      <th>5</th>\n",
       "      <td>XGBRegressor</td>\n",
<<<<<<< HEAD
<<<<<<< HEAD
       "      <td>1.222696</td>\n",
       "      <td>2.809932</td>\n",
       "      <td>1.676285</td>\n",
       "      <td>0.943396</td>\n",
       "      <td>0.943384</td>\n",
       "      <td>1.774090</td>\n",
=======
=======
>>>>>>> a7b3146fa87b1a8590e95cf10a67c04197a97328
       "      <td>0.891093</td>\n",
       "      <td>1.622108</td>\n",
       "      <td>1.273620</td>\n",
       "      <td>0.967324</td>\n",
       "      <td>1.378569</td>\n",
<<<<<<< HEAD
>>>>>>> a7b3146fa87b1a8590e95cf10a67c04197a97328
=======
>>>>>>> a7b3146fa87b1a8590e95cf10a67c04197a97328
       "    </tr>\n",
       "    <tr>\n",
       "      <th>4</th>\n",
       "      <td>RandomForestRegressor</td>\n",
<<<<<<< HEAD
<<<<<<< HEAD
       "      <td>0.651009</td>\n",
       "      <td>1.272548</td>\n",
       "      <td>1.128073</td>\n",
       "      <td>0.974365</td>\n",
       "      <td>0.974360</td>\n",
       "      <td>1.836303</td>\n",
=======
=======
>>>>>>> a7b3146fa87b1a8590e95cf10a67c04197a97328
       "      <td>0.534523</td>\n",
       "      <td>0.940480</td>\n",
       "      <td>0.969783</td>\n",
       "      <td>0.981055</td>\n",
       "      <td>1.505769</td>\n",
<<<<<<< HEAD
>>>>>>> a7b3146fa87b1a8590e95cf10a67c04197a97328
=======
>>>>>>> a7b3146fa87b1a8590e95cf10a67c04197a97328
       "    </tr>\n",
       "    <tr>\n",
       "      <th>1</th>\n",
       "      <td>Ridge</td>\n",
<<<<<<< HEAD
<<<<<<< HEAD
       "      <td>2.187536</td>\n",
       "      <td>8.186901</td>\n",
       "      <td>2.861276</td>\n",
       "      <td>0.835081</td>\n",
       "      <td>0.835045</td>\n",
       "      <td>2.863231</td>\n",
=======
=======
>>>>>>> a7b3146fa87b1a8590e95cf10a67c04197a97328
       "      <td>2.120673</td>\n",
       "      <td>7.723873</td>\n",
       "      <td>2.779186</td>\n",
       "      <td>0.844408</td>\n",
       "      <td>2.783092</td>\n",
<<<<<<< HEAD
>>>>>>> a7b3146fa87b1a8590e95cf10a67c04197a97328
=======
>>>>>>> a7b3146fa87b1a8590e95cf10a67c04197a97328
       "    </tr>\n",
       "    <tr>\n",
       "      <th>0</th>\n",
       "      <td>LinearRegression</td>\n",
<<<<<<< HEAD
<<<<<<< HEAD
       "      <td>2.187536</td>\n",
       "      <td>8.186901</td>\n",
       "      <td>2.861276</td>\n",
       "      <td>0.835081</td>\n",
       "      <td>0.835045</td>\n",
       "      <td>2.863231</td>\n",
=======
=======
>>>>>>> a7b3146fa87b1a8590e95cf10a67c04197a97328
       "      <td>2.120681</td>\n",
       "      <td>7.723903</td>\n",
       "      <td>2.779191</td>\n",
       "      <td>0.844407</td>\n",
       "      <td>2.783155</td>\n",
<<<<<<< HEAD
>>>>>>> a7b3146fa87b1a8590e95cf10a67c04197a97328
=======
>>>>>>> a7b3146fa87b1a8590e95cf10a67c04197a97328
       "    </tr>\n",
       "    <tr>\n",
       "      <th>3</th>\n",
       "      <td>ElasticNet</td>\n",
<<<<<<< HEAD
<<<<<<< HEAD
       "      <td>2.188230</td>\n",
       "      <td>8.214934</td>\n",
       "      <td>2.866171</td>\n",
       "      <td>0.834516</td>\n",
       "      <td>0.834480</td>\n",
       "      <td>2.868242</td>\n",
=======
=======
>>>>>>> a7b3146fa87b1a8590e95cf10a67c04197a97328
       "      <td>2.147550</td>\n",
       "      <td>7.925716</td>\n",
       "      <td>2.815265</td>\n",
       "      <td>0.840342</td>\n",
       "      <td>2.817610</td>\n",
<<<<<<< HEAD
>>>>>>> a7b3146fa87b1a8590e95cf10a67c04197a97328
=======
>>>>>>> a7b3146fa87b1a8590e95cf10a67c04197a97328
       "    </tr>\n",
       "    <tr>\n",
       "      <th>2</th>\n",
       "      <td>Lasso</td>\n",
<<<<<<< HEAD
<<<<<<< HEAD
       "      <td>2.194769</td>\n",
       "      <td>8.282170</td>\n",
       "      <td>2.877876</td>\n",
       "      <td>0.833161</td>\n",
       "      <td>0.833125</td>\n",
       "      <td>2.880146</td>\n",
=======
=======
>>>>>>> a7b3146fa87b1a8590e95cf10a67c04197a97328
       "      <td>2.159198</td>\n",
       "      <td>8.030455</td>\n",
       "      <td>2.833806</td>\n",
       "      <td>0.838232</td>\n",
       "      <td>2.835982</td>\n",
<<<<<<< HEAD
>>>>>>> a7b3146fa87b1a8590e95cf10a67c04197a97328
=======
>>>>>>> a7b3146fa87b1a8590e95cf10a67c04197a97328
       "    </tr>\n",
       "  </tbody>\n",
       "</table>\n",
       "</div>"
      ],
      "text/plain": [
       "                   Model       MAE       MSE      RMSE  R2 Score  \\\n",
<<<<<<< HEAD
<<<<<<< HEAD
       "5           XGBRegressor  1.222696  2.809932  1.676285  0.943396   \n",
       "4  RandomForestRegressor  0.651009  1.272548  1.128073  0.974365   \n",
       "1                  Ridge  2.187536  8.186901  2.861276  0.835081   \n",
       "0       LinearRegression  2.187536  8.186901  2.861276  0.835081   \n",
       "3             ElasticNet  2.188230  8.214934  2.866171  0.834516   \n",
       "2                  Lasso  2.194769  8.282170  2.877876  0.833161   \n",
       "\n",
       "   Adj. R2 Score  RMSE (Cross-Validation)  \n",
       "5       0.943384                 1.774090  \n",
       "4       0.974360                 1.836303  \n",
       "1       0.835045                 2.863231  \n",
       "0       0.835045                 2.863231  \n",
       "3       0.834480                 2.868242  \n",
       "2       0.833125                 2.880146  "
      ]
     },
     "execution_count": 51,
=======
=======
>>>>>>> a7b3146fa87b1a8590e95cf10a67c04197a97328
       "5           XGBRegressor  0.891093  1.622108  1.273620  0.967324   \n",
       "4  RandomForestRegressor  0.534523  0.940480  0.969783  0.981055   \n",
       "1                  Ridge  2.120673  7.723873  2.779186  0.844408   \n",
       "0       LinearRegression  2.120681  7.723903  2.779191  0.844407   \n",
       "3             ElasticNet  2.147550  7.925716  2.815265  0.840342   \n",
       "2                  Lasso  2.159198  8.030455  2.833806  0.838232   \n",
       "\n",
       "   RMSE (Cross-Validation)  \n",
       "5                 1.378569  \n",
       "4                 1.505769  \n",
       "1                 2.783092  \n",
       "0                 2.783155  \n",
       "3                 2.817610  \n",
       "2                 2.835982  "
      ]
     },
     "execution_count": 17,
<<<<<<< HEAD
>>>>>>> a7b3146fa87b1a8590e95cf10a67c04197a97328
=======
>>>>>>> a7b3146fa87b1a8590e95cf10a67c04197a97328
     "metadata": {},
     "output_type": "execute_result"
    }
   ],
   "source": [
    "models.sort_values(by=\"RMSE (Cross-Validation)\")"
   ]
  },
  {
   "cell_type": "code",
<<<<<<< HEAD
<<<<<<< HEAD
   "execution_count": 52,
   "id": "45b19e1f",
=======
   "execution_count": 20,
>>>>>>> a7b3146fa87b1a8590e95cf10a67c04197a97328
=======
   "execution_count": 20,
>>>>>>> a7b3146fa87b1a8590e95cf10a67c04197a97328
   "metadata": {},
   "outputs": [
    {
     "data": {
<<<<<<< HEAD
<<<<<<< HEAD
      "image/png": "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",
=======
      "image/png": "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",
>>>>>>> a7b3146fa87b1a8590e95cf10a67c04197a97328
=======
      "image/png": "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",
>>>>>>> a7b3146fa87b1a8590e95cf10a67c04197a97328
      "text/plain": [
       "<Figure size 1200x800 with 1 Axes>"
      ]
     },
     "metadata": {},
     "output_type": "display_data"
    }
   ],
   "source": [
    "plt.figure(figsize=(12,8))\n",
<<<<<<< HEAD
<<<<<<< HEAD
    "sns.barplot(x=models[\"Model\"], y=models[\"Adj. R2 Score\"])\n",
    "plt.title(\"Models' Adjusted R2 Score\", size=15)\n",
=======
    "sns.barplot(x=models[\"Model\"], y=models[\"RMSE (Cross-Validation)\"])\n",
    "plt.title(\"Models' RMSE Scores (Cross-Validated)\", size=15)\n",
>>>>>>> a7b3146fa87b1a8590e95cf10a67c04197a97328
=======
    "sns.barplot(x=models[\"Model\"], y=models[\"RMSE (Cross-Validation)\"])\n",
    "plt.title(\"Models' RMSE Scores (Cross-Validated)\", size=15)\n",
>>>>>>> a7b3146fa87b1a8590e95cf10a67c04197a97328
    "plt.xticks(rotation=30, size=12)\n",
    "plt.show()"
   ]
  },
  {
<<<<<<< HEAD
<<<<<<< HEAD
   "cell_type": "markdown",
   "id": "440cb686",
   "metadata": {},
   "source": [
    "## Model Selected : Random Forest Regressor"
   ]
  },
  {
   "cell_type": "code",
   "execution_count": 53,
   "id": "10324491",
   "metadata": {},
   "outputs": [],
   "source": [
    "y_test=pd.DataFrame(y_test)\n",
    "y_test=y_test.reset_index()\n",
    "y_test=y_test.drop(['index'],axis=1)"
   ]
  },
  {
   "cell_type": "code",
   "execution_count": 54,
   "id": "2e7e777c",
   "metadata": {},
   "outputs": [],
   "source": [
    "predictions = random_forest.predict(X_test)\n",
    "b=pd.DataFrame(predictions,columns=['Predictions'])"
   ]
  },
  {
   "cell_type": "code",
   "execution_count": 55,
   "id": "a9732da6",
   "metadata": {},
   "outputs": [
    {
     "data": {
      "text/plain": [
       "Text(0, 0.5, 'Predicted Y')"
      ]
     },
     "execution_count": 55,
     "metadata": {},
     "output_type": "execute_result"
    },
    {
     "data": {
      "image/png": "iVBORw0KGgoAAAANSUhEUgAAAjIAAAGwCAYAAACzXI8XAAAAOXRFWHRTb2Z0d2FyZQBNYXRwbG90bGliIHZlcnNpb24zLjUuMywgaHR0cHM6Ly9tYXRwbG90bGliLm9yZy/NK7nSAAAACXBIWXMAAA9hAAAPYQGoP6dpAABdQElEQVR4nO3dfVxUddo/8M8ZnkEYBIUBRUBLEdF8SsXUSjGfMlu9t2zVLF0rs82H3NTdNXXN0N37rq3ftpbeZiU9bN65mWVYWSkWiomaRJkPKD4AlsiMioDMnN8fNCPDnJk583hmhs/79eK1cebMma/jrOea7/d7XZcgiqIIIiIiIj+kUnoARERERM5iIENERER+i4EMERER+S0GMkREROS3GMgQERGR32IgQ0RERH6LgQwRERH5rWClB+BpBoMB58+fR3R0NARBUHo4REREJIMoirh8+TKSk5OhUlmfdwn4QOb8+fNISUlRehhERETkhDNnzqBjx45WHw/4QCY6OhpA0xsRExOj8GiIiIhIDp1Oh5SUFNN93JqAD2SMy0kxMTEMZIiIiPyMvW0h3OxLREREfouBDBEREfktBjJERETktxjIEBERkd9iIENERER+i4EMERER+S0GMkREROS3GMgQERGR32IgQ0RERH4r4Cv7EhERkftpa69jxutFOK+tQ7I6HK89NADqyBCvj4OBDBERETnk9r9/gdMXr5l+r9DW4Za/forU+Ajs+uNwr46FS0tEREQkW8sgprnTF6/h9r9/4dXxMJAhIiIiWbS1160GMUanL16Dtva6l0bEQIaIiMiv6Q0iCk9cxNZD51B44iL0BtFjrzXj9SK3nucO3CNDRETkp/JLKrBiWykqtHWmY0nqcCwbn4nRWUluf73zzV7HHee5AwMZIiIiP5RfUoHZecVoOf9Sqa3D7LxirJ3a1+Vg5lqDHs9tL8Wpi7VIi4+EJibULGiyJlkd7tLrOoKBDBERkZ/RG0Ss2FZqEcQAgAhAALBiWylGZmoQpBKceo1Zb+7HZ6UXTL8XHJP/3Fem9nfqNZ3BPTJERER+pqis2ubMiIimlOiismqnrt8yiHHUh4fPOf1cRzGQISIi8jMXLsvbgyL3vOauNehdCmIA4HR1rUvPdwQDGSIiIj+TEC1vD4rc85p7bnupw89pKTUu0uVryMVAhoiIyM8MSI9Dkjoc1na/CGjKXhqQHufwtU9ddG02RSUA07LTXLqGQ6/ntVciIiIitwhSCVg2PhMALIIZ4+/Lxmfa3ejb0GjAhoKTeGZrCTYUnERDowFp8a7Npswamo7QYO+FF8xaIiIi8kOjs5KwdmpfizoyGpl1ZHK3l2J9QRma189btf0HPJydKuv1BcAsa0olNAUxS8ZmOvCncJ0giqLnSgD6AJ1OB7VaDa1Wi5iYGKWHQ0RE5FZ6g4iismpcuFyHhOim5SR7MzG520vx6u4yq4+nxkfYbEUwMjMBL/+uHzYVnsLp6lqkxkViWnaaW2di5N6/OSNDRETkx4JUArK7xMs+v6HRgPUF1oMYADhTfQ0jMtpj548/Wzw2MjMB6x+8FQAwc2hnxwbrAQxkiIiIWpFNhadgrx2TQQQGd2mHf/6un1ll3z+NzUREaJB3BioTAxkiIqJWRG6Nl9PVtYgIDcLKe3t6eESuYdYSERFRKyK3xos3a8G4goEMERFRKzItOw2CnfZLgpdrwbiCgQwREVErEqQSEBFie59LZEiQ080mvY2BDBERUStSVFaN2ga9zXOuNuidbjjpbdzsS0RE5MOcqRNjiycbTiqBgQwREZGPyi+psKjcmySzcq81nmw4qQQuLREREfmg/JIKzM4rNgtiAKBSW4fZecXIL6kAAFxr0GPpB0cwbcM+LP3gCK7ZWTYyNpy0xdmGk0pQNJC5fPky5s2bh9TUVERERGDw4MHYv3+/6XFRFPHMM88gKSkJERERyMnJwbFjxxQcMRERkefpDSJWbCuFVN0647EV20rx+zf2o/sz+di0txwFx37Bpr3l6P5MPma92XQvlWoKGaQScM8ttmdz7rklyW82+yraa+n+++9HSUkJ1q5di+TkZOTl5eGFF15AaWkpOnTogDVr1iA3NxdvvPEG0tPTsXTpUhw5cgSlpaUID5c35cVeS0RE5G8KT1zEA+v3unSN1PgInKm+ZlbFVyUAM4ek46PvKixmeppLUodjz6LhigYzcu/figUy165dQ3R0NLZu3Ypx48aZjvfr1w9jxozBypUrkZycjKeeegoLFy4EAGi1WiQmJuL111/H5MmTZb0OAxkiIvI3Ww+dw9x3Dyk6hndmDXKoh5O7yb1/K7a01NjYCL1ebzGzEhERgT179qCsrAyVlZXIyckxPaZWqzFw4EAUFhZavW59fT10Op3ZDxERkT9pFxWm9BD8JmtJsUAmOjoa2dnZWLlyJc6fPw+9Xo+8vDwUFhaioqIClZWVAIDExESz5yUmJpoek5Kbmwu1Wm36SUlJ8eifg4iIyO18YHsKs5Zk2LRpE0RRRIcOHRAWFoaXXnoJDzzwAFQq54e1ZMkSaLVa08+ZM2fcOGIiIiLP++VKvWKvLcC/spYUrSPTpUsX7Nq1C1evXoVOp0NSUhLuv/9+dO7cGRqNBgBQVVWFpKQbu6urqqrQu3dvq9cMCwtDWJjyU3JERERytSx6FxcZqthYRADLxmf6TdaSTxTEi4qKQlRUFC5duoQdO3bgb3/7G9LT06HRaLBz505T4KLT6bBv3z7Mnj1b2QETERG5iVTRu7YRPnF79guKvlM7duyAKIro1q0bjh8/jj/+8Y/IyMjAww8/DEEQMG/ePDz77LO4+eabTenXycnJuPfee5UcNhERkVsYi961TB++dK1RkfEATUtLK7aVYmSmxi9mZRQNZLRaLZYsWYKzZ88iLi4OkyZNwqpVqxASEgIAePrpp3H16lU88sgjqKmpwZAhQ5Cfny+7hgwREZGvslX0TkkigAptHYrKqhVNv5ZL0YJ43sA6MkREpLSGRgM2FZ7C6epapMZFYlp2Gg6cvuRy0TtPenFyb0zo3UGx15d7/+YiHBERkYtsdajO3V6K9QVlZhV2V23/AXd0a6/QaOXxl/RrBjJEREQusNWh+mD5Jby6u8ziOQYR+OLHn705TNkEABqmXxMREQU+a5t1K7V1eCyvGIKP75UVALOxG4frT+nXihbEIyIi8hV6g4jCExex9dA5FJ64CL3B9hZSOR2qfXkX6pPDb4JGbb58pFGHY+3UvhidZbs7ti/hjAwREbV6tpaHrN3Ui8qqbXaQ9nUD0+MxN6er1b09/oKBDBERtWq2lodm5xWbZihaZh7FKlh91x1+uVqPIJXgFynWtjCQISIin2Er+8dTr2drechYHO7A6UvYsMc888jX97/Y4y9ZSfYwkCEiIp/gzPKOq+wtDxmLw60vsMw88uX9L7b4W1aSPdzsS0REijMu77QMKozLO/klFR553QuX/XePizP8MSvJHgYyRESkKDnZPyu2ldrNInJGoCyvWBMXFWL2uz9mJdnDpSUiIlKU3OUdT/T+6ZfaFioB8ECMpLjYyBDsXZKDA6cv+XVWkj0MZIiISFFyl3c8sQx04PSlgAxigKZlpEDISrKHS0tERKQoucs7nlgGCuQ9Mpdqr6OorFrpYXgcZ2SIiEhRA9LjkKQOR6W2TnKfjLuybKRSuwN9j0wgB2pGDGSIiEhRQSoBy8Zn4rG8YsnHRdzIsnG2zoy11O6l47ojSR3u1xV6bQn0QA1gIENERH7C2Toztir3znn7IHIyEwIukAm0WjG2CKLoryV95NHpdFCr1dBqtYiJiVF6OERE1ILeIGLImi+sBhMCmjJwLtVel3wMgCmluOWMTb/Utrj971/aDFQEwX+L2wHWO1j7e5q13Ps3Z2SIiEhRctKvpYIY42PGNgIGA7DyY/MZm7ioUFRfbbD5+v4axDQtjWVa/Jk1Hq6G7GsYyBARkaJc3ZBqrDPz+NuWe2zsBTH+7J5bkjC2VxJGZWn8voO1KxjIEBGRQ9zd2LE1bEj1hA8PV+Dp0d1bRa0YWxjIEBGRbJ5o7Ggv/Zqkearasb9hQTwiIpLFU40djenXwI2NqkYCbmz2bT2LJfK1hjox9jCQISIiuzzd2HF0VhIeGZYOoUW0IgjAI8PSsXpiT6euG+i4LMdAhoiIZHCksaMz8ksqsG53mUXfI4MIrNtdBgDIyUyQfG7flFinXtOfCWha0msNdWLs4R4ZIiKyy5ONHW3N9hgteO8wahv0ko8Vn6lx+DX9mXHSyljtuLXjjAwREdnlycaOcmZ7rAUxrUF0WJDZ7xp1uN8Xu3MnzsgQESnI3anMnuLJxo7csGrbkyO6IquD2uc/I0phIENEpBBPpDJ7ijGzaLaVxo6A80sd3LBqW7vosFafYm0Ll5aIiBTgqVRmTzJmFrWMVVS/Zha5UkcmNjLEDSMMTJoYBnq2MJAhIvIyT6cye4q1zCLx18wiucGX3iCi8MRFbD10DoUnLkJvEHG90eCBEfs+ewEcM5Ps49ISEZGXOZLK7CtLCvaCL2PjxpGZGpvLS1LLaW0jQ3C1FW7mFVr8r1QHa2Ym2ccZGSIiL/NkKrOnuKOOjLXlNGudrQOdCKCm9jrm5XSFRm2+fMTMJPk4I0NE5GWeTGX2FFeDLzm1YlqrtHaR2LNouF9kr/kiBjJERF7myVRmT3Ek+JJKKbc3o9OaJUSHt/oO1q5gIENE5GXNU5kF+MfeCLnB16Wr9Riy5guLlPKxWRqvjdVf+GLA6o+4R4aISAGjs5Kwdmpfv9kbYa9DNQDcc0sS5rx9UDKlfMPXpzw+Rl9m7T3ztYDVHwmiKAb0kqVOp4NarYZWq0VMTIzSwyEiMuMvlX2NrBXxWzouEys/LrW5fKQSYJG63RpM6pOMb05W+0XhQ18i9/7NpSUiIgX5296I0VlJGJ6RiE2Fp3C6uhapcZGYlp2GA6cv2d0D0xqDGAFA7qRbEKQS/Cpg9ScMZIiISLb8kgos/7AUlbobQcv6gjKM7pGo4Kh8V05mAkKDm3Zx+FPA6k8YyBARkSz5JRV4TKLXUqWuDq8XnlZgRL6v5JwOeoPI2RcP4mZfIiKyS28QsXjLEaWH4XfsFQkk1zGQISIiu/aevIiaVlqB11W+VKE5EDGQISIiuwpPXFR6CH7Llyo0ByIGMkREJEMrTDlqJsTKFpdglWBRI8ZIALtXewMDGSKiAKU3iCg8cRFbD51D4YmL0DfLf7b1mJTszu08PVyfdt3K29NoEE3dv5tjwTvvYdYSEVEAsla4zlid19pj1gq0DeoSj8jQINQ26D07cD8UFRaE6LBgVOrqTcc0LHjnNQxkiIgCTH5JBWbnFVssBlVq6yTTp42Pzc4r9sn2CL7uar0er0zph+AgFQveKYCBDBGRn5JqbwA0zbZIrYTYWjwyLo+s2FaKkZkai5vw3hMXORtjw76yaiwc1U3pYbRKDGSIiPyQtaWjybd2stsqwBoRN+qetKxCu+f4z64MtxVo3ZuhlaToZl+9Xo+lS5ciPT0dERER6NKlC1auXInmfSxFUcQzzzyDpKQkREREICcnB8eOHVNw1EREyjIuHUl1mX7h859cvv6Fy3UWm4G/O1vj8nUDWWvfDK0kRWdk1qxZg7Vr1+KNN95Ajx498O233+Lhhx+GWq3Gk08+CQD429/+hpdeeglvvPEG0tPTsXTpUowaNQqlpaUID2duPhG1LnqD6NTSkSNO/XIVt63+wqyfUlgQ93tYExsZgkHso6QYRQOZb775BhMmTMC4ceMAAGlpaXjnnXdQVFQEoGk25h//+Af+8pe/YMKECQCAN998E4mJifjggw8wefJkxcZORKSEorJqp5eO7BHQdFN+4XPLWe96PZdOrFk9sSc39ipI0aWlwYMHY+fOnfjpp6ap0MOHD2PPnj0YM2YMAKCsrAyVlZXIyckxPUetVmPgwIEoLCyUvGZ9fT10Op3ZDxFRoHCk3L212ia2HqtvNDgxqsD3X307QBMTZnZMExOGV5jlpThFZ2QWL14MnU6HjIwMBAUFQa/XY9WqVZgyZQoAoLKyEgCQmGjeHj4xMdH0WEu5ublYsWKFZwdORKQQueXu5+fcjHf3nzGbvdE0qyOz/MNSs6UjjToc9/dPwT92cg9iSyoBeG5iLwSpBIssMc7EKE/RQOa9997DW2+9hbfffhs9evTAoUOHMG/ePCQnJ2P69OlOXXPJkiVYsGCB6XedToeUlBR3DZmISFED0uOQpA5HpbZOck+MgKag5InhN2P2HTdhU+EpnK6uRWpcJKZlpyE0WIX8kgq03FEjiiJ+rOQMtpRZQ9MRGty0gNEym4uUp2gg88c//hGLFy827XXp2bMnTp8+jdzcXEyfPh0ajQYAUFVVhaSkG1N3VVVV6N27t+Q1w8LCEBYWJvkYEZG/C1IJWDY+02phOxFNZfE/K620SM/+3z1luOeWJKzbXWYRBFXp6pH/fZXnBu7H+nRqq/QQyAZF98jU1tZCpTIfQlBQEAyGpjXa9PR0aDQa7Ny50/S4TqfDvn37kJ2d7dWxEhH5i4PllyTTsyu0dXhVIogBWAXFGmORQHu9qEg5is7IjB8/HqtWrUKnTp3Qo0cPHDx4EM8//zxmzJgBABAEAfPmzcOzzz6Lm2++2ZR+nZycjHvvvVfJoRMRKcKYfm2NAGB9gXSwQo6zVSSwOakqy9w/4x2KBjL/7//9PyxduhSPP/44Lly4gOTkZDz66KN45plnTOc8/fTTuHr1Kh555BHU1NRgyJAhyM/PZw0ZImqV7KVfiwBERjFuZytbzFaDTmY0eZ4gioH9kdfpdFCr1dBqtYiJiVF6OERELtl66BzmvntI6WG0Ou/MGiQ5I2OtQadxLoZNOJ0n9/6t6B4ZIiJyjNz0a3IPAU2zKwPS4yzaNjQ0GuxWWeb+Gs9j00giIj9iL/2anCfAfNOzcVbFWhZYXFQoqq82WL2e3P015BrOyBAR+RFj+jW5z8jMBLwytS80avPZLo06HGun9gUAySwwW0FMc45UYybHcUaGiMjPjM5KwiPD0rG+oAzNVy1UAtA+OhRVOnk3WAJ6dYzB+gdvBQCMzNRYZB4BwJA1X7g0+8XlQM9iIENE5GfySyoki9qJIhjEOOjIWR3ySyowOisJQSrBYgmo8MRFp5t0GqssGwMi8gwuLRER+RFjHRkWtXMfWxtynV0War6/hvVkPIuBDBGRH7FXR4Yc03xDrhS5y0JxUSFmvxv31zD12vO4tERE5Eead6wm97E28yK3SeeuP96JA6cvsbKvAhjIEBEpyFZpe6nHqq/UKzziwGRt5sWYJTY7r9hmenZosIop1gphIENEZIen+ujkl1Rg+Yffo1J3IzjRxIRh+T09AADLPyw1m4HRxIRjTFaiy69LN8jZkDs6Kwlrp/a1qCOjYRsCn8AWBURENniqj05+SQUeyyt2xxBJJmszKnL3srAxpHfJvX8zkCEissJTfXT0BhH9nv0MNbXXXR4j3dA9MQo/Vl21CFYeGZaOPp3a2g1IGaj4Frn3by4tERFJsJfmLKApbXdkpsbhm93eExcZxHjAD1VXLY6JANbtLsPaqW2xZ9Fwq4EKO1j7L6ZfExFJsJfmbC9t15bCk7+4MDJyxoptpQCA7C7xmNC7A7K7xJsFMVItCCq1dZidV4z8kgqvj5fkYyBDRCRBbiE05wqmcbnCm2wFnXIKDLKDtW9jIENEJEFuITRn+ugwTVcZUkGnJ2feyDsYyBARSTAWQrM2dyKgaQ+FM310+nZq69LYyDlSQadnZ97IGxjIEJFf0BtEFJ64iK2HzqHwxEWPT/UbC6HZ4mwfnby9p50dFlkRrBKcCjo9OfNG3sGsJSLyeUpllIzOSsIjw9KxvqAMzeMmlQDMGpru9Gvv42ZftwsLVuFqg95m9V2gqZt186wluS0I2MHadzGQISKfZq2WizGjxJON+fJLKrBud5nFa4tiU0pvn05t7b62VG2S4z9f8ch4W7OrDXrMHXET3vv2rGT1XQAYsuYLyWBYTgsC1pPxXSyIR0Q+S28QLW4+zRm/Le9ZNNztNxq5r22rWWB+SQWWbf0eVZdvtCBIjA5DXUMjtPV6t46XgCfu7IL5I7tZBI6flVbaLWwIgHVkfAwL4hGR33Mko8TdmUByX3vgqs9x6dqN4naJ0WFYMaGpV5JUC4LmQQ25m4AglWD2WZBb2HDPouEYmalhZV8/xECGiHyWkhklcq/ZPIgBmgKVx/KKERrMXApvkwpmHQ2GmRrvf/j/NCLyWUpmlLh6zYZGg5tGQnK0jQzBoM6WQQjTqwMfAxki8lnuquXiTOq2vdcm35I7safkMhDTqwMfl5aIyGcZa7m4klHibOq2rdcmZYzKTMThs1pU6uT/XTK9OvAxa4mIfJ6zwYi11O3m2Sr2MlKkXjtIAPQB/S+nb1oyJgO/H9rZ4Q25xs8BIB0MezKFn5wn9/7NQIaI/IJUPRZbNzBHUrcB2Lx2y9f+34IT2Pnjz27985F9j9/RBU+PznDquUoVVSTnMf2aiAJKy7Rae+Rmq/zzi2N4p6gclbobadGamDAsv6eH6QbX8rXPVF9lIKMAVzKhR2clMb06QDGQIaKAJDcL5YXPj1kcq9Q1pVC/YmXJ4XJdo8vjI8dld27n0vMdDYbJPzCQIaKA5I4slMVbjmBkpgaA+dJTbGSoy9cmx8RGhmAQgxCSwECGiAKSvWwVOWpqr+Olncfw3rdnzJap2kbyn05vW20lvZqIdWSIKCAZ06cBWNSCceR2+OLOYxZ7bS7VcmnJU9QR5kGiJibM6hIfEcAZGSIKYKOzkrB2al8s//B7s828iTFh6BQXiaJTlxQcHUn515R+UAkCN+SSbAxkiKgVsJyT4T4X32JMhx/UOZ6BCzmEgQwRBSxrBfGqdHX4tJS9dZTibJVmIincI0NEAUlvELFiW6nkRt+ArgLq427v2g4atXlGmUYdzuq65DTOyBBRQLJXEI+UMezm9njtoQEsTEduw0CGiAKS3IJ45D0qAZiWncbCdORWspeWArwlExEFGHcUxCP3GtE9AaHB3NFA7iX7E3Xbbbfh+PHjnhwLEZHbDEiPQ2xkiNLDoGZKzumgN/BLMbmX7ECmY8eO6N27N15++WVPjoeIfJzeIKLwxEVsPXQOhScu+syNyVfHRTdUaOtQVFat9DAowMjeI/Pee+9h8+bNeOKJJ/DBBx9g48aN6NixoyfHRkQ+Jr+kAiu2lZptok1Sh2PZ+EyPZ5zoDaLVDaJS44qLCkFN7XWPjokcx71L5G4Obfb97W9/izvuuANz5sxBz549MW3aNAQHm1/i+eefd+sAicg3WKvJUqmtw+y8Yo+mz9oKoABIjqv6KoMYX9SuTZjSQ6AA43DWUlxcHLp3747//Oc/OHjwoFkgIwhMnyMKRPZqsggAVmwrxchMjdvTaO0FUOrIENaF8Sei7dk1Ikc5FMh8//33ePDBB1FdXY1PP/0Ud955p6fGRUQ+xF5NFhE39j+4M61WTlE7Lh/5ly9+rMLC/zusyPIkBSbZm31Xr16Nfv364ZZbbsF3333HIIaoFZG7r8Hd+x9Y1C7wbPj6lMXfqXF2Lb+kQqFRkT+TPSPz4osvYvPmzRg/frwnx0NEPkhuTRZ75zm6pFCpYxATKAQAggBIJZN5enmSApvsQKakpATx8azESNQaDUiPQ5I6HJXaOsllHmPn4gHpcVav4UzGU/WVehdHTkqQagopArBVV9VTy5MU+GQvLXkiiElLS4MgCBY/c+bMAQDU1dVhzpw5iI+PR5s2bTBp0iRUVVW5fRxEZFuQSjBlCLX8riync7Fxw66tJQWpOjBxUaFu/pOQp2UktpFsCjnjtjRZz2d6NjlK0V5L+/fvh16vN/1eUlKCkSNH4re//S0AYP78+fj444+xefNmqNVqPPHEE5g4cSK+/vprpYZM1GqNzkrC2ql9LWZVNHZmVeRkPC3ecgTLPyw1W0pKUodj8q2d3PuHII9bMro7hnRrb7GEWFRWjde+PmX3+WwtQY4SRB9qojRv3jx89NFHOHbsGHQ6Hdq3b4+3334b//Vf/wUA+PHHH9G9e3cUFhZi0KBBkteor69Hff2N6WidToeUlBRotVrExMR45c9BFMgc3edSeOIiHli/1+HXMV4xIjQItQ16m+eSbwgNVuGHv46W/DzoDSKGrPnC7vLknkXDuUeGADTdv9Vqtd37t89072poaEBeXh5mzJgBQRBw4MABXL9+HTk5OaZzMjIy0KlTJxQWFlq9Tm5uLtRqteknJSXFG8MnajWMnYsn9O6A7C7xdm86zi4VGG921xjE+I2XJve2+nlwdXmSyBpZgYxOp5P946wPPvgANTU1eOihhwAAlZWVCA0NRWxsrNl5iYmJqKystHqdJUuWQKvVmn7OnDnj9JiIyHWuVHIVARa780HqcPNbR/uoYLwio7KzcXlSag+NJytDU2CTtUcmNjZWdtXe5nteHLFhwwaMGTMGycnJTj3fKCwsDGFhLIFN5CkNjQZsKjyF09W1SI2LxLTsNIQG2/hOxEgk8AhBAAymX4OC5G+3HJ2VhJGZGlb2JbeR9en78ssvTf996tQpLF68GA899BCys7MBAIWFhXjjjTeQm5vr1CBOnz6Nzz//HFu2bDEd02g0aGhoQE1NjdmsTFVVFTQajVOvQ0Suyd1eivUFZWa1QFZt/wGzhqZjydhMyef8cpUp1IFGe828mnKVzrF+W8blSSJ3kBXI3H777ab//utf/4rnn38eDzzwgOnYPffcg549e2LdunWYPn26w4PYuHEjEhISMG7cONOxfv36ISQkBDt37sSkSZMAAEePHkV5ebkpgCIi78ndXopXd5dZHDeIMB2XCmaYhRL4WNCOlOTwZt/CwkL079/f4nj//v1RVFTk8AAMBgM2btyI6dOnmzWgVKvVmDlzJhYsWIAvv/wSBw4cwMMPP4zs7GyrGUtE5BkNjQasL7AMYppbX1CGhkaDxXFjMT3e2gJb84J2RN7kcCCTkpKC9evXWxz/3//9X6cyhD7//HOUl5djxowZFo+98MILuPvuuzFp0iQMGzYMGo3GbPmJiLxjU+EpydLyzRnEpvNaMmarcKtM68CCduRtDhfEe+GFFzBp0iR88sknGDhwIACgqKgIx44dw/vvv+/wAO666y5YK2UTHh6Ol19+GS+//LLD1yUi9zldXevW8yhwcSmRvM3hGZmxY8fip59+wvjx41FdXY3q6mqMHz8eP/30E8aOHeuJMRKRwlLjIp0+T28QsXjLEXcPiXxQkp1+W0Se4FSLgpSUFDz33HPuHgsR+ahp2WlYtf0Hm8tLKgH43cBUFJ64aJZWu/fkRdTUXrf+RPIpKisdquW455YkbvQlr3MqkCkoKMCrr76KkydPYvPmzejQoQM2bdqE9PR0DBkyxN1jJCKFhQarMGtoumTWktGI7gkY/j9fWXS37p0S64URkrsYgxhrHaxt+fBwBZ4e3Z3BDHmVw0tL77//PkaNGoWIiAgUFxeb+hpptVrO0hAFsCVjM/HosHS0vEepBGBkZgI+L70g2d36kxLrlbjJN828Lc2i+q6cTuTMWiIlONw0sk+fPpg/fz4efPBBREdH4/Dhw+jcuTMOHjyIMWPG2GwfoAS5TaeISJ6WlX1/NzDVYiaG/Ns7swaZOlYblwkrtdcw/73Ddp/74uTemNC7gxdGSYFO7v3b4aWlo0ePYtiwYRbH1Wo1ampqHL0cEfmZ0GAVZg7tbPq98MRFBjEBJCo0yNQyoHn13cITF2U9n1lL5G0OLy1pNBocP37c4viePXvQuXNniWcQUSBj3ZDAUntdD73Ebl97hQ0FMGuJlOFwIDNr1izMnTsX+/btgyAIOH/+PN566y0sXLgQs2fP9sQYiciLGhoN2FBwEs9sLcGGgpMW1XpbPh4XYX/vBPkP0U5hQwAWwYzx92XjM7nRl7zO4aWlxYsXw2AwYMSIEaitrcWwYcMQFhaGhQsX4g9/+IMnxkhEXmKvKaTU47xvBR5rhQ1HZyVh7dS+WLGt1Gw5UaMOx7LxmbIaRhK5m8ObfY0aGhpw/PhxXLlyBZmZmWjTpo27x+YW3OxLJI+1ppBGvTrG4LuzOi+OiJSydFx3s31QLekNotlGYOOeGiJ3knv/dnhpacaMGbh8+TJCQ0ORmZmJAQMGoE2bNrh69apkvyQi8n1ymkIyiGkdVEJTAURbjBuBJ/TugOwu8QxiSFEOBzJvvPEGrl27ZnH82rVrePPNN90yKCLyLjlNIal1mDU0HaHBDt8aiBQje4+MTqeDKIoQRRGXL19GePiNFDu9Xo/t27cjISHBI4MkIs86dfGq0kMgLwoLVuG63mCx18m4Fwrg8hH5D9mBTGxsLARBgCAI6Nq1q8XjgiBgxYoVbh0cERG534uTe2N4RqJZYcNp2WmmmZj8kgqLDb1J3NBLPkp2IPPll19CFEUMHz4c77//PuLibtQKCA0NRWpqKpKTkz0ySCJyjKPfpnuntMWmveVeHCF50sjMBHxWesHmOS0LGxrll1Rgdl6xRV+lSm0dZucVY+3UvgxmyKfIDmRuv/12AEBZWRk6deoEQeAUI5EvcubbdHJshLeGR24yIqM9dv74s8XxWUPTsfnAWZvPXbzlCEZmaiyCW71BxIptpZLNIUU01YtZsa1U8rlESnF4R9cXX3yB//u//7M4vnnzZrzxxhtuGRQROcf4bVqqeePsvGLkl1RIPq9falvWg/Ezvx/aBT89OwZLx3XHg9mpWDquO356dgzu6JqAmtrrNp9bU3sdeyVaDhSVVdtsNyGCjSHJ9zgcyOTm5qJdu3YWxxMSEtj9mkhB9r5NA03fpq816C0q9x44fYlZS36ieSsA4/LQXydkYebQzggNVqHw5C+yriN1ntx2E2xLQb7E4cq+5eXlSE9PtziempqK8nKusVPr4WtZHXK/TWcuy4fYonLvHd3ae36A5DJ5rQDkfgYtz5Pb8JGNIcmXOBzIJCQk4LvvvkNaWprZ8cOHDyM+Pl76SUQBxhezOuR+S25Zy9sgAl9I7LUg5UWHB+NyXaPpdzmtALK7xOOfX1o29pU6ryVjY8hKbZ3kzJ7w6xjYGJJ8icOBzAMPPIAnn3wS0dHRGDZsGABg165dmDt3LiZPnuz2ARL5Gl/N6mjXJszrr0me9c/JfRAaEuTQrN+gzvGIjQyxuU+mbWQIBnW2DGSMjSFn5xVDAMw+42wMSb7K4T0yK1euxMCBAzFixAhEREQgIiICd911F4YPH849MhTw5O5D0Sux4cRNL2mtszF5X03ddYdbAQSpBKye2NPmObkTe1q9lrExpEZtvnykUYcz9Zp8ksMzMqGhofj3v/+NlStX4vDhw4iIiEDPnj2RmprqifER+RRHsjqkpu6bu1LXiPn/PojyS9fQqW0EXri/D9qEO/x/SZNfrtY7/VyjHsnR+KHistnykyAAvTvG4uCZGpevT45xdi/K6KwkvDK1L5Z/WIpKnePLn6OzkjAyU+NTe8CIrHH6X82uXbtKVvglCmTuyuq4558FZk0Yj1ZeRtbyHejVMQYfPjHUqbG5YwPm9+cvWxwziGAQ42Xu2IviajBibAxJ5OtkBTILFizAypUrERUVhQULFtg89/nnn3fLwIh8kTuyOloGMc19d1aHe/5Z4FQwY2+jJvkmT+5FYTBCrYGsQObgwYO4fv266b+tYbVfCnSuZnVcqWu0GsQYfXdWhyt1jTaXmaylfi8bn4nH8ood+BORkib2TkZhi+VKOZlJRHSDrEDmyy+/lPxvotbG1ayO+f+2/kWg5Xnrp98q+Zit1G/yL3pRxJ5FwxXZi+JrdZCInOX8zkKiVsqY1dEymJDzTbr80jVZr2HtPGup3xXaOjyWV4yo0CBZ1yffUNugV2T5xxfrIBE5S1YgM3HiRNkX3LJli9ODIfIXzm6k7NQ2AkcrLTfUSp3Xkq3Ub6OrDXq71ybfkRjj/Qq5vloHichZsurIqNVq009MTAx27tyJb7/91vT4gQMHsHPnTqjVao8NlMjXGL9JO1Lj44X7+8i6ttR59lK/yf/0Ton16uv5dB0kIifJmpHZuHGj6b8XLVqE++67D6+88gqCgpqmsfV6PR5//HHExMR4ZpREAaJNeDB6dYyxueG3V8cYyY2+52vkLUuR/7hkp0u1u7mzDhKRr3C4su9rr72GhQsXmoIYAAgKCsKCBQvw2muvuXVwRIHowyeGoldH6aDfVh2ZQ2cueXJYpIBLtQ3QG0QUnriIrYfOofDERY/OhrC7NQUihzf7NjY24scff0S3bt3Mjv/4448wGAxuGxhRIHv8jpvwzNbvceHyjWq8CdFhePyOmxQcFXlb2S9XMGTNF17bdMvu1hSIHA5kHn74YcycORMnTpzAgAEDAAD79u3D6tWr8fDDD7t9gESBJr+kQrLWy4XL9XgsrxivWNlsmRYf5Y3hkRd9UlJlccyTm27Z3ZoCkSCKokPzmAaDAf/93/+NF198ERUVFQCApKQkzJ07F0899ZTZkpMv0Ol0UKvV0Gq13MNDitMbRPRavsNmdlFUWBC+WzbKYvNwQ6MBGUs/AfdhBgZBAKz962sMKPYsGu722i7GrCVAug4Ss5bIV8i9fzu8R0alUuHpp5/GuXPnUFNTg5qaGpw7dw5PP/20zwUxRL7mm+O/2E2Rvlqvx55jP1vsmwgNVmHW0HQvjZQ8zdZXyOabbt2N3a0p0DhVEK+xsRFfffUVTpw4gd/97ncAgPPnzyMmJgZt2rRx6wCJAsn7xWdlnfdo3gHUXb+x58y4b2LJ2EwUnrwomfWUFBOGCp3rHbDJd3hq0y27W1MgcTiQOX36NEaPHo3y8nLU19dj5MiRiI6Oxpo1a1BfX49XXnnFE+MkckpDowGbCk/hdHUtUuMiMS07DaHBDk9Eus3ZS7WyzmsexAA39k3kZCZYTd1mEBN4PLnplg0lKVA4HMjMnTsX/fv3x+HDhxEff+P/BL/5zW8wa9Ystw6OyBW520uxvqDMbE/Jqu0/YNbQdCwZq0xfog6xEfj2dI3DzxPRtIfhs9IL7h4S+SBuuiWSz+GvpgUFBfjLX/6C0NBQs+NpaWk4d+6c2wZG5Irc7aV4dXeZxcZYgwi8ursMudtLFRnXf/VLcfq53OPrm2IjQsx+T1KHY37OzbKf33IxR07zUSK6weEZGYPBAL3ecrPi2bNnER0d7ZZBEbmiodGA9QVlNs9ZX1CGp+7KcGmZyZllq8E3tUNkaBBq2RMpYLw8pS9UgmC21wQA3t1/xm6a89Jx3bHy4x8cbj5KRDc4HMjcdddd+Mc//oF169YBAARBwJUrV7Bs2TKMHTvW7QOkwKA3iF7bWLip8JTdFGWD2HTezKGdnXoNZ5etglQCnr/vFsk6MuRfjMHIoM7SfbaWjc+0+vcs/vr46KwkjMpK4qZbIhc4HMj893//N0aPHo3MzEzU1dXhd7/7HY4dO4Z27drhnXfe8cQYyc/ll1RgxbZSr1UvPV0tb0Ot3PNaMi5btWRctgKg2B4c8gwB0jVX3LH8w023RK5xeF49JSUFhw8fxp///GfMnz8fffr0werVq3Hw4EEkJCR4Yozkx4zFt1o2qjNm4eSXVLj9NVPjIt16XnNyl60aGqXbdegNIp5895DDr0vKad8m1OGaK8Yu09YIYJdpIndxaEbm+vXryMjIwEcffYQpU6ZgypQpnhoXBQDjP+ZS/1Qbs3BWbCvFyEyNW6fSp2Wn4dntP9gsOCYITec5ytVlqz1Hf7Ya5JBv6tUxFuse7O/Q8g+7TBN5j0OBTEhICOrq2BWV5FHqH/MglYCIENsbaiNDgpwKnlxdtlq356TDr0nKMu6BceQzyi7TRN7j8NLSnDlzsGbNGjQ2NnpiPBRAlPrHvKis2m5W0NUGvVPl311dttLVXXf4NUk5ggBMH5zm8PPYZZrIexze7Lt//37s3LkTn376KXr27ImoKPOOvFu2bHHb4Mi/KfWPuScDqGnZaVi1/Qeby0sqG8tWt3SMxZFz0pV5yfc8MjTdqRR9dpkm8h6H/x8aGxuLSZMmYdSoUUhOToZarTb7ITIy/mNubQFHQFP2krv/MXckgGpoNGBDwUk8s7UEGwpO2t2/Iqdx4ywbN78/j2M2k6+5o1t7tFxlVAnAo8OcrwAdpBKwbHzTc1nwjsizBFG0tSXS886dO4dFixbhk08+QW1tLW666SZs3LgR/fv3BwCIoohly5Zh/fr1qKmpwW233Ya1a9fi5pvlVc6U2wacPMOYtQRIp696otuu3iBiyJov7H4bvrtXEjbsMa8FoxIgq4XBrDf3S7YLGJmZgPUP3mpzbJnP5KOeG359xtJx3TEtO80jPbm8XXqAKJDIvX/LXloyGAz4+9//jg8//BANDQ0YMWIEli1bhoiICKcHeenSJdx2222488478cknn6B9+/Y4duwY2rZtazrnb3/7G1566SW88cYbSE9Px9KlSzFq1CiUlpYiPJzry75udFYS1k7ta/GPuSerlxq/Dc/OK7Za/yOrQ4xkGnXLWjBShfw+K63E51Z6Hn1eegH5JRVW/1xFZdUMYnxMXJswhAarnC6OaAu7TBN5nuwZmZUrV2L58uXIyclBREQEduzYgQceeACvvfaa0y++ePFifP311ygoKJB8XBRFJCcn46mnnsLChQsBAFqtFomJiXj99dcxefJki+fU19ejvv5GF2CdToeUlBTOyCjMm5V9jax9G/7zmO548t8H7e5zeen+Plj1SYvy8TFhqGs0oKZWetOucbZnz6LhAGDxZ/7ou/OYyzoyPuWt3w/EbTe1U3oYRNSC3BkZ2YHMzTffjIULF+LRRx8FAHz++ecYN24crl27BpXKuSnYzMxMjBo1CmfPnsWuXbvQoUMHPP7446Yu2idPnkSXLl1w8OBB9O7d2/S822+/Hb1798aLL75occ3ly5djxYoVFscZyLROUgHU61+XYeXHP3j0defndMU7ReWo1DUPgsLxwIBOeOHznzz62uSYt2YOxG03M5Ah8jVyAxnZEUh5eblZL6WcnBwIgoDz5887PciTJ0+a9rvs2LEDs2fPxpNPPok33ngDAFBZWQkASExMNHteYmKi6bGWlixZAq1Wa/o5c+aM0+Mj/2es/zGhdwdkd2mqB+JsawJHvPD5T2ZBDABU6urwwuc/ITI0yOOvT/L9crXe/klE5LNk75FpbGy02JMSEhKC69edr4thMBjQv39/PPfccwCAPn36oKSkBK+88gqmT5/u1DXDwsIQFhbm9Jgo8DnTmsCd2Pnat7CWC5F/kx3IiKKIhx56yCxIqKurw2OPPWZWS8aROjJJSUnIzDTPDunevTvef/99AIBGowEAVFVVISnpxubJqqoqs6UmImsaGg0W2ShyasFQ4GMtF6LAIDuQkZohmTp1qksvftttt+Ho0aNmx3766SekpqYCANLT06HRaLBz505T4KLT6bBv3z7Mnj3bpdemwJe7vRTrC8zTq1dt/wGzhqZj1tB0yQ7W1DqwlgtR4FC0jsz+/fsxePBgrFixAvfddx+Kioowa9YsrFu3ztSQcs2aNVi9erVZ+vV3330nO/2adWQCn9SG3r/l/2AzUHl0WFNRu5aBjkoAHs5OxYZvTnt62ORF0eFBuFx3Y0mPtVyIfJ/bs5Y85aOPPsKSJUtw7NgxpKenY8GCBaasJeBGQbx169ahpqYGQ4YMwb/+9S907dpV1vUZyAQ2qRTrxOhQXLjSYLP7tUoAflw5BgAslp42FZ7yeFYTedffJvVESlwUa7kQ+RG/CWQ8jYFM4DJWDXb2A7x0XHfJImjPbC3Bm4WckQkk0wZ1wsp7eyo9DCJygNvTr4l8id4gYsW2UqeDGABW07CVzmoiIiL5GMiQXyoqqzZbTnKGtYBlWnaaRRNB8m9p8VH2TyIiv8RAhvxSpfaaS89XCU0BixQ5Ha7Jf9j6uyYi/yc7/ZrIkxztxVR9tcGl15s1NN1md2Nj9+uWWU0CgMjQIFxlUTu/Ye/vmoj8GwMZUpy15o620mPj2sir3tyy+7VKaLqxGQMVW5aMzcRTd2WYZTV1TYzGtNeKZL02eU+flFgcPltjkUov9++aiPwXAxlSlLXMo0ptHWbnFWPt1L6SwUxCtLxA5vWHb8XxC1fM0qubfzt3dCbo58vsy+OLFo7qhlvT4ixS6TkTQxT4GMiQYmxlHolomk1Zsa0UIzM1lsGFzHSlYJVKMsUasD8TJFUZmHuAfVPfTm0RGmz975qIAhe/rpBi7GUeiQAqtHUoKqu2eExux2Jr5xlnglq+vnEmaNab+/Hq7jKLfkwBXXTJj+XtPaX0EIhIIQxkSDEXLstLn5Y6T27HYqnz7M0EAcBnpRdkXZ98w/5Tl5QeAhEphIEMKcaVYGRAehyS1OFWl3oENC0TSXU2ljMTRL5BEyNvL1RUaJCHR0JEvoqBDCnGlWAkSCVg2fhM03ktnwdY72wsdyaIlFepk7eEOLFvRw+PhIh8FQMZUowrwQgAjM5KwtqpfaFRm8/YaNThVrOdAKBdlLxv+eQfosKCMPimdkoPg4gUwqwlUpQxGGmZPaSxU0em+fNHZmocSqFm6lFg+Z/f3sJO1kStGAMZUtzorCTc3jUBz20vxamLtUiLj8SfxmYiQua+hyCVgOwu8ZKPSdWJucBaMH7nlo4xqNI1oFInv2giEbUODGRIcS3rtRQcA97aV+5yVdb8kgos/7DU7OaniQnHkJukgx7yXZ3btcGWx3s7NvNGRK0CAxlSVO72Ury6u8ziuEGE6XjLNgFyKrbml1Tgsbxii+OVujr8X/E59wyevGZi3442Z96IqPUSRFEM6GxTnU4HtVoNrVaLmJgYpYdDzTQ0GpCx9BOLonMtqQQ41ENHbxDR79nPUFN73Y2jJaUIAI4+O4btBohaGbn3b/7LQIrZVHjKbhADwOIc42xN7vZSyfP3nrzIICaAiAAOnGbBOyKSxkCGFHO6utal568vKENDo8Hi+DcnfnHpugAwMjPB5WuQ+7D2DxFZw0CGFJMaF+nS8w1i06xOS+cuXXPpugAwqW9HBjM+RG4VaCJqfRjIkGKmZafB1aQTqVmd5FjXb3qP5RXjc/ZbcpuwX/e3OPrXbau6MxERwECGFBQarMKsoekuXaNDbITFsdu6tHfpmkYBvQveyyJCg/Cv3/WxqMKcpA7Ho8PSIcC56s5EREy/JkUZM4+a15FxhNTtbVCXeItMJ1JWTe11tI0Kw55Fw63WgllfUIbmOZTCr9lpLHhHRLYwkCHFLRmbiXk53cwq+zYaRLxTdMbuc89cqkVDo8Gszsxv+nRkEOODLlyuk6wFk19SgXW7yyxmwAwisG53Gfp0astghoisYiATYKRK8vv6tHx+SYVZr6WCY0B4iLxVz2/LqtHtL5+Y3QRXfvyDB0ZJrpLasKs3iFixrdTmMt6KbaUYmanx+c8xESmDgUwAaRkQAL7fjya/pAKz84otbmR11y3TqqX8UHXF/YMit7O2YbeorNrs89qSCKBCW4eismpW9SUiSdzsGyCMAUHLm0Kltg6z84qRX1Kh0Misk/NtnALDPbckSc6oyK0PwzoyRGQNA5kAYCsgMB5bsa0Ueh/bOGLv2zgFjg8PV0h+/uTWh2EdGSKyhoFMAHBket6X8Ft262Ht8zcgPQ5J6nCr9WVYR4aI7GEgEwD8dXqe37JbF6nPX5BKwLLxTSn4rCNDRM5gIBMA/HV63t63cfItsZEhLv1dWfv8jc5KwtqpfS2K5WnU4Vg7ta/PblQnIt/ArKUAYAwIKrV1kvtkBDTdFDw5Pd+ylsu07DSEBtuOk43fxmfnFUMAK+n6ghfu6401+T+iUmeZ+QbAqb8rOZ+/0VlJGJmp8bvSAUSkPEEUxYC+f+h0OqjVami1WsTExCg9HI8xZi0B5jcZ423Ak99sc7eXWlTmVf1aldVYudcWqbTx+KhQXLza4Inhkg3vzBqEAelxVgMKayn+99yShHW7ywB4//NHRIFJ7v2bgUwAUaKOTO72Urz66w1MyqPD5AUzLQv59Utti9v//qXVWSbyjBcn98aE3h1snmOt6KI/1jEiIt/FQOZXrSmQAbxb2beh0YCMpZ/YbAegEoAfV46xu8wkxdYsU0B/aBVkb0bGHn+sLE1Evknu/Zt7ZAKMVC8bT9lUeMpuTyOD2HTezKGdHb6+cRNoy2/5GnU4Jt+aghc+P+bwNcm6JHU4Ll1twJA1X3BWhYj8BgMZMrG3Ybfl4yd/uSrruqera+2eY+2bvLVNoADw7v4zXHpyo6wOMZjztmW7CGN1aHv7XLi0RERK4NISAbC/YVfqcblLPEvHdbc5I+PsDTC/pAKP/br0RK5TCbA6w2bMPNqzaLjkUpG1nlnc7EtEzpJ7/2YdmVZEbxBReOIith46h8ITF00l440bdlvexAwi8OruMtzzzwLJx+UEMSoBmJadZvVxOT2irI27tXpoUCfJ4nF393ItULD1ttqqDu2vLTKIKDBwaamVsDbr8ecxGVhfYD3rCAC+O6tz+nVnDU23utHX3g1QALBkyxEs//B7VOrqzca9dFwmFv7fYafH5c9e31tucUwE8NF3FYiNDEFN7XWPvbZUdV52sCYiJTGQaQWsTftXauvwxLuHPPKacurIyLkBXpK4KVdq6/D421xSknK5znNBDCBdnddfW2QQUWBgIBPg5Ez7u8OUASno3L6NQ5V9nb2xcYHCOr3B+eeqBEAUpd9fW9V5/bVFBhEFBgYyAc7erIe7pMZHOZxizRubbzDut5k1NB3rdpdZbOK217zRF1pkEFHrxc2+Ac5b0/kGJzbksmmkMmIjQsx+NzZnXDI206nmjY50sObGbSJyN6ZfB7jCExfxwPq9Hn+dyJAg1F7Xm36XWz+EKdTe99bMgVCpBKvVd52tzmsvjT6/pALLPyw1a0ipiQnH8ntYZ4aILLFFwa9aeyCjN4gYsuYLu9P+d/dKwoY9lnVkBqTHYe9Jy5Rbe+TWD2Eg4z32asG4g60+TLb+nl9hnRkiaoGBzK9aeyADyO+MLVXZF4DdfkrW2Ltx6g0iuj+Tj4ZGF3aokpleHWNw5Nd0eV/pQq03iOi1fAeuNuitnhMVFoTvlo1iXyYiMmFBPDIx9iyyt/chNFiFmUM7468TsjBzaGeEBqsQGqzCiO4JTr2urSJqALDn6M8MYtzs8Ttucmqfiyd9c/wXm0EMAFyt1+Ob4794aUREFEiYtdRKWOtZZO8bsN4gouSc8wXxAOsbjtftOenSdcmcgKYKunsWDXfq79pTthSflX3e0K7tPTwaIgo0is7ILF++HIIgmP1kZGSYHq+rq8OcOXMQHx+PNm3aYNKkSaiqqlJwxP7N2Bl7Qu8OyO4SL+vG5o70bWtp1jXXGly6LplrPgPmzN+1p9ibjXH0PCKi5hRfWurRowcqKipMP3v27DE9Nn/+fGzbtg2bN2/Grl27cP78eUycOFHB0bY+rqRvC2jKWrFWPyQ0SPGPX0DytQq6t6a1det5RETNKX4nCQ4OhkajMf20a9cOAKDVarFhwwY8//zzGD58OPr164eNGzfim2++wd691tOJ6+vrodPpzH7Iec4WrbNXRA0A2kaGSB5vLaRqrggARmYmoOVbphLkN4X0tUKD0wen260VJPx6HhGRoxQPZI4dO4bk5GR07twZU6ZMQXl5U0O8AwcO4Pr168jJyTGdm5GRgU6dOqGwsNDq9XJzc6FWq00/KSkpHv8zBDJj0Tpb2kaGQBMTZnas5eZSqUJoDfqATpizSiUA/5zcx+qG3PUP3oofV47B0nHd8WB2KpaO644fV47Bi5P72CwgaG8GTCmhwSo8Msx2kPLIMOvNRYmIbFF0s+/AgQPx+uuvo1u3bqioqMCKFSswdOhQlJSUoLKyEqGhoYiNjTV7TmJiIiorK61ec8mSJViwYIHpd51Ox2DGBUEqAVkdYmzuk+mf1havTO1vdXNpfkkFlm39HlWXb3SwTowOQ+9OsZ4evk+aNTQdd/dOxl1ZGot0d+PN3JhB1tKy8ZmYnVfscBsBpRmbh67bXWYx7keG2W4uSkRki6KBzJgxY0z/3atXLwwcOBCpqal47733EBER4dQ1w8LCEBYWZv9EkqWh0YCdP1ywec7OHy5AbxCR3SXe4jFrhdCqLtdjx/eBu3F7YFpb7D99yaLAoLEjuFQV3P/dU2a3GvLorCQ8Miwd6wvK0LwClPDrtd2RXn2tQY/ntpfi1MVapMVH4k9jMxERGuTydZeMzcRTd2VYDd6IiJzhU+nXsbGx6Nq1K44fP46RI0eioaEBNTU1ZrMyVVVV0Gg0yg2yldlUeMpuMTyD2HReyxkEvUHEgvcOe3B0vuuJ4TdjYOd4yZu2sUBhy7e1UluH2XnFNuu95JdUWMxqAE1/B+t2l6FPp7YuBTOz3tyPz0pvBK4Fx4BNe8sxMjMB6x+81enrGlmbaSIicpZPfRW6cuUKTpw4gaSkJPTr1w8hISHYuXOn6fGjR4+ivLwc2dnZCo6ydTldXev0ed8c/wW1rTSltrq2QbLAoN4gYsW2Usl2EeKvPyu2lUo2U7T1XCNrz5WjZRDT3GelFzDrzf1OXZeIyJMUDWQWLlyIXbt24dSpU/jmm2/wm9/8BkFBQXjggQegVqsxc+ZMLFiwAF9++SUOHDiAhx9+GNnZ2Rg0aJCSw25VUuMinT7vfZmF0AKRtcwhOXV5rFVDtvdce5WUbbnWoLcaxBh9VnoB11ppYEpEvkvRQObs2bN44IEH0K1bN9x3332Ij4/H3r170b59U3XPF154AXfffTcmTZqEYcOGQaPRYMuWLUoOudWZlp1mkQrckkqAqS9Tc7UNjZ4ZlA+zlznUvPOzLVLnya0P40wdmee2l7r1PCIib1F0j8y7775r8/Hw8HC8/PLLePnll700ImopNFiFWUPT8eruMqvnzBoqnTp7a1o8PrXzLT+QyMkcqr5SL3lcznly68M4U0fm1EV5S4hyzyMi8haf2iNDvmnJ2Ew8Oixdskjbo7+mzjY0GrCh4CSe2VqCDQUn0dBowPTBaXYLofmz8BDz//vIacwYFxUq69pS5xlr+niijkxavLwlRLnnERF5i09lLZHvspU6m7u9FOsLysyym1Zt/wEzh6QjIjQoYDf8vjqlH0JDghxqzKhRyysrIHVekErwWB2ZP43NxKa95bLOIyLyJQxkSDap1Nnc7aWSy04GEVhfYH05yt9FhQVhSNf2DgcNxlkVW5t2bc2qjM5KwtqpfS1q0GjU4XZr0NgSERqEkZkJNjf8jsxMcEs9GSIid2IgQ05raDQEZLAiAFBHhqCm9rrVc/7nt7c4NfPRfFZFKklagP1ZldFZSRiZqbFaSdlZ6x+81WoKtrvqyBARuZsgimJAN7zR6XRQq9XQarWIiYlRejgBZUPBSaz8+Aelh+ESa0s0a6f2BQAs/7DULIMoycWZDyOpyr7uurarPFXZl4jIEXLv35yRIRNHb2Byi+X5qs7xEbjWKNpcovHEzAfguVkVd4gIDcLKe3sqPQwiIlkYyBAAeaXp9QbR7Mab0ta/M1iyOsbihfv72AwmglSCZA8pd/DktYmIWgsGMgGmZbAh51u+nNL0k/p2tFgKSYz27+acPZLVDCaIiPwcA5kA4sy+C7ml6aXOqbosr7ibr0qIcbxwHBER+RYWxAsQxo7KLdN6jR2V80sqJJ/XmkvOaxjIEBH5PQYyAcBeR2XAelfk1lpy3tkKuERE5FsYyAQAV7oit7aS8wLMa7XoDSIKT1zE1kPnUHjiomSwR0REvot7ZAKAK12R5Zam91dxUaGovtpg+r15erUv13IhIiJ5GMgEAFe6IocGqxAWrEJ9o8Hdw/IJS8ZkoGPbSIssLuOeopbzL8Y9RfaaPxIRkW9gIBMAjP17KrV1Vsvea6zsCSkqqw7YIAYAvjtbg9/2TzE7Zm9PkYCmPUUjMzU+UaCOiIis4x6ZAGDs3wPcKLFvZK8rstxlqUDiyp4iIiLyLQxkAoSxK7JGbb58pFGH21wmkbss5a/S4qMsjrmyp4iIiHwLl5YCiL3+PQ2NBmwqPIXT1bVIjYvEtOw0u8tS/kwlANOy0yyOu7KniIiIfAsDmQBjreR+7vZSrC8oQ/Ps4lXbf8CsoelYNj4Ts/OKJTtB+3NwM2toOkKDLScdXdlTREREvoVLSz6modGADQUn8czWEmwoOIkGN2zEzd1eild3mwcxAGAQgVd3l+Fg+SU8MiwdQostNIIA9E1Ru/z6ntQ7RY2WW39UAvDosHQsGZsp+RxX9hQREZFvEURR9Ocv3XbpdDqo1WpotVrExMQoPRybpGZNVELTzIK1m7I9DY0GZCz9xCKIaU4QAH/9FDxxZxc8OaKrxZKZ1ExMS6wjQ0Tku+Tev7m05COMsyYtGWdNADgVzGwqPGUziAH8N4gBgOzO7RAarMLMoZ0dfq69PUVEROT7GMj4gIZGA9YXWAYxza0vKMNTd2XImmlo7nR14PZSio0MwSCJ/UCOsLaniIiI/AP3yPgAObMmBrHpPEelxgVuL6XVE3u6PHviiT1JRETkPZyR8QFyZ03knKc3iGZLJb8bmIpV23+wGyj5suiwIFyu15t+T4wOxYoJWS7vY7GVyeXsniQiIvIuBjI+QO6sib3z8ksqsPzD71Gpqzcd08SEIatDDL47q3NpjEq60qA3+/3nKw04WH7JpUDGU3uSiIjIu7i05AOmZadZpBC3ZK24m1F+SQUeyys2C2IAoFJX79NBTGRokEUKdEstNyMbg43c7aVOvabcPUlcZiIi8n0MZHxAaLAKs4am2zzHWnE3oGk5afGWI54YmksENKUzzxqaLlmv5dFh6Xj+vltMvzvK2WDDk3uSiIjIu7i05COMyxjO1JHZe+Iiamqve3qINklVBQZgqsnyx1EZVmu9PDIsHesLyhxOAzcGG46mXrtzTxIRESmLgYwPWTI2E0/dZf2Gb03hyV+8NEJpggAktAlD1eVme3NaFJazVuslv6QC63aXOd0KwZlgw117koiISHkMZHyMc8XdlC3gJorA74d2RlYHtUOF5fQGESu2lbrUz8mZYGNadprdTC57e5KIiMg3cI9MAPCFgm5nLtUiu0s8JvTugOwu8bLquxSVVZu1B3CUnGBDbxBReOIith46h8ITF6E3iC7vSSIiIt/BGRkPaFnLxdNl7wd1jkdsZIii+2ScmRm5cNn5IAawH2zY6qXkyp4kIiLyHQxk3EyJRoRBKgH39+8oWRfFG5xdhkmIDpd1XsumlnKCjfySCszOK7ZYtqrU1mF2XjHWTu3r9J4kIiLyHQxk3EjOzdMTwYzeIOLDwxVuv65czi7DDEiPszuTFBsZgsLFI/D2vtOygw1be29ENO0oWrGtFCMzNU43nCQiIt/AQMZNHLl5unuZydW9JnL0TVHj0Fmt25dhrrWo2iv1uKPBhr33QwRQoa1DUVm1T+wvIiIi5zGQcRMlb56u7jWRY1Dndnj30cFuXYb55vgvqLdT0K6+0YBvjv+CoV3by76u3PfDG+8bERF5FgMZN1Hy5il3r4kraq41uH0Z5v3is7LPcySQkft+eON9IyIiz+KuRjdR8uY5ID0OUaFBbr9ucz9frrd/koNqGxrdep7RgPQ4JKnDrVbXMbZOGJAe59B1iYjI9zCQcRMlb556g4haO3tNXBUV5v7Ju1vT5C2xyT3PKEglYNn4pn07Uj2egKbWCZ5MiSciIu9gIOMm3rp5ShV421R4yqXquHJM6tPR7decPjgNgp23QxCaznPU6KwkrJ3aFxq1+QyYRh3usewxIiLyPu6RcSPjzbNlHZmWfYecZa1GTbfENi5d157I0CAMvrmd268bGqzCI0PTbda/ecSFCrujs5IwMlPj1eKERETkXQxk3MxTN09bNWo8nXr9/H23eOzm7+kKu0EqgSnWREQBTBBF0dOrEorS6XRQq9XQarWIiYlRejhO0RtEDFnzhUcDlvk5XfH2vlOoutxgOpYYHYoVE7K8sgzT0GhghV0iIjKRe//mjIwf8HTBuyR1OJ4YfhOeGH6TYsswrLBLRETOYCDjBzxZuE2A+SZkLsMQEZE/4dy9H3BX7Zm4qBCz35OYwUNERH6OMzJ+QE5zRUEAIEIyDVtAU+bUrj/eiQOnLzGDh4iIAgYDmQARGRKE2gY9fo1nTJrXsAkNVnHpiIiIAorPLC2tXr0agiBg3rx5pmN1dXWYM2cO4uPj0aZNG0yaNAlVVVXKDdILpAreFZVV25yNAYCrDXrMy+nKAnBERNSq+MSMzP79+/Hqq6+iV69eZsfnz5+Pjz/+GJs3b4ZarcYTTzyBiRMn4uuvv1ZopJ5lreDd2CyNrOentYvEnkXDWQCOiIhaDcUDmStXrmDKlClYv349nn32WdNxrVaLDRs24O2338bw4cMBABs3bkT37t2xd+9eDBo0SPJ69fX1qK+/0eBQp9N59g/gJrYK3m34+pSsayREh7MAHBERtSqKLy3NmTMH48aNQ05OjtnxAwcO4Pr162bHMzIy0KlTJxQWFlq9Xm5uLtRqteknJSXFY2N3F71BxIptpZIbdY3HVIJlDycjdnMmIqLWStFA5t1330VxcTFyc3MtHqusrERoaChiY2PNjicmJqKystLqNZcsWQKtVmv6OXPmjLuH7XZyCt4ZrGQkGbGbMxERtUaKLS2dOXMGc+fOxWeffYbwcPfUSQGAsLAwhIWFue163iC34N3wjPb46ujPkj2JjJt5jZuDuUeGiIhaA8UCmQMHDuDChQvo27ev6Zher8fu3bvxz3/+Ezt27EBDQwNqamrMZmWqqqqg0cjb/Oov5Ba8++LHny2OiSKwbncZ+nRqCwCSm4Xd0XmbiIjIFykWyIwYMQJHjhwxO/bwww8jIyMDixYtQkpKCkJCQrBz505MmjQJAHD06FGUl5cjOztbiSHL5uisiNyCd1LtPUU07ZFZsuUILkk8v1Jbh9l5xUzBJiKigKRYIBMdHY2srCyzY1FRUYiPjzcdnzlzJhYsWIC4uDjExMTgD3/4A7Kzs61mLPkCaynUrs6K2OpRLgKSQYzxMQFNMzUjMzVcZiIiooCieNaSLS+88ALuvvtuTJo0CcOGDYNGo8GWLVuUHpZVxhTqlht3jbMi+SUVks+TU/DOFSKACm0disqqPfYaRERESlC8jkxzX331ldnv4eHhePnll/Hyyy8rMyAH2EuhtjUr4snu1kq8DhERkbf4VCDjLxoaDdhUeAqnq2uRGheJadlpOHD6ks0U6uazIi0L1rmru7U93nodIiIib2Eg46Dc7aVYX1BmlgK9avsPuKNbe1nPl5oVGZAehyR1OCq1dTZrxTjL2P2aBfOIiCjQ+PQeGV+Tu70Ur+42D2KApmJ1UqnRUqRmRYJUApaNzwRgWb3X0a251p7PgnlERBSIGMjI1NBowPqCMqefb6+NwOisJKyd2leye/X8nJtlvcZ8dr8mIqJWhktLMm0qPGUxE2ONAPN2AnJnRUZnJWFkpsaiBg0AvLv/jNWlJ+PS0RPDb8ITw29iZV8iImo1GMjIdLq6VtZ5d3Rth6NVV8w2/mocqCNjrXv1svGZmJ1XLCtIYvdrIiJqLRjIyJQaFynrvKE3t8eGhwa4fVbEuPTUstieI0ESERFRoBFE0VbNWP+n0+mgVquh1WoRExPj9HUaGg3IWPqJzeUllQD8uHIMQoM9t/WITSGJiKg1kHv/5oyMTKHBKswamo5Xd1vf8DtraLpHgxjA+tITERFRa8RAxgFLxjalSLesI6MSmoIY4+NERETkHVxacoJUZV9Pz8QQERG1Jlxa8qDQYBVmDu2s9DCIiIhaPU4jEBERkd9iIENERER+i4EMERER+S0GMkREROS3GMgQERGR32IgQ0RERH6LgQwRERH5LQYyRERE5LcYyBAREZHfCvjKvsYODDqdTuGREBERkVzG+7a9TkoBH8hcvnwZAJCSkqLwSIiIiMhRly9fhlqttvp4wDeNNBgMOH/+PKKjoyEIgtLD8QqdToeUlBScOXPGbY0yAxnfL8fxPXMM3y/H8P1yXCC+Z6Io4vLly0hOToZKZX0nTMDPyKhUKnTs2FHpYSgiJiYmYD7Q3sD3y3F8zxzD98sxfL8cF2jvma2ZGCNu9iUiIiK/xUCGiIiI/BYDmQAUFhaGZcuWISwsTOmh+AW+X47je+YYvl+O4fvluNb8ngX8Zl8iIiIKXJyRISIiIr/FQIaIiIj8FgMZIiIi8lsMZIiIiMhvMZAJEKtXr4YgCJg3b57pWF1dHebMmYP4+Hi0adMGkyZNQlVVlXKDVNDy5cshCILZT0ZGhulxvlfSzp07h6lTpyI+Ph4RERHo2bMnvv32W9PjoijimWeeQVJSEiIiIpCTk4Njx44pOGLlpKWlWXzGBEHAnDlzAPAzJkWv12Pp0qVIT09HREQEunTpgpUrV5r11uFnzNzly5cxb948pKamIiIiAoMHD8b+/ftNj7fK90skv1dUVCSmpaWJvXr1EufOnWs6/thjj4kpKSnizp07xW+//VYcNGiQOHjwYOUGqqBly5aJPXr0ECsqKkw/P//8s+lxvleWqqurxdTUVPGhhx4S9+3bJ548eVLcsWOHePz4cdM5q1evFtVqtfjBBx+Ihw8fFu+55x4xPT1dvHbtmoIjV8aFCxfMPl+fffaZCED88ssvRVHkZ0zKqlWrxPj4ePGjjz4Sy8rKxM2bN4tt2rQRX3zxRdM5/IyZu++++8TMzExx165d4rFjx8Rly5aJMTEx4tmzZ0VRbJ3vFwMZP3f58mXx5ptvFj/77DPx9ttvNwUyNTU1YkhIiLh582bTuT/88IMIQCwsLFRotMpZtmyZeMstt0g+xvdK2qJFi8QhQ4ZYfdxgMIgajUb8+9//bjpWU1MjhoWFie+88443hujT5s6dK3bp0kU0GAz8jFkxbtw4ccaMGWbHJk6cKE6ZMkUURX7GWqqtrRWDgoLEjz76yOx43759xT//+c+t9v3i0pKfmzNnDsaNG4ecnByz4wcOHMD169fNjmdkZKBTp04oLCz09jB9wrFjx5CcnIzOnTtjypQpKC8vB8D3ypoPP/wQ/fv3x29/+1skJCSgT58+WL9+venxsrIyVFZWmr1varUaAwcObNXvGwA0NDQgLy8PM2bMgCAI/IxZMXjwYOzcuRM//fQTAODw4cPYs2cPxowZA4CfsZYaGxuh1+sRHh5udjwiIgJ79uxpte9XwDeNDGTvvvsuiouLzdZHjSorKxEaGorY2Fiz44mJiaisrPTSCH3HwIED8frrr6Nbt26oqKjAihUrMHToUJSUlPC9suLkyZNYu3YtFixYgD/96U/Yv38/nnzySYSGhmL69Omm9yYxMdHsea39fQOADz74ADU1NXjooYcA8P+P1ixevBg6nQ4ZGRkICgqCXq/HqlWrMGXKFADgZ6yF6OhoZGdnY+XKlejevTsSExPxzjvvoLCwEDfddFOrfb8YyPipM2fOYO7cufjss88sonOyZPyGBwC9evXCwIEDkZqaivfeew8REREKjsx3GQwG9O/fH8899xwAoE+fPigpKcErr7yC6dOnKzw637ZhwwaMGTMGycnJSg/Fp7333nt466238Pbbb6NHjx44dOgQ5s2bh+TkZH7GrNi0aRNmzJiBDh06ICgoCH379sUDDzyAAwcOKD00xXBpyU8dOHAAFy5cQN++fREcHIzg4GDs2rULL730EoKDg5GYmIiGhgbU1NSYPa+qqgoajUaZQfuQ2NhYdO3aFcePH4dGo+F7JSEpKQmZmZlmx7p3725akjO+Ny0zb1r7+3b69Gl8/vnn+P3vf286xs+YtD/+8Y9YvHgxJk+ejJ49e2LatGmYP38+cnNzAfAzJqVLly7YtWsXrly5gjNnzqCoqAjXr19H586dW+37xUDGT40YMQJHjhzBoUOHTD/9+/fHlClTTP8dEhKCnTt3mp5z9OhRlJeXIzs7W8GR+4YrV67gxIkTSEpKQr9+/fheSbjttttw9OhRs2M//fQTUlNTAQDp6enQaDRm75tOp8O+ffta9fu2ceNGJCQkYNy4caZj/IxJq62thUplfhsKCgqCwWAAwM+YLVFRUUhKSsKlS5ewY8cOTJgwofW+X0rvNib3aZ61JIpN6Z6dOnUSv/jiC/Hbb78Vs7OzxezsbOUGqKCnnnpK/Oqrr8SysjLx66+/FnNycsR27dqJFy5cEEWR75WUoqIiMTg4WFy1apV47Ngx8a233hIjIyPFvLw80zmrV68WY2Njxa1bt4rfffedOGHChIBP9bRFr9eLnTp1EhctWmTxGD9jlqZPny526NDBlH69ZcsWsV27duLTTz9tOoefMXP5+fniJ598Ip48eVL89NNPxVtuuUUcOHCg2NDQIIpi63y/GMgEkJaBzLVr18THH39cbNu2rRgZGSn+5je/ESsqKpQboILuv/9+MSkpSQwNDRU7dOgg3n///Wb1UPheSdu2bZuYlZUlhoWFiRkZGeK6devMHjcYDOLSpUvFxMREMSwsTBwxYoR49OhRhUarvB07dogAJN8DfsYs6XQ6ce7cuWKnTp3E8PBwsXPnzuKf//xnsb6+3nQOP2Pm/v3vf4udO3cWQ0NDRY1GI86ZM0esqakxPd4a3y9BFJuVUCQiIiLyI9wjQ0RERH6LgQwRERH5LQYyRERE5LcYyBAREZHfYiBDREREfouBDBEREfktBjJERETktxjIEBERkd9iIENERER+i4EMEXmVKIrIycnBqFGjLB7717/+hdjYWJw9e9Z07KuvvoIgCDZ/vvrqK6fGYrx2y67UROQ/gpUeABG1LoIgYOPGjejZsydeffVVPProowCAsrIyPP3001i7di06duxoOn/w4MGoqKgw/T537lzodDps3LjRdCwuLs57fwAi8imckSEir0tJScGLL76IhQsXoqysDKIoYubMmbjrrrswbdo0s3NDQ0Oh0WhMPxEREQgLCzP93rZtW/zpT39Chw4dEBUVhYEDB5rN0Jw+fRrjx49H27ZtERUVhR49emD79u04deoU7rzzTgBA27ZtIQgCHnroIS++C0TkDpyRISJFTJ8+Hf/5z38wY8YMTJw4ESUlJfj+++8dvs4TTzyB0tJSvPvuu0hOTsZ//vMfjB49GkeOHMHNN9+MOXPmoKGhAbt370ZUVBRKS0vRpk0bpKSk4P3338ekSZNw9OhRxMTEICIiwgN/UiLyJAYyRKSYdevWoUePHti9ezfef/99tG/f3qHnl5eXY+PGjSgvL0dycjIAYOHChcjPz8fGjRvx3HPPoby8HJMmTULPnj0BAJ07dzY937gklZCQgNjYWPf8oYjIqxjIEJFiEhIS8Oijj+KDDz7Avffe6/Dzjxw5Ar1ej65du5odr6+vR3x8PADgySefxOzZs/Hpp58iJycHkyZNQq9evdwxfCLyAQxkiEhRwcHBCA527p+iK1euICgoCAcOHEBQUJDZY23atAEA/P73v8eoUaPw8ccf49NPP0Vubi7+53/+B3/4wx9cHjsRKY+bfYnIb/Xp0wd6vR4XLlzATTfdZPaj0WhM56WkpOCxxx7Dli1b8NRTT2H9+vUAmjYSA4Ber1dk/ETkOgYyROS3unbtiilTpuDBBx/Eli1bUFZWhqKiIuTm5uLjjz8GAMybNw87duxAWVkZiouL8eWXX6J79+4AgNTUVAiCgI8++gg///wzrly5ouQfh4icwECGiPzaxo0b8eCDD+Kpp55Ct27dcO+992L//v3o1KkTgKbZljlz5qB79+4YPXo0unbtin/9618AgA4dOmDFihVYvHgxEhMT8cQTTyj5RyEiJwiiKIpKD4KIiIjIGZyRISIiIr/FQIaIiIj8FgMZIiIi8lsMZIiIiMhvMZAhIiIiv8VAhoiIiPwWAxkiIiLyWwxkiIiIyG8xkCEiIiK/xUCGiIiI/BYDGSIiIvJb/x/jXLNCyr+R1gAAAABJRU5ErkJggg==",
      "text/plain": [
       "<Figure size 640x480 with 1 Axes>"
      ]
     },
     "metadata": {},
     "output_type": "display_data"
    }
   ],
   "source": [
    "plt.scatter(y_test,b)\n",
    "plt.xlabel('Y Test')\n",
    "plt.ylabel('Predicted Y')"
   ]
  },
  {
   "cell_type": "code",
   "execution_count": 56,
   "id": "2ded722d",
   "metadata": {},
   "outputs": [
    {
     "data": {
      "text/html": [
       "<div>\n",
       "<style scoped>\n",
       "    .dataframe tbody tr th:only-of-type {\n",
       "        vertical-align: middle;\n",
       "    }\n",
       "\n",
       "    .dataframe tbody tr th {\n",
       "        vertical-align: top;\n",
       "    }\n",
       "\n",
       "    .dataframe thead th {\n",
       "        text-align: right;\n",
       "    }\n",
       "</style>\n",
       "<table border=\"1\" class=\"dataframe\">\n",
       "  <thead>\n",
       "    <tr style=\"text-align: right;\">\n",
       "      <th></th>\n",
       "      <th>overall_rating</th>\n",
       "      <th>Predictions</th>\n",
       "    </tr>\n",
       "  </thead>\n",
       "  <tbody>\n",
       "    <tr>\n",
       "      <th>0</th>\n",
       "      <td>61.0</td>\n",
       "      <td>61.0</td>\n",
       "    </tr>\n",
       "    <tr>\n",
       "      <th>1</th>\n",
       "      <td>63.0</td>\n",
       "      <td>66.0</td>\n",
       "    </tr>\n",
       "    <tr>\n",
       "      <th>2</th>\n",
       "      <td>82.0</td>\n",
       "      <td>77.0</td>\n",
       "    </tr>\n",
       "    <tr>\n",
       "      <th>3</th>\n",
       "      <td>75.0</td>\n",
       "      <td>75.0</td>\n",
       "    </tr>\n",
       "    <tr>\n",
       "      <th>4</th>\n",
       "      <td>64.0</td>\n",
       "      <td>64.0</td>\n",
       "    </tr>\n",
       "    <tr>\n",
       "      <th>...</th>\n",
       "      <td>...</td>\n",
       "      <td>...</td>\n",
       "    </tr>\n",
       "    <tr>\n",
       "      <th>59512</th>\n",
       "      <td>68.0</td>\n",
       "      <td>69.0</td>\n",
       "    </tr>\n",
       "    <tr>\n",
       "      <th>59513</th>\n",
       "      <td>71.0</td>\n",
       "      <td>71.0</td>\n",
       "    </tr>\n",
       "    <tr>\n",
       "      <th>59514</th>\n",
       "      <td>69.0</td>\n",
       "      <td>69.0</td>\n",
       "    </tr>\n",
       "    <tr>\n",
       "      <th>59515</th>\n",
       "      <td>61.0</td>\n",
       "      <td>61.0</td>\n",
       "    </tr>\n",
       "    <tr>\n",
       "      <th>59516</th>\n",
       "      <td>60.0</td>\n",
       "      <td>61.0</td>\n",
       "    </tr>\n",
       "  </tbody>\n",
       "</table>\n",
       "<p>59517 rows × 2 columns</p>\n",
       "</div>"
      ],
      "text/plain": [
       "       overall_rating  Predictions\n",
       "0                61.0         61.0\n",
       "1                63.0         66.0\n",
       "2                82.0         77.0\n",
       "3                75.0         75.0\n",
       "4                64.0         64.0\n",
       "...               ...          ...\n",
       "59512            68.0         69.0\n",
       "59513            71.0         71.0\n",
       "59514            69.0         69.0\n",
       "59515            61.0         61.0\n",
       "59516            60.0         61.0\n",
       "\n",
       "[59517 rows x 2 columns]"
      ]
     },
     "execution_count": 56,
     "metadata": {},
     "output_type": "execute_result"
    }
   ],
   "source": [
    "pd.concat([y_test,b['Predictions'].apply(np.ceil)], axis=1)"
   ]
  },
  {
   "cell_type": "code",
   "execution_count": 57,
   "id": "8ecdcc8e",
   "metadata": {},
   "outputs": [
    {
     "name": "stdout",
     "output_type": "stream",
     "text": [
      "Accuracy on the Train data is 99.56 % for our Random Forest Regression model.\n",
      "Accuracy on the Test data is 97.44 % for our Random Forest Regression model.\n"
     ]
    }
   ],
   "source": [
    "print(\"Accuracy on the Train data is {} % for our Random Forest Regression model.\".format(np.round(100*r2_score(y_train,random_forest.predict(X_train)),decimals=2)))\n",
    "print(\"Accuracy on the Test data is {} % for our Random Forest Regression model.\".format(np.round(100*r2_score(y_test,random_forest.predict(X_test)),decimals=2)))"
   ]
  },
  {
   "cell_type": "markdown",
   "id": "6c24a2ed",
   "metadata": {},
   "source": [
    "## Serialization"
   ]
  },
  {
   "cell_type": "code",
   "execution_count": 63,
   "id": "e901f919",
   "metadata": {},
   "outputs": [],
   "source": [
    "from pickle import dump\n",
    "dump(random_forest,open('../model.pkl','wb'))"
   ]
  },
  {
   "cell_type": "code",
   "execution_count": 70,
   "id": "f75638e1",
   "metadata": {},
   "outputs": [
    {
     "data": {
      "text/plain": [
       "66.4"
      ]
     },
     "execution_count": 70,
     "metadata": {},
     "output_type": "execute_result"
    }
   ],
   "source": [
    "from pickle import load\n",
    "x_input=[71.0,44.0,71.0,51.0,49.0,47.0,55.0,76.0,71.0,65.0,6.0,10.0,8.0]\n",
    "            \n",
    "filename = '../model.pkl'\n",
    "loaded_model = load(open(filename, 'rb')) # loading the model file\n",
    "      \n",
    "prediction=loaded_model.predict([x_input])[0]\n",
    "\n",
    "prediction"
   ]
  },
  {
   "cell_type": "code",
   "execution_count": null,
   "id": "00fc7029",
=======
   "cell_type": "code",
   "execution_count": null,
>>>>>>> a7b3146fa87b1a8590e95cf10a67c04197a97328
=======
   "cell_type": "code",
   "execution_count": null,
>>>>>>> a7b3146fa87b1a8590e95cf10a67c04197a97328
   "metadata": {},
   "outputs": [],
   "source": []
  }
 ],
 "metadata": {
  "kernelspec": {
<<<<<<< HEAD
<<<<<<< HEAD
   "display_name": "Python 3.8.13",
=======
   "display_name": "Python 3.8.13 (conda)",
>>>>>>> a7b3146fa87b1a8590e95cf10a67c04197a97328
=======
   "display_name": "Python 3.8.13 (conda)",
>>>>>>> a7b3146fa87b1a8590e95cf10a67c04197a97328
   "language": "python",
   "name": "python3"
  },
  "language_info": {
   "codemirror_mode": {
    "name": "ipython",
    "version": 3
   },
   "file_extension": ".py",
   "mimetype": "text/x-python",
   "name": "python",
   "nbconvert_exporter": "python",
   "pygments_lexer": "ipython3",
   "version": "3.8.13"
  },
  "vscode": {
   "interpreter": {
    "hash": "04b712ca36e401b76a755824aaa2789c99ae38b4704913c584592f3637e37301"
   }
  }
 },
 "nbformat": 4,
<<<<<<< HEAD
<<<<<<< HEAD
 "nbformat_minor": 5
=======
 "nbformat_minor": 4
>>>>>>> a7b3146fa87b1a8590e95cf10a67c04197a97328
=======
 "nbformat_minor": 4
>>>>>>> a7b3146fa87b1a8590e95cf10a67c04197a97328
}
