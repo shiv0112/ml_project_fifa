{
    "cells": [
     {
      "cell_type": "code",
      "execution_count": 32,
      "id": "8c35e5d4",
      "metadata": {},
      "outputs": [],
      "source": [
       "import numpy as np\n",
       "import pandas as pd\n",
       "import matplotlib.pyplot as plt\n",
       "import seaborn as sns"
      ]
     },
     {
      "cell_type": "code",
      "execution_count": 33,
      "id": "685a66de",
      "metadata": {},
      "outputs": [],
      "source": [
       "df=pd.read_csv('../data/data.csv')"
      ]
     },
     {
      "cell_type": "code",
      "execution_count": 34,
      "id": "cadf126d",
      "metadata": {},
      "outputs": [
       {
        "data": {
         "text/html": [
          "<div>\n",
          "<style scoped>\n",
          "    .dataframe tbody tr th:only-of-type {\n",
          "        vertical-align: middle;\n",
          "    }\n",
          "\n",
          "    .dataframe tbody tr th {\n",
          "        vertical-align: top;\n",
          "    }\n",
          "\n",
          "    .dataframe thead th {\n",
          "        text-align: right;\n",
          "    }\n",
          "</style>\n",
          "<table border=\"1\" class=\"dataframe\">\n",
          "  <thead>\n",
          "    <tr style=\"text-align: right;\">\n",
          "      <th></th>\n",
          "      <th>overall_rating</th>\n",
          "      <th>potential</th>\n",
          "      <th>crossing</th>\n",
          "      <th>finishing</th>\n",
          "      <th>heading_accuracy</th>\n",
          "      <th>short_passing</th>\n",
          "      <th>volleys</th>\n",
          "      <th>dribbling</th>\n",
          "      <th>curve</th>\n",
          "      <th>free_kick_accuracy</th>\n",
          "      <th>...</th>\n",
          "      <th>defensive_work_rate_8</th>\n",
          "      <th>defensive_work_rate_9</th>\n",
          "      <th>defensive_work_rate_ean</th>\n",
          "      <th>defensive_work_rate_es</th>\n",
          "      <th>defensive_work_rate_high</th>\n",
          "      <th>defensive_work_rate_low</th>\n",
          "      <th>defensive_work_rate_medium</th>\n",
          "      <th>defensive_work_rate_o</th>\n",
          "      <th>defensive_work_rate_ormal</th>\n",
          "      <th>defensive_work_rate_tocky</th>\n",
          "    </tr>\n",
          "  </thead>\n",
          "  <tbody>\n",
          "    <tr>\n",
          "      <th>0</th>\n",
          "      <td>67.0</td>\n",
          "      <td>71.0</td>\n",
          "      <td>49.0</td>\n",
          "      <td>44.0</td>\n",
          "      <td>71.0</td>\n",
          "      <td>61.0</td>\n",
          "      <td>44.0</td>\n",
          "      <td>51.0</td>\n",
          "      <td>45.0</td>\n",
          "      <td>39.0</td>\n",
          "      <td>...</td>\n",
          "      <td>0</td>\n",
          "      <td>0</td>\n",
          "      <td>0</td>\n",
          "      <td>0</td>\n",
          "      <td>0</td>\n",
          "      <td>0</td>\n",
          "      <td>1</td>\n",
          "      <td>0</td>\n",
          "      <td>0</td>\n",
          "      <td>0</td>\n",
          "    </tr>\n",
          "    <tr>\n",
          "      <th>1</th>\n",
          "      <td>67.0</td>\n",
          "      <td>71.0</td>\n",
          "      <td>49.0</td>\n",
          "      <td>44.0</td>\n",
          "      <td>71.0</td>\n",
          "      <td>61.0</td>\n",
          "      <td>44.0</td>\n",
          "      <td>51.0</td>\n",
          "      <td>45.0</td>\n",
          "      <td>39.0</td>\n",
          "      <td>...</td>\n",
          "      <td>0</td>\n",
          "      <td>0</td>\n",
          "      <td>0</td>\n",
          "      <td>0</td>\n",
          "      <td>0</td>\n",
          "      <td>0</td>\n",
          "      <td>1</td>\n",
          "      <td>0</td>\n",
          "      <td>0</td>\n",
          "      <td>0</td>\n",
          "    </tr>\n",
          "    <tr>\n",
          "      <th>2</th>\n",
          "      <td>62.0</td>\n",
          "      <td>66.0</td>\n",
          "      <td>49.0</td>\n",
          "      <td>44.0</td>\n",
          "      <td>71.0</td>\n",
          "      <td>61.0</td>\n",
          "      <td>44.0</td>\n",
          "      <td>51.0</td>\n",
          "      <td>45.0</td>\n",
          "      <td>39.0</td>\n",
          "      <td>...</td>\n",
          "      <td>0</td>\n",
          "      <td>0</td>\n",
          "      <td>0</td>\n",
          "      <td>0</td>\n",
          "      <td>0</td>\n",
          "      <td>0</td>\n",
          "      <td>1</td>\n",
          "      <td>0</td>\n",
          "      <td>0</td>\n",
          "      <td>0</td>\n",
          "    </tr>\n",
          "    <tr>\n",
          "      <th>3</th>\n",
          "      <td>61.0</td>\n",
          "      <td>65.0</td>\n",
          "      <td>48.0</td>\n",
          "      <td>43.0</td>\n",
          "      <td>70.0</td>\n",
          "      <td>60.0</td>\n",
          "      <td>43.0</td>\n",
          "      <td>50.0</td>\n",
          "      <td>44.0</td>\n",
          "      <td>38.0</td>\n",
          "      <td>...</td>\n",
          "      <td>0</td>\n",
          "      <td>0</td>\n",
          "      <td>0</td>\n",
          "      <td>0</td>\n",
          "      <td>0</td>\n",
          "      <td>0</td>\n",
          "      <td>1</td>\n",
          "      <td>0</td>\n",
          "      <td>0</td>\n",
          "      <td>0</td>\n",
          "    </tr>\n",
          "    <tr>\n",
          "      <th>4</th>\n",
          "      <td>61.0</td>\n",
          "      <td>65.0</td>\n",
          "      <td>48.0</td>\n",
          "      <td>43.0</td>\n",
          "      <td>70.0</td>\n",
          "      <td>60.0</td>\n",
          "      <td>43.0</td>\n",
          "      <td>50.0</td>\n",
          "      <td>44.0</td>\n",
          "      <td>38.0</td>\n",
          "      <td>...</td>\n",
          "      <td>0</td>\n",
          "      <td>0</td>\n",
          "      <td>0</td>\n",
          "      <td>0</td>\n",
          "      <td>0</td>\n",
          "      <td>0</td>\n",
          "      <td>1</td>\n",
          "      <td>0</td>\n",
          "      <td>0</td>\n",
          "      <td>0</td>\n",
          "    </tr>\n",
          "  </tbody>\n",
          "</table>\n",
          "<p>5 rows × 60 columns</p>\n",
          "</div>"
         ],
         "text/plain": [
          "   overall_rating  potential  crossing  finishing  heading_accuracy  \\\n",
          "0            67.0       71.0      49.0       44.0              71.0   \n",
          "1            67.0       71.0      49.0       44.0              71.0   \n",
          "2            62.0       66.0      49.0       44.0              71.0   \n",
          "3            61.0       65.0      48.0       43.0              70.0   \n",
          "4            61.0       65.0      48.0       43.0              70.0   \n",
          "\n",
          "   short_passing  volleys  dribbling  curve  free_kick_accuracy  ...  \\\n",
          "0           61.0     44.0       51.0   45.0                39.0  ...   \n",
          "1           61.0     44.0       51.0   45.0                39.0  ...   \n",
          "2           61.0     44.0       51.0   45.0                39.0  ...   \n",
          "3           60.0     43.0       50.0   44.0                38.0  ...   \n",
          "4           60.0     43.0       50.0   44.0                38.0  ...   \n",
          "\n",
          "   defensive_work_rate_8  defensive_work_rate_9  defensive_work_rate_ean  \\\n",
          "0                      0                      0                        0   \n",
          "1                      0                      0                        0   \n",
          "2                      0                      0                        0   \n",
          "3                      0                      0                        0   \n",
          "4                      0                      0                        0   \n",
          "\n",
          "   defensive_work_rate_es  defensive_work_rate_high  defensive_work_rate_low  \\\n",
          "0                       0                         0                        0   \n",
          "1                       0                         0                        0   \n",
          "2                       0                         0                        0   \n",
          "3                       0                         0                        0   \n",
          "4                       0                         0                        0   \n",
          "\n",
          "   defensive_work_rate_medium  defensive_work_rate_o  \\\n",
          "0                           1                      0   \n",
          "1                           1                      0   \n",
          "2                           1                      0   \n",
          "3                           1                      0   \n",
          "4                           1                      0   \n",
          "\n",
          "   defensive_work_rate_ormal  defensive_work_rate_tocky  \n",
          "0                          0                          0  \n",
          "1                          0                          0  \n",
          "2                          0                          0  \n",
          "3                          0                          0  \n",
          "4                          0                          0  \n",
          "\n",
          "[5 rows x 60 columns]"
         ]
        },
        "execution_count": 34,
        "metadata": {},
        "output_type": "execute_result"
       }
      ],
      "source": [
       "df.head()"
      ]
     },
     {
      "cell_type": "code",
      "execution_count": 35,
      "id": "d2ee6f56",
      "metadata": {},
      "outputs": [],
      "source": [
       "from sklearn.model_selection import train_test_split\n",
       "\n",
       "X = df.drop(columns=[\"overall_rating\"],axis=1)\n",
       "y = df['overall_rating']"
      ]
     },
     {
      "cell_type": "markdown",
      "id": "0811d143",
      "metadata": {},
      "source": [
       "## Feature Selection"
      ]
     },
     {
      "cell_type": "code",
      "execution_count": 36,
      "id": "9b196def",
      "metadata": {},
      "outputs": [],
      "source": [
       "from sklearn.feature_selection import SelectFromModel\n",
       "from sklearn.ensemble import AdaBoostRegressor"
      ]
     },
     {
      "cell_type": "code",
      "execution_count": 37,
      "id": "59b4a830",
      "metadata": {},
      "outputs": [],
      "source": [
       "estimator = AdaBoostRegressor(random_state=0, n_estimators=50)\n",
       "selector = SelectFromModel(estimator)\n",
       "selector = selector.fit(X, y) "
      ]
     },
     {
      "cell_type": "code",
      "execution_count": 38,
      "id": "0d094704",
      "metadata": {},
      "outputs": [
       {
        "name": "stdout",
        "output_type": "stream",
        "text": [
         "Selection status:  [ True False  True  True False False  True False False False  True False\n",
         " False False  True False  True False False  True False  True False False\n",
         " False False  True False False  True False  True  True False False False\n",
         " False False False False False False False False False False False False\n",
         " False False False False False False False False False False False]\n"
        ]
       }
      ],
      "source": [
       "status = selector.get_support()\n",
       "print(\"Selection status: \", status)"
      ]
     },
     {
      "cell_type": "code",
      "execution_count": 39,
      "id": "399de6f9",
      "metadata": {},
      "outputs": [
       {
        "name": "stdout",
        "output_type": "stream",
        "text": [
         "All features:\n",
         "['potential' 'crossing' 'finishing' 'heading_accuracy' 'short_passing'\n",
         " 'volleys' 'dribbling' 'curve' 'free_kick_accuracy' 'long_passing'\n",
         " 'ball_control' 'acceleration' 'sprint_speed' 'agility' 'reactions'\n",
         " 'balance' 'shot_power' 'jumping' 'stamina' 'strength' 'long_shots'\n",
         " 'aggression' 'interceptions' 'positioning' 'vision' 'penalties' 'marking'\n",
         " 'standing_tackle' 'sliding_tackle' 'gk_diving' 'gk_handling' 'gk_kicking'\n",
         " 'gk_positioning' 'gk_reflexes' 'preferred_foot_right'\n",
         " 'attacking_work_rate_high' 'attacking_work_rate_le'\n",
         " 'attacking_work_rate_low' 'attacking_work_rate_medium'\n",
         " 'attacking_work_rate_norm' 'attacking_work_rate_stoc'\n",
         " 'attacking_work_rate_y' 'defensive_work_rate_1' 'defensive_work_rate_2'\n",
         " 'defensive_work_rate_3' 'defensive_work_rate_4' 'defensive_work_rate_5'\n",
         " 'defensive_work_rate_6' 'defensive_work_rate_7' 'defensive_work_rate_8'\n",
         " 'defensive_work_rate_9' 'defensive_work_rate_ean'\n",
         " 'defensive_work_rate_es' 'defensive_work_rate_high'\n",
         " 'defensive_work_rate_low' 'defensive_work_rate_medium'\n",
         " 'defensive_work_rate_o' 'defensive_work_rate_ormal'\n",
         " 'defensive_work_rate_tocky']\n",
         "Selected features:\n",
         "['potential' 'finishing' 'heading_accuracy' 'dribbling' 'ball_control'\n",
         " 'reactions' 'shot_power' 'strength' 'aggression' 'marking' 'gk_diving'\n",
         " 'gk_kicking' 'gk_positioning']\n"
        ]
       },
       {
        "data": {
         "text/plain": [
          "array([[71., 44., 71., ...,  6., 10.,  8.],\n",
          "       [71., 44., 71., ...,  6., 10.,  8.],\n",
          "       [66., 44., 71., ...,  6., 10.,  8.],\n",
          "       ...,\n",
          "       [80., 71., 53., ...,  9., 73., 20.],\n",
          "       [81., 64., 57., ...,  9., 73., 20.],\n",
          "       [81., 68., 57., ...,  9., 78.,  7.]])"
         ]
        },
        "execution_count": 39,
        "metadata": {},
        "output_type": "execute_result"
       }
      ],
      "source": [
       "features = np.array(X.columns)\n",
       "print(\"All features:\")\n",
       "print(features) \n",
       "  \n",
       "print(\"Selected features:\")\n",
       "print(features[status])\n",
       "selector.transform(X) "
      ]
     },
     {
      "cell_type": "code",
      "execution_count": 40,
      "id": "8e32403f",
      "metadata": {},
      "outputs": [
       {
        "data": {
         "text/html": [
          "<div>\n",
          "<style scoped>\n",
          "    .dataframe tbody tr th:only-of-type {\n",
          "        vertical-align: middle;\n",
          "    }\n",
          "\n",
          "    .dataframe tbody tr th {\n",
          "        vertical-align: top;\n",
          "    }\n",
          "\n",
          "    .dataframe thead th {\n",
          "        text-align: right;\n",
          "    }\n",
          "</style>\n",
          "<table border=\"1\" class=\"dataframe\">\n",
          "  <thead>\n",
          "    <tr style=\"text-align: right;\">\n",
          "      <th></th>\n",
          "      <th>potential</th>\n",
          "      <th>finishing</th>\n",
          "      <th>heading_accuracy</th>\n",
          "      <th>dribbling</th>\n",
          "      <th>ball_control</th>\n",
          "      <th>reactions</th>\n",
          "      <th>shot_power</th>\n",
          "      <th>strength</th>\n",
          "      <th>aggression</th>\n",
          "      <th>marking</th>\n",
          "      <th>gk_diving</th>\n",
          "      <th>gk_kicking</th>\n",
          "      <th>gk_positioning</th>\n",
          "    </tr>\n",
          "  </thead>\n",
          "  <tbody>\n",
          "    <tr>\n",
          "      <th>0</th>\n",
          "      <td>71.0</td>\n",
          "      <td>44.0</td>\n",
          "      <td>71.0</td>\n",
          "      <td>51.0</td>\n",
          "      <td>49.0</td>\n",
          "      <td>47.0</td>\n",
          "      <td>55.0</td>\n",
          "      <td>76.0</td>\n",
          "      <td>71.0</td>\n",
          "      <td>65.0</td>\n",
          "      <td>6.0</td>\n",
          "      <td>10.0</td>\n",
          "      <td>8.0</td>\n",
          "    </tr>\n",
          "    <tr>\n",
          "      <th>1</th>\n",
          "      <td>71.0</td>\n",
          "      <td>44.0</td>\n",
          "      <td>71.0</td>\n",
          "      <td>51.0</td>\n",
          "      <td>49.0</td>\n",
          "      <td>47.0</td>\n",
          "      <td>55.0</td>\n",
          "      <td>76.0</td>\n",
          "      <td>71.0</td>\n",
          "      <td>65.0</td>\n",
          "      <td>6.0</td>\n",
          "      <td>10.0</td>\n",
          "      <td>8.0</td>\n",
          "    </tr>\n",
          "    <tr>\n",
          "      <th>2</th>\n",
          "      <td>66.0</td>\n",
          "      <td>44.0</td>\n",
          "      <td>71.0</td>\n",
          "      <td>51.0</td>\n",
          "      <td>49.0</td>\n",
          "      <td>47.0</td>\n",
          "      <td>55.0</td>\n",
          "      <td>76.0</td>\n",
          "      <td>63.0</td>\n",
          "      <td>65.0</td>\n",
          "      <td>6.0</td>\n",
          "      <td>10.0</td>\n",
          "      <td>8.0</td>\n",
          "    </tr>\n",
          "    <tr>\n",
          "      <th>3</th>\n",
          "      <td>65.0</td>\n",
          "      <td>43.0</td>\n",
          "      <td>70.0</td>\n",
          "      <td>50.0</td>\n",
          "      <td>48.0</td>\n",
          "      <td>46.0</td>\n",
          "      <td>54.0</td>\n",
          "      <td>76.0</td>\n",
          "      <td>62.0</td>\n",
          "      <td>62.0</td>\n",
          "      <td>5.0</td>\n",
          "      <td>9.0</td>\n",
          "      <td>7.0</td>\n",
          "    </tr>\n",
          "    <tr>\n",
          "      <th>4</th>\n",
          "      <td>65.0</td>\n",
          "      <td>43.0</td>\n",
          "      <td>70.0</td>\n",
          "      <td>50.0</td>\n",
          "      <td>48.0</td>\n",
          "      <td>46.0</td>\n",
          "      <td>54.0</td>\n",
          "      <td>76.0</td>\n",
          "      <td>62.0</td>\n",
          "      <td>62.0</td>\n",
          "      <td>5.0</td>\n",
          "      <td>9.0</td>\n",
          "      <td>7.0</td>\n",
          "    </tr>\n",
          "    <tr>\n",
          "      <th>...</th>\n",
          "      <td>...</td>\n",
          "      <td>...</td>\n",
          "      <td>...</td>\n",
          "      <td>...</td>\n",
          "      <td>...</td>\n",
          "      <td>...</td>\n",
          "      <td>...</td>\n",
          "      <td>...</td>\n",
          "      <td>...</td>\n",
          "      <td>...</td>\n",
          "      <td>...</td>\n",
          "      <td>...</td>\n",
          "      <td>...</td>\n",
          "    </tr>\n",
          "    <tr>\n",
          "      <th>180349</th>\n",
          "      <td>85.0</td>\n",
          "      <td>77.0</td>\n",
          "      <td>59.0</td>\n",
          "      <td>84.0</td>\n",
          "      <td>85.0</td>\n",
          "      <td>86.0</td>\n",
          "      <td>76.0</td>\n",
          "      <td>67.0</td>\n",
          "      <td>56.0</td>\n",
          "      <td>22.0</td>\n",
          "      <td>9.0</td>\n",
          "      <td>84.0</td>\n",
          "      <td>20.0</td>\n",
          "    </tr>\n",
          "    <tr>\n",
          "      <th>180350</th>\n",
          "      <td>80.0</td>\n",
          "      <td>76.0</td>\n",
          "      <td>53.0</td>\n",
          "      <td>85.0</td>\n",
          "      <td>86.0</td>\n",
          "      <td>74.0</td>\n",
          "      <td>75.0</td>\n",
          "      <td>65.0</td>\n",
          "      <td>61.0</td>\n",
          "      <td>32.0</td>\n",
          "      <td>9.0</td>\n",
          "      <td>73.0</td>\n",
          "      <td>20.0</td>\n",
          "    </tr>\n",
          "    <tr>\n",
          "      <th>180351</th>\n",
          "      <td>80.0</td>\n",
          "      <td>71.0</td>\n",
          "      <td>53.0</td>\n",
          "      <td>85.0</td>\n",
          "      <td>86.0</td>\n",
          "      <td>74.0</td>\n",
          "      <td>75.0</td>\n",
          "      <td>65.0</td>\n",
          "      <td>67.0</td>\n",
          "      <td>32.0</td>\n",
          "      <td>9.0</td>\n",
          "      <td>73.0</td>\n",
          "      <td>20.0</td>\n",
          "    </tr>\n",
          "    <tr>\n",
          "      <th>180352</th>\n",
          "      <td>81.0</td>\n",
          "      <td>64.0</td>\n",
          "      <td>57.0</td>\n",
          "      <td>87.0</td>\n",
          "      <td>91.0</td>\n",
          "      <td>69.0</td>\n",
          "      <td>72.0</td>\n",
          "      <td>59.0</td>\n",
          "      <td>63.0</td>\n",
          "      <td>28.0</td>\n",
          "      <td>9.0</td>\n",
          "      <td>73.0</td>\n",
          "      <td>20.0</td>\n",
          "    </tr>\n",
          "    <tr>\n",
          "      <th>180353</th>\n",
          "      <td>81.0</td>\n",
          "      <td>68.0</td>\n",
          "      <td>57.0</td>\n",
          "      <td>87.0</td>\n",
          "      <td>91.0</td>\n",
          "      <td>66.0</td>\n",
          "      <td>72.0</td>\n",
          "      <td>59.0</td>\n",
          "      <td>63.0</td>\n",
          "      <td>38.0</td>\n",
          "      <td>9.0</td>\n",
          "      <td>78.0</td>\n",
          "      <td>7.0</td>\n",
          "    </tr>\n",
          "  </tbody>\n",
          "</table>\n",
          "<p>180354 rows × 13 columns</p>\n",
          "</div>"
         ],
         "text/plain": [
          "        potential  finishing  heading_accuracy  dribbling  ball_control  \\\n",
          "0            71.0       44.0              71.0       51.0          49.0   \n",
          "1            71.0       44.0              71.0       51.0          49.0   \n",
          "2            66.0       44.0              71.0       51.0          49.0   \n",
          "3            65.0       43.0              70.0       50.0          48.0   \n",
          "4            65.0       43.0              70.0       50.0          48.0   \n",
          "...           ...        ...               ...        ...           ...   \n",
          "180349       85.0       77.0              59.0       84.0          85.0   \n",
          "180350       80.0       76.0              53.0       85.0          86.0   \n",
          "180351       80.0       71.0              53.0       85.0          86.0   \n",
          "180352       81.0       64.0              57.0       87.0          91.0   \n",
          "180353       81.0       68.0              57.0       87.0          91.0   \n",
          "\n",
          "        reactions  shot_power  strength  aggression  marking  gk_diving  \\\n",
          "0            47.0        55.0      76.0        71.0     65.0        6.0   \n",
          "1            47.0        55.0      76.0        71.0     65.0        6.0   \n",
          "2            47.0        55.0      76.0        63.0     65.0        6.0   \n",
          "3            46.0        54.0      76.0        62.0     62.0        5.0   \n",
          "4            46.0        54.0      76.0        62.0     62.0        5.0   \n",
          "...           ...         ...       ...         ...      ...        ...   \n",
          "180349       86.0        76.0      67.0        56.0     22.0        9.0   \n",
          "180350       74.0        75.0      65.0        61.0     32.0        9.0   \n",
          "180351       74.0        75.0      65.0        67.0     32.0        9.0   \n",
          "180352       69.0        72.0      59.0        63.0     28.0        9.0   \n",
          "180353       66.0        72.0      59.0        63.0     38.0        9.0   \n",
          "\n",
          "        gk_kicking  gk_positioning  \n",
          "0             10.0             8.0  \n",
          "1             10.0             8.0  \n",
          "2             10.0             8.0  \n",
          "3              9.0             7.0  \n",
          "4              9.0             7.0  \n",
          "...            ...             ...  \n",
          "180349        84.0            20.0  \n",
          "180350        73.0            20.0  \n",
          "180351        73.0            20.0  \n",
          "180352        73.0            20.0  \n",
          "180353        78.0             7.0  \n",
          "\n",
          "[180354 rows x 13 columns]"
         ]
        },
        "execution_count": 40,
        "metadata": {},
        "output_type": "execute_result"
       }
      ],
      "source": [
       "X=X[features[status]]\n",
       "X"
      ]
     },
     {
      "cell_type": "code",
      "execution_count": 41,
      "id": "0a72abc5",
      "metadata": {},
      "outputs": [],
      "source": [
       "X_train, X_test, y_train, y_test = train_test_split(X, y, random_state=42, test_size=0.33)"
      ]
     },
     {
      "cell_type": "markdown",
      "id": "ba82d4b8",
      "metadata": {},
      "source": [
       "# Models"
      ]
     },
     {
      "cell_type": "code",
      "execution_count": 42,
      "id": "973e0a39",
      "metadata": {},
      "outputs": [],
      "source": [
       "from sklearn.model_selection import train_test_split, cross_val_score\n",
       "from sklearn.metrics import r2_score, mean_absolute_error, mean_squared_error\n",
       "\n",
       "from sklearn.linear_model import LinearRegression\n",
       "from sklearn.linear_model import Ridge\n",
       "from sklearn.linear_model import Lasso\n",
       "from sklearn.linear_model import ElasticNet\n",
       "from sklearn.ensemble import RandomForestRegressor\n",
       "from xgboost import XGBRegressor"
      ]
     },
     {
      "cell_type": "code",
      "execution_count": 43,
      "id": "704e2947",
      "metadata": {},
      "outputs": [],
      "source": [
       "def rmse_cv(model):\n",
       "    rmse = np.sqrt(-cross_val_score(model, X, y, scoring=\"neg_mean_squared_error\", cv=5)).mean()\n",
       "    return rmse\n",
       "    \n",
       "\n",
       "def evaluation(y, predictions):\n",
       "    mae = mean_absolute_error(y, predictions)\n",
       "    mse = mean_squared_error(y, predictions)\n",
       "    rmse = np.sqrt(mean_squared_error(y, predictions))\n",
       "    r_squared = r2_score(y, predictions)\n",
       "    adj_r2 = 1 - (1-r_squared)*(len(X_test)-1)/(len(X_test)-X_test.shape[1]-1)\n",
       "    return mae, mse, rmse, r_squared, adj_r2"
      ]
     },
     {
      "cell_type": "code",
      "execution_count": 44,
      "id": "589986da",
      "metadata": {},
      "outputs": [],
      "source": [
       "models = pd.DataFrame(columns=[\"Model\",\"MAE\",\"MSE\",\"RMSE\",\"R2 Score\",\"Adj. R2 Score\",\"RMSE (Cross-Validation)\"])"
      ]
     },
     {
      "cell_type": "markdown",
      "id": "ff8b3bd1",
      "metadata": {},
      "source": [
       "## Linear Regression"
      ]
     },
     {
      "cell_type": "code",
      "execution_count": 45,
      "id": "e299bc79",
      "metadata": {},
      "outputs": [
       {
        "name": "stdout",
        "output_type": "stream",
        "text": [
         "MAE: 2.1875358361524246\n",
         "MSE: 8.186901271609347\n",
         "RMSE: 2.861276161367397\n",
         "R2 Score: 0.8350806116142908\n",
         "Adj. R2 Score: 0.835044580623433\n",
         "------------------------------\n",
         "RMSE Cross-Validation: 2.8632305198037127\n"
        ]
       }
      ],
      "source": [
       "lin_reg = LinearRegression()\n",
       "lin_reg.fit(X_train, y_train)\n",
       "predictions = lin_reg.predict(X_test)\n",
       "\n",
       "mae, mse, rmse, r_squared, adj_r2 = evaluation(y_test, predictions)\n",
       "print(\"MAE:\", mae)\n",
       "print(\"MSE:\", mse)\n",
       "print(\"RMSE:\", rmse)\n",
       "print(\"R2 Score:\", r_squared)\n",
       "print(\"Adj. R2 Score:\", adj_r2)\n",
       "print(\"-\"*30)\n",
       "rmse_cross_val = rmse_cv(lin_reg)\n",
       "print(\"RMSE Cross-Validation:\", rmse_cross_val)\n",
       "\n",
       "new_row = {\"Model\": \"LinearRegression\",\"MAE\": mae, \"MSE\": mse, \"RMSE\": rmse, \"R2 Score\": r_squared, \"Adj. R2 Score\": adj_r2, \"RMSE (Cross-Validation)\": rmse_cross_val}\n",
       "models = models.append(new_row, ignore_index=True)"
      ]
     },
     {
      "cell_type": "markdown",
      "id": "180e327e",
      "metadata": {},
      "source": [
       "## Ridge Regression"
      ]
     },
     {
      "cell_type": "code",
      "execution_count": 46,
      "id": "79f749a0",
      "metadata": {},
      "outputs": [
       {
        "name": "stdout",
        "output_type": "stream",
        "text": [
         "MAE: 2.187535838516722\n",
         "MSE: 8.186901259659997\n",
         "RMSE: 2.8612761592792815\n",
         "R2 Score: 0.835080611855002\n",
         "Adj. R2 Score: 0.8350445808641968\n",
         "------------------------------\n",
         "RMSE Cross-Validation: 2.863230518979775\n"
        ]
       }
      ],
      "source": [
       "ridge = Ridge()\n",
       "ridge.fit(X_train, y_train)\n",
       "predictions = ridge.predict(X_test)\n",
       "\n",
       "mae, mse, rmse, r_squared, adj_r2 = evaluation(y_test, predictions)\n",
       "print(\"MAE:\", mae)\n",
       "print(\"MSE:\", mse)\n",
       "print(\"RMSE:\", rmse)\n",
       "print(\"R2 Score:\", r_squared)\n",
       "print(\"Adj. R2 Score:\", adj_r2)\n",
       "print(\"-\"*30)\n",
       "rmse_cross_val = rmse_cv(ridge)\n",
       "print(\"RMSE Cross-Validation:\", rmse_cross_val)\n",
       "\n",
       "new_row = {\"Model\": \"Ridge\",\"MAE\": mae, \"MSE\": mse, \"RMSE\": rmse, \"R2 Score\": r_squared, \"Adj. R2 Score\": adj_r2, \"RMSE (Cross-Validation)\": rmse_cross_val}\n",
       "models = models.append(new_row, ignore_index=True)"
      ]
     },
     {
      "cell_type": "markdown",
      "id": "fe298520",
      "metadata": {},
      "source": [
       "## Lasso Regression"
      ]
     },
     {
      "cell_type": "code",
      "execution_count": 47,
      "id": "a0765c7a",
      "metadata": {},
      "outputs": [
       {
        "name": "stdout",
        "output_type": "stream",
        "text": [
         "MAE: 2.1947691581597826\n",
         "MSE: 8.28217047833723\n",
         "RMSE: 2.8778760359572875\n",
         "R2 Score: 0.8331614802134958\n",
         "Adj. R2 Score: 0.833125029937758\n",
         "------------------------------\n",
         "RMSE Cross-Validation: 2.880146311248193\n"
        ]
       }
      ],
      "source": [
       "lasso = Lasso()\n",
       "lasso.fit(X_train, y_train)\n",
       "predictions = lasso.predict(X_test)\n",
       "\n",
       "mae, mse, rmse, r_squared, adj_r2 = evaluation(y_test, predictions)\n",
       "print(\"MAE:\", mae)\n",
       "print(\"MSE:\", mse)\n",
       "print(\"RMSE:\", rmse)\n",
       "print(\"R2 Score:\", r_squared)\n",
       "print(\"Adj. R2 Score:\", adj_r2)\n",
       "print(\"-\"*30)\n",
       "rmse_cross_val = rmse_cv(lasso)\n",
       "print(\"RMSE Cross-Validation:\", rmse_cross_val)\n",
       "\n",
       "new_row = {\"Model\": \"Lasso\",\"MAE\": mae, \"MSE\": mse, \"RMSE\": rmse, \"R2 Score\": r_squared, \"Adj. R2 Score\": adj_r2, \"RMSE (Cross-Validation)\": rmse_cross_val}\n",
       "models = models.append(new_row, ignore_index=True)"
      ]
     },
     {
      "cell_type": "markdown",
      "id": "772fe1d8",
      "metadata": {},
      "source": [
       "## ElasticNet "
      ]
     },
     {
      "cell_type": "code",
      "execution_count": 48,
      "id": "3e46c052",
      "metadata": {},
      "outputs": [
       {
        "name": "stdout",
        "output_type": "stream",
        "text": [
         "MAE: 2.188230137332932\n",
         "MSE: 8.214934287403063\n",
         "RMSE: 2.86617066613331\n",
         "R2 Score: 0.8345159061578639\n",
         "Adj. R2 Score: 0.8344797517922025\n",
         "------------------------------\n",
         "RMSE Cross-Validation: 2.8682424482928384\n"
        ]
       }
      ],
      "source": [
       "elastic_net = ElasticNet()\n",
       "elastic_net.fit(X_train, y_train)\n",
       "predictions = elastic_net.predict(X_test)\n",
       "\n",
       "mae, mse, rmse, r_squared, adj_r2 = evaluation(y_test, predictions)\n",
       "print(\"MAE:\", mae)\n",
       "print(\"MSE:\", mse)\n",
       "print(\"RMSE:\", rmse)\n",
       "print(\"R2 Score:\", r_squared)\n",
       "print(\"Adj. R2 Score:\", adj_r2)\n",
       "print(\"-\"*30)\n",
       "rmse_cross_val = rmse_cv(elastic_net)\n",
       "print(\"RMSE Cross-Validation:\", rmse_cross_val)\n",
       "\n",
       "new_row = {\"Model\": \"ElasticNet\",\"MAE\": mae, \"MSE\": mse, \"RMSE\": rmse, \"R2 Score\": r_squared, \"Adj. R2 Score\": adj_r2, \"RMSE (Cross-Validation)\": rmse_cross_val}\n",
       "models = models.append(new_row, ignore_index=True)"
      ]
     },
     {
      "cell_type": "markdown",
      "id": "0368e399",
      "metadata": {},
      "source": [
       "## RandomForestRegressor"
      ]
     },
     {
      "cell_type": "code",
      "execution_count": 49,
      "id": "75d5e5d3",
      "metadata": {},
      "outputs": [
       {
        "name": "stdout",
        "output_type": "stream",
        "text": [
         "MAE: 0.6510087263655396\n",
         "MSE: 1.2725479836431555\n",
         "RMSE: 1.1280726854432543\n",
         "R2 Score: 0.9743654127256085\n",
         "Adj. R2 Score: 0.9743598121737949\n",
         "------------------------------\n",
         "RMSE Cross-Validation: 1.8363026998648806\n"
        ]
       }
      ],
      "source": [
       "random_forest = RandomForestRegressor(n_estimators=100)\n",
       "random_forest.fit(X_train, y_train)\n",
       "predictions = random_forest.predict(X_test)\n",
       "\n",
       "mae, mse, rmse, r_squared, adj_r2 = evaluation(y_test, predictions)\n",
       "print(\"MAE:\", mae)\n",
       "print(\"MSE:\", mse)\n",
       "print(\"RMSE:\", rmse)\n",
       "print(\"R2 Score:\", r_squared)\n",
       "print(\"Adj. R2 Score:\", adj_r2)\n",
       "print(\"-\"*30)\n",
       "rmse_cross_val = rmse_cv(random_forest)\n",
       "print(\"RMSE Cross-Validation:\", rmse_cross_val)\n",
       "\n",
       "new_row = {\"Model\": \"RandomForestRegressor\",\"MAE\": mae, \"MSE\": mse, \"RMSE\": rmse, \"R2 Score\": r_squared, \"Adj. R2 Score\": adj_r2, \"RMSE (Cross-Validation)\": rmse_cross_val}\n",
       "models = models.append(new_row, ignore_index=True)"
      ]
     },
     {
      "cell_type": "markdown",
      "id": "eccf02dd",
      "metadata": {},
      "source": [
       "## XGBoostRegressor"
      ]
     },
     {
      "cell_type": "code",
      "execution_count": 50,
      "id": "522a76c6",
      "metadata": {},
      "outputs": [
       {
        "name": "stdout",
        "output_type": "stream",
        "text": [
         "MAE: 1.2226960781647405\n",
         "MSE: 2.809932347640984\n",
         "RMSE: 1.676285282295643\n",
         "R2 Score: 0.943395882177644\n",
         "Adj. R2 Score: 0.9433835155149264\n",
         "------------------------------\n",
         "RMSE Cross-Validation: 1.7740895911912886\n"
        ]
       }
      ],
      "source": [
       "xgb = XGBRegressor(n_estimators=1000, learning_rate=0.01)\n",
       "xgb.fit(X_train, y_train)\n",
       "predictions = xgb.predict(X_test)\n",
       "\n",
       "mae, mse, rmse, r_squared, adj_r2 = evaluation(y_test, predictions)\n",
       "print(\"MAE:\", mae)\n",
       "print(\"MSE:\", mse)\n",
       "print(\"RMSE:\", rmse)\n",
       "print(\"R2 Score:\", r_squared)\n",
       "print(\"Adj. R2 Score:\", adj_r2)\n",
       "print(\"-\"*30)\n",
       "rmse_cross_val = rmse_cv(xgb)\n",
       "print(\"RMSE Cross-Validation:\", rmse_cross_val)\n",
       "\n",
       "new_row = {\"Model\": \"XGBRegressor\",\"MAE\": mae, \"MSE\": mse, \"RMSE\": rmse, \"R2 Score\": r_squared, \"Adj. R2 Score\": adj_r2, \"RMSE (Cross-Validation)\": rmse_cross_val}\n",
       "models = models.append(new_row, ignore_index=True)"
      ]
     },
     {
      "cell_type": "markdown",
      "id": "1e3908ea",
      "metadata": {},
      "source": [
       "## Model Comparison"
      ]
     },
     {
      "cell_type": "code",
      "execution_count": 51,
      "id": "b0c9a904",
      "metadata": {},
      "outputs": [
       {
        "data": {
         "text/html": [
          "<div>\n",
          "<style scoped>\n",
          "    .dataframe tbody tr th:only-of-type {\n",
          "        vertical-align: middle;\n",
          "    }\n",
          "\n",
          "    .dataframe tbody tr th {\n",
          "        vertical-align: top;\n",
          "    }\n",
          "\n",
          "    .dataframe thead th {\n",
          "        text-align: right;\n",
          "    }\n",
          "</style>\n",
          "<table border=\"1\" class=\"dataframe\">\n",
          "  <thead>\n",
          "    <tr style=\"text-align: right;\">\n",
          "      <th></th>\n",
          "      <th>Model</th>\n",
          "      <th>MAE</th>\n",
          "      <th>MSE</th>\n",
          "      <th>RMSE</th>\n",
          "      <th>R2 Score</th>\n",
          "      <th>Adj. R2 Score</th>\n",
          "      <th>RMSE (Cross-Validation)</th>\n",
          "    </tr>\n",
          "  </thead>\n",
          "  <tbody>\n",
          "    <tr>\n",
          "      <th>5</th>\n",
          "      <td>XGBRegressor</td>\n",
          "      <td>1.222696</td>\n",
          "      <td>2.809932</td>\n",
          "      <td>1.676285</td>\n",
          "      <td>0.943396</td>\n",
          "      <td>0.943384</td>\n",
          "      <td>1.774090</td>\n",
          "    </tr>\n",
          "    <tr>\n",
          "      <th>4</th>\n",
          "      <td>RandomForestRegressor</td>\n",
          "      <td>0.651009</td>\n",
          "      <td>1.272548</td>\n",
          "      <td>1.128073</td>\n",
          "      <td>0.974365</td>\n",
          "      <td>0.974360</td>\n",
          "      <td>1.836303</td>\n",
          "    </tr>\n",
          "    <tr>\n",
          "      <th>1</th>\n",
          "      <td>Ridge</td>\n",
          "      <td>2.187536</td>\n",
          "      <td>8.186901</td>\n",
          "      <td>2.861276</td>\n",
          "      <td>0.835081</td>\n",
          "      <td>0.835045</td>\n",
          "      <td>2.863231</td>\n",
          "    </tr>\n",
          "    <tr>\n",
          "      <th>0</th>\n",
          "      <td>LinearRegression</td>\n",
          "      <td>2.187536</td>\n",
          "      <td>8.186901</td>\n",
          "      <td>2.861276</td>\n",
          "      <td>0.835081</td>\n",
          "      <td>0.835045</td>\n",
          "      <td>2.863231</td>\n",
          "    </tr>\n",
          "    <tr>\n",
          "      <th>3</th>\n",
          "      <td>ElasticNet</td>\n",
          "      <td>2.188230</td>\n",
          "      <td>8.214934</td>\n",
          "      <td>2.866171</td>\n",
          "      <td>0.834516</td>\n",
          "      <td>0.834480</td>\n",
          "      <td>2.868242</td>\n",
          "    </tr>\n",
          "    <tr>\n",
          "      <th>2</th>\n",
          "      <td>Lasso</td>\n",
          "      <td>2.194769</td>\n",
          "      <td>8.282170</td>\n",
          "      <td>2.877876</td>\n",
          "      <td>0.833161</td>\n",
          "      <td>0.833125</td>\n",
          "      <td>2.880146</td>\n",
          "    </tr>\n",
          "  </tbody>\n",
          "</table>\n",
          "</div>"
         ],
         "text/plain": [
          "                   Model       MAE       MSE      RMSE  R2 Score  \\\n",
          "5           XGBRegressor  1.222696  2.809932  1.676285  0.943396   \n",
          "4  RandomForestRegressor  0.651009  1.272548  1.128073  0.974365   \n",
          "1                  Ridge  2.187536  8.186901  2.861276  0.835081   \n",
          "0       LinearRegression  2.187536  8.186901  2.861276  0.835081   \n",
          "3             ElasticNet  2.188230  8.214934  2.866171  0.834516   \n",
          "2                  Lasso  2.194769  8.282170  2.877876  0.833161   \n",
          "\n",
          "   Adj. R2 Score  RMSE (Cross-Validation)  \n",
          "5       0.943384                 1.774090  \n",
          "4       0.974360                 1.836303  \n",
          "1       0.835045                 2.863231  \n",
          "0       0.835045                 2.863231  \n",
          "3       0.834480                 2.868242  \n",
          "2       0.833125                 2.880146  "
         ]
        },
        "execution_count": 51,
        "metadata": {},
        "output_type": "execute_result"
       }
      ],
      "source": [
       "models.sort_values(by=\"RMSE (Cross-Validation)\")"
      ]
     },
     {
      "cell_type": "code",
      "execution_count": 52,
      "id": "45b19e1f",
      "metadata": {},
      "outputs": [
       {
        "data": {
         "image/png": "[encoded data removed]",
         "text/plain": [
          "<Figure size 1200x800 with 1 Axes>"
         ]
        },
        "metadata": {},
        "output_type": "display_data"
       }
      ],
      "source": [
       "plt.figure(figsize=(12,8))\n",
       "sns.barplot(x=models[\"Model\"], y=models[\"Adj. R2 Score\"])\n",
       "plt.title(\"Models' Adjusted R2 Score\", size=15)\n",
       "plt.xticks(rotation=30, size=12)\n",
       "plt.show()"
      ]
     },
     {
      "cell_type": "markdown",
      "id": "440cb686",
      "metadata": {},
      "source": [
       "## Model Selected : Random Forest Regressor"
      ]
     },
     {
      "cell_type": "code",
      "execution_count": 53,
      "id": "10324491",
      "metadata": {},
      "outputs": [],
      "source": [
       "y_test=pd.DataFrame(y_test)\n",
       "y_test=y_test.reset_index()\n",
       "y_test=y_test.drop(['index'],axis=1)"
      ]
     },
     {
      "cell_type": "code",
      "execution_count": 54,
      "id": "2e7e777c",
      "metadata": {},
      "outputs": [],
      "source": [
       "predictions = random_forest.predict(X_test)\n",
       "b=pd.DataFrame(predictions,columns=['Predictions'])"
      ]
     },
     {
      "cell_type": "code",
      "execution_count": 55,
      "id": "a9732da6",
      "metadata": {},
      "outputs": [
       {
        "data": {
         "text/plain": [
          "Text(0, 0.5, 'Predicted Y')"
         ]
        },
        "execution_count": 55,
        "metadata": {},
        "output_type": "execute_result"
       },
       {
        "data": {
         "image/png": "[encoded data removed]",
         "text/plain": [
          "<Figure size 640x480 with 1 Axes>"
         ]
        },
        "metadata": {},
        "output_type": "display_data"
       }
      ],
      "source": [
       "plt.scatter(y_test,b)\n",
       "plt.xlabel('Y Test')\n",
       "plt.ylabel('Predicted Y')"
      ]
     },
     {
      "cell_type": "code",
      "execution_count": 56,
      "id": "2ded722d",
      "metadata": {},
      "outputs": [
       {
        "data": {
         "text/html": [
          "<div>\n",
          "<style scoped>\n",
          "    .dataframe tbody tr th:only-of-type {\n",
          "        vertical-align: middle;\n",
          "    }\n",
          "\n",
          "    .dataframe tbody tr th {\n",
          "        vertical-align: top;\n",
          "    }\n",
          "\n",
          "    .dataframe thead th {\n",
          "        text-align: right;\n",
          "    }\n",
          "</style>\n",
          "<table border=\"1\" class=\"dataframe\">\n",
          "  <thead>\n",
          "    <tr style=\"text-align: right;\">\n",
          "      <th></th>\n",
          "      <th>overall_rating</th>\n",
          "      <th>Predictions</th>\n",
          "    </tr>\n",
          "  </thead>\n",
          "  <tbody>\n",
          "    <tr>\n",
          "      <th>0</th>\n",
          "      <td>61.0</td>\n",
          "      <td>61.0</td>\n",
          "    </tr>\n",
          "    <tr>\n",
          "      <th>1</th>\n",
          "      <td>63.0</td>\n",
          "      <td>66.0</td>\n",
          "    </tr>\n",
          "    <tr>\n",
          "      <th>2</th>\n",
          "      <td>82.0</td>\n",
          "      <td>77.0</td>\n",
          "    </tr>\n",
          "    <tr>\n",
          "      <th>3</th>\n",
          "      <td>75.0</td>\n",
          "      <td>75.0</td>\n",
          "    </tr>\n",
          "    <tr>\n",
          "      <th>4</th>\n",
          "      <td>64.0</td>\n",
          "      <td>64.0</td>\n",
          "    </tr>\n",
          "    <tr>\n",
          "      <th>...</th>\n",
          "      <td>...</td>\n",
          "      <td>...</td>\n",
          "    </tr>\n",
          "    <tr>\n",
          "      <th>59512</th>\n",
          "      <td>68.0</td>\n",
          "      <td>69.0</td>\n",
          "    </tr>\n",
          "    <tr>\n",
          "      <th>59513</th>\n",
          "      <td>71.0</td>\n",
          "      <td>71.0</td>\n",
          "    </tr>\n",
          "    <tr>\n",
          "      <th>59514</th>\n",
          "      <td>69.0</td>\n",
          "      <td>69.0</td>\n",
          "    </tr>\n",
          "    <tr>\n",
          "      <th>59515</th>\n",
          "      <td>61.0</td>\n",
          "      <td>61.0</td>\n",
          "    </tr>\n",
          "    <tr>\n",
          "      <th>59516</th>\n",
          "      <td>60.0</td>\n",
          "      <td>61.0</td>\n",
          "    </tr>\n",
          "  </tbody>\n",
          "</table>\n",
          "<p>59517 rows × 2 columns</p>\n",
          "</div>"
         ],
         "text/plain": [
          "       overall_rating  Predictions\n",
          "0                61.0         61.0\n",
          "1                63.0         66.0\n",
          "2                82.0         77.0\n",
          "3                75.0         75.0\n",
          "4                64.0         64.0\n",
          "...               ...          ...\n",
          "59512            68.0         69.0\n",
          "59513            71.0         71.0\n",
          "59514            69.0         69.0\n",
          "59515            61.0         61.0\n",
          "59516            60.0         61.0\n",
          "\n",
          "[59517 rows x 2 columns]"
         ]
        },
        "execution_count": 56,
        "metadata": {},
        "output_type": "execute_result"
       }
      ],
      "source": [
       "pd.concat([y_test,b['Predictions'].apply(np.ceil)], axis=1)"
      ]
     },
     {
      "cell_type": "code",
      "execution_count": 57,
      "id": "8ecdcc8e",
      "metadata": {},
      "outputs": [
       {
        "name": "stdout",
        "output_type": "stream",
        "text": [
         "Accuracy on the Train data is 99.56 % for our Random Forest Regression model.\n",
         "Accuracy on the Test data is 97.44 % for our Random Forest Regression model.\n"
        ]
       }
      ],
      "source": [
       "print(\"Accuracy on the Train data is {} % for our Random Forest Regression model.\".format(np.round(100*r2_score(y_train,random_forest.predict(X_train)),decimals=2)))\n",
       "print(\"Accuracy on the Test data is {} % for our Random Forest Regression model.\".format(np.round(100*r2_score(y_test,random_forest.predict(X_test)),decimals=2)))"
      ]
     },
     {
      "cell_type": "markdown",
      "id": "6c24a2ed",
      "metadata": {},
      "source": [
       "## Serialization"
      ]
     },
     {
      "cell_type": "code",
      "execution_count": 63,
      "id": "e901f919",
      "metadata": {},
      "outputs": [],
      "source": [
       "from pickle import dump\n",
       "dump(random_forest,open('../model.pkl','wb'))"
      ]
     },
     {
      "cell_type": "code",
      "execution_count": 70,
      "id": "f75638e1",
      "metadata": {},
      "outputs": [
       {
        "data": {
         "text/plain": [
          "66.4"
         ]
        },
        "execution_count": 70,
        "metadata": {},
        "output_type": "execute_result"
       }
      ],
      "source": [
       "from pickle import load\n",
       "x_input=[71.0,44.0,71.0,51.0,49.0,47.0,55.0,76.0,71.0,65.0,6.0,10.0,8.0]\n",
       "            \n",
       "filename = '../model.pkl'\n",
       "loaded_model = load(open(filename, 'rb')) # loading the model file\n",
       "      \n",
       "prediction=loaded_model.predict([x_input])[0]\n",
       "\n",
       "prediction"
      ]
     },
     {
      "cell_type": "code",
      "execution_count": null,
      "id": "00fc7029",
      "metadata": {},
      "outputs": [],
      "source": []
     }
    ],
    "metadata": {
     "kernelspec": {
      "display_name": "Python 3.8.13",
      "language": "python",
      "name": "python3"
     },
     "language_info": {
      "codemirror_mode": {
       "name": "ipython",
       "version": 3
      },
      "file_extension": ".py",
      "mimetype": "text/x-python",
      "name": "python",
      "nbconvert_exporter": "python",
      "pygments_lexer": "ipython3",
      "version": "3.8.13"
     },
     "vscode": {
      "interpreter": {
       "hash": "04b712ca36e401b76a755824aaa2789c99ae38b4704913c584592f3637e37301"
      }
     }
    },
    "nbformat": 4,
    "nbformat_minor": 5
   }